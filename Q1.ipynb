{
 "cells": [
  {
   "cell_type": "code",
   "execution_count": 5,
   "id": "e0bcb4e5-25cf-40a5-8f1e-3b5038894045",
   "metadata": {},
   "outputs": [],
   "source": [
    "def move_zeroes_to_last(nums):\n",
    "# Count the number of zeros\n",
    "    count_0 = nums.count(0)\n",
    "# Remove the zeros from the list\n",
    "    nums = [num for num in nums if num != 0]\n",
    "# Append the zeros at the end of the list\n",
    "    nums.extend([0] * count_0)\n",
    "\n",
    "    return nums\n"
   ]
  },
  {
   "cell_type": "code",
   "execution_count": 6,
   "id": "dcabb972-a8dc-46a9-b16c-2e1e65a8bc3c",
   "metadata": {},
   "outputs": [
    {
     "data": {
      "text/plain": [
       "[1, 3, 12, 0, 0]"
      ]
     },
     "execution_count": 6,
     "metadata": {},
     "output_type": "execute_result"
    }
   ],
   "source": [
    "nums = [0,1,0,3,12]\n",
    "move_zeroes_to_last(nums)"
   ]
  },
  {
   "cell_type": "code",
   "execution_count": 7,
   "id": "92654a34-4688-497e-b4db-a06c7cc6b267",
   "metadata": {},
   "outputs": [
    {
     "data": {
      "text/plain": [
       "[0]"
      ]
     },
     "execution_count": 7,
     "metadata": {},
     "output_type": "execute_result"
    }
   ],
   "source": [
    "nums = [0]\n",
    "move_zeroes_to_last(nums)"
   ]
  },
  {
   "cell_type": "code",
   "execution_count": null,
   "id": "4375cf72-10a3-4807-9ea2-08ed1b70e6e1",
   "metadata": {},
   "outputs": [],
   "source": []
  }
 ],
 "metadata": {
  "kernelspec": {
   "display_name": "Python 3 (ipykernel)",
   "language": "python",
   "name": "python3"
  },
  "language_info": {
   "codemirror_mode": {
    "name": "ipython",
    "version": 3
   },
   "file_extension": ".py",
   "mimetype": "text/x-python",
   "name": "python",
   "nbconvert_exporter": "python",
   "pygments_lexer": "ipython3",
   "version": "3.10.6"
  }
 },
 "nbformat": 4,
 "nbformat_minor": 5
}
