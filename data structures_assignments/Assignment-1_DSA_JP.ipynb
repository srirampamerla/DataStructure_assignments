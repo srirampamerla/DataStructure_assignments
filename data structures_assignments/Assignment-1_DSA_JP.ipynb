{
 "cells": [
  {
   "cell_type": "markdown",
   "id": "bef09171-bb05-4911-8a5c-e3665f7ca195",
   "metadata": {},
   "source": [
    "\n",
    "**Q1.** Given an array of integers nums and an integer target, return indices of the two numbers such that they add up to target.\n",
    "\n",
    "You may assume that each input would have exactly one solution, and you may not use the same element twice.\n",
    "\n",
    "You can return the answer in any order.\n",
    "\n",
    "**Example:**\n",
    "Input: nums = [2,7,11,15], target = 9\n",
    "Output0 [0,1]\n",
    "\n",
    "**Explanation:** Because nums[0] + nums[1] == 9, we return [0, 1][\n",
    "\n"
   ]
  },
  {
   "cell_type": "code",
   "execution_count": 33,
   "id": "fb668b14-bac6-49ac-a720-77c3d580789a",
   "metadata": {},
   "outputs": [
    {
     "name": "stdin",
     "output_type": "stream",
     "text": [
      "enter the target value: 9\n"
     ]
    },
    {
     "data": {
      "text/plain": [
       "[0, 1]"
      ]
     },
     "execution_count": 33,
     "metadata": {},
     "output_type": "execute_result"
    }
   ],
   "source": [
    "class Matrixadd:\n",
    "    def Sum(nums,target):\n",
    "            for i in range(len(nums)):\n",
    "                for j in range(i+1, len(nums)):\n",
    "                    if nums[i] + nums[j] == target:\n",
    "                        return [i, j]\n",
    "nums=[2,7,11,15]\n",
    "target=int(input('enter the target value:'))\n",
    "Sum(nums,target)\n"
   ]
  },
  {
   "cell_type": "markdown",
   "id": "d85fdcf1-a4a4-4ccb-b62e-a0f09da02649",
   "metadata": {},
   "source": [
    "**Q2.** Given an integer array nums and an integer val, remove all occurrences of val in nums in-place. The order of the elements may be changed. Then return the number of elements in nums which are not equal to val.\n",
    "\n",
    "Consider the number of elements in nums which are not equal to val be k, to get accepted, you need to do the following things:\n",
    "\n",
    "- Change the array nums such that the first k elements of nums contain the elements which are not equal to val. The remaining elements of nums are not important as well as the size of nums.\n",
    "- Return k.\n",
    "\n",
    "**Example :**\n",
    "Input: nums = [3,2,2,3], val = 3\n",
    "Output: 2, nums = [2,2,_*,_*]\n",
    "\n",
    "**Explanation:** Your function should return k = 2, with the first two elements of nums being 2. It does not matter what you leave beyond the returned k (hence they are underscores)"
   ]
  },
  {
   "cell_type": "code",
   "execution_count": 74,
   "id": "3663bea9-6dd3-4e4f-b335-47765581f8e2",
   "metadata": {},
   "outputs": [],
   "source": [
    "def Remove_e(nums, val):\n",
    "        c1=0\n",
    "\n",
    "        for i in range(len(nums)):\n",
    "            if nums[i] != val:\n",
    "                nums[c1] = nums[i]\n",
    "                c1 += 1\n",
    "        return c1\n"
   ]
  },
  {
   "cell_type": "code",
   "execution_count": 75,
   "id": "f2c40c25-fed9-469c-80fa-2d90b03ff8f7",
   "metadata": {},
   "outputs": [
    {
     "data": {
      "text/plain": [
       "2"
      ]
     },
     "execution_count": 75,
     "metadata": {},
     "output_type": "execute_result"
    }
   ],
   "source": [
    "nums = [3,2,2,3]\n",
    "val = 3\n",
    "Remove_e(nums,val)"
   ]
  },
  {
   "cell_type": "markdown",
   "id": "b77bc525-3b12-4dea-8b21-e1245fa02cf8",
   "metadata": {},
   "source": [
    "**Q3.** Given a sorted array of distinct integers and a target value, return the index if the target is found. If not, return the index where it would be if it were inserted in order.\n",
    "\n",
    "You must write an algorithm with O(log n) runtime complexity.\n",
    "\n",
    "**Example 1:**\n",
    "Input: nums = [1,3,5,6], target = 5\n",
    "\n",
    "Output: 2"
   ]
  },
  {
   "cell_type": "code",
   "execution_count": 124,
   "id": "4b2bcdf0-a719-42c8-9b4f-11fe207f9826",
   "metadata": {},
   "outputs": [],
   "source": [
    "def search_element(nums,target):\n",
    "        left=0\n",
    "        right=len(nums)-1\n",
    "        while(left<=right):\n",
    "            mid = int((left+right)/2)\n",
    "            if(nums[mid]==target):\n",
    "                return mid\n",
    "                \n",
    "            elif(nums[mid] > target):\n",
    "                right=mid-1\n",
    "                \n",
    "            else:\n",
    "                left=mid+1\n",
    "        return left"
   ]
  },
  {
   "cell_type": "code",
   "execution_count": 125,
   "id": "cbdcbfd7-d83a-4dd3-9bfd-5146b01c9d63",
   "metadata": {},
   "outputs": [
    {
     "data": {
      "text/plain": [
       "2"
      ]
     },
     "execution_count": 125,
     "metadata": {},
     "output_type": "execute_result"
    }
   ],
   "source": [
    "nums = [1,3,5,6]\n",
    "target = 5\n",
    "search_element(nums,target)"
   ]
  },
  {
   "cell_type": "markdown",
   "id": "ed2d9c20-33cc-482d-a6b5-bf436bdfa2c2",
   "metadata": {},
   "source": [
    "**Q4.** You are given a large integer represented as an integer array digits, where each digits[i] is the ith digit of the integer. The digits are ordered from most significant to least significant in left-to-right order. The large integer does not contain any leading 0's.\n",
    "\n",
    "Increment the large integer by one and return the resulting array of digits.\n",
    "\n",
    "**Example 1:**\n",
    "Input: digits = [1,2,3]\n",
    "Output: [1,2,4]\n",
    "\n",
    "**Explanation:** The array represents the integer 123.\n",
    "\n",
    "Incrementing by one gives 123 + 1 = 124.\n",
    "Thus, the result should be [1,2,4].\n"
   ]
  },
  {
   "cell_type": "code",
   "execution_count": 163,
   "id": "84f9073d-94fe-4d18-9b5a-798e64b770d6",
   "metadata": {},
   "outputs": [],
   "source": [
    "def add_digit(digits):\n",
    "    result=0\n",
    "    digits=[str(digit) for digit in digits] #converting all digits into str(typecast)\n",
    "    num=''.join(digits)# removing spaces or , combining digits\n",
    "    print(num)\n",
    "    result+=int(num)+1\n",
    "    print(result)\n",
    "    lst=(list(str(result)))\n",
    "    results=[int(i) for i in lst]\n",
    "    return results\n",
    "    \n",
    "    "
   ]
  },
  {
   "cell_type": "code",
   "execution_count": 164,
   "id": "274cf691-2c8e-43e4-8826-50fd1359c888",
   "metadata": {},
   "outputs": [
    {
     "name": "stdout",
     "output_type": "stream",
     "text": [
      "129\n",
      "130\n"
     ]
    },
    {
     "data": {
      "text/plain": [
       "[1, 3, 0]"
      ]
     },
     "execution_count": 164,
     "metadata": {},
     "output_type": "execute_result"
    }
   ],
   "source": [
    "digits = [1,2,9]\n",
    "add_digit(digits)"
   ]
  },
  {
   "cell_type": "markdown",
   "id": "37dba0cc-a9ac-439a-8743-c9dfff46be7e",
   "metadata": {},
   "source": [
    "**Q5.** You are given two integer arrays nums1 and nums2, sorted in non-decreasing order, and two integers m and n, representing the number of elements in nums1 and nums2 respectively.\n",
    "\n",
    "Merge nums1 and nums2 into a single array sorted in non-decreasing order.\n",
    "\n",
    "The final sorted array should not be returned by the function, but instead be stored inside the array nums1. To accommodate this, nums1 has a length of m + n, where the first m elements denote the elements that should be merged, and the last n elements are set to 0 and should be ignored. nums2 has a length of n.\n",
    "\n",
    "**Example 1:**\n",
    "Input: nums1 = [1,2,3,0,0,0], m = 3, nums2 = [2,5,6], n = 3\n",
    "Output: [1,2,2,3,5,6]\n",
    "\n",
    "**Explanation:** The arrays we are merging are [1,2,3] and [2,5,6].\n",
    "The result of the merge is [1,2,2,3,5,6] with the underlined elements coming from nums1.\n"
   ]
  },
  {
   "cell_type": "code",
   "execution_count": 246,
   "id": "2206e318-6181-4df0-b686-14fd99ffd1e5",
   "metadata": {},
   "outputs": [],
   "source": [
    "def merge(nums1,nums2,m,n):\n",
    "    nums1copy=nums1[:m]\n",
    "    for i in range(m):\n",
    "        nums1copy[i]=nums[i]\n",
    "        i+=1\n",
    "    P1,P2=0,0\n",
    "    p=0\n",
    "    for p in range(n):\n",
    "        if (P2 >=n or (P1 < m and nums1copy[P1]<nums2[P2])): # if p1 element is less than p2 print the p1 element and p1 will increase\n",
    "            nums1[p]=nums1copy[P1]\n",
    "            P1+=1\n",
    "        else:\n",
    "            nums1[p]=nums2[P2]\n",
    "            P2+=1\n",
    "        p+=1\n"
   ]
  },
  {
   "cell_type": "code",
   "execution_count": 247,
   "id": "9fea5fce-6e5b-40fb-89ef-6c4db044ac1c",
   "metadata": {},
   "outputs": [],
   "source": [
    "nums1 = [1,2,3,0,0,0]\n",
    "m = 3\n",
    "nums2 = [2,5,6]\n",
    "n = 3\n",
    "merge(nums1,nums2,m,n)"
   ]
  },
  {
   "cell_type": "markdown",
   "id": "cdfcbf98-ff56-4d5d-be84-29a61687e009",
   "metadata": {},
   "source": [
    "**Q6.** Given an integer array nums, return true if any value appears at least twice in the array, and return false if every element is distinct.\n",
    "\n",
    "**Example 1:**\n",
    "Input: nums = [1,2,3,1]\n",
    "\n",
    "Output: true\n"
   ]
  },
  {
   "cell_type": "code",
   "execution_count": 259,
   "id": "3c0ce73a-a3e7-47bd-8650-31bb81718e7c",
   "metadata": {},
   "outputs": [
    {
     "name": "stdout",
     "output_type": "stream",
     "text": [
      "1\n",
      "2\n",
      "3\n"
     ]
    },
    {
     "data": {
      "text/plain": [
       "True"
      ]
     },
     "execution_count": 259,
     "metadata": {},
     "output_type": "execute_result"
    }
   ],
   "source": [
    "def find_dup(nums):\n",
    "    hset=set()\n",
    "    for i in nums:\n",
    "        if i in hset:\n",
    "            return True\n",
    "        else:\n",
    "            print(i)\n",
    "            hset.add(i) # if element matches with it will retuen true\n",
    "nums = [1,2,3,1]\n",
    "find_dup(nums)"
   ]
  },
  {
   "cell_type": "markdown",
   "id": "6eb28a16-545e-40af-98ed-614db39c3139",
   "metadata": {},
   "source": [
    "**Q7.** Given an integer array nums, move all 0's to the end of it while maintaining the relative order of the nonzero elements.\n",
    "\n",
    "Note that you must do this in-place without making a copy of the array.\n",
    "\n",
    "**Example 1:**\n",
    "Input: nums = [0,1,0,3,12]\n",
    "Output: [1,3,12,0,0]\n"
   ]
  },
  {
   "cell_type": "code",
   "execution_count": 265,
   "id": "341d9f4b-78ef-4932-928e-641f1ab11aa4",
   "metadata": {},
   "outputs": [
    {
     "data": {
      "text/plain": [
       "[1, 3, 12, 0, 0]"
      ]
     },
     "execution_count": 265,
     "metadata": {},
     "output_type": "execute_result"
    }
   ],
   "source": [
    "def zerolast(nums):\n",
    "    i=0\n",
    "    j=0\n",
    "    for i in range(len(nums)):\n",
    "        if (nums[i]!=0):\n",
    "            nums[j]=nums[i]\n",
    "            j+=1\n",
    "    while(j<len(nums)):\n",
    "        nums[j]=0\n",
    "        j+=1\n",
    "    return nums\n",
    "nums = [0,1,0,3,12]\n",
    "zerolast(nums)\n",
    "            \n",
    "            "
   ]
  },
  {
   "cell_type": "markdown",
   "id": "0266b619-82ed-4410-8d78-5701cdebcf50",
   "metadata": {},
   "source": [
    "**Q8.** You have a set of integers s, which originally contains all the numbers from 1 to n. Unfortunately, due to some error, one of the numbers in s got duplicated to another number in the set, which results in repetition of one number and loss of another number.\n",
    "\n",
    "You are given an integer array nums representing the data status of this set after the error.\n",
    "\n",
    "Find the number that occurs twice and the number that is missing and return them in the form of an array.\n",
    "\n",
    "**Example 1:**\n",
    "Input: nums = [1,2,2,4]\n",
    "Output: [2,3]\n",
    "\n"
   ]
  },
  {
   "cell_type": "code",
   "execution_count": 340,
   "id": "cc0f221e-5124-4a88-bc2a-1278cb09f8a1",
   "metadata": {},
   "outputs": [],
   "source": [
    "def Error(nums):\n",
    "    for i in range(len(nums)):\n",
    "        for j in range(i+1, len(nums)):\n",
    "            if nums[i] == nums[j]:\n",
    "                i+=1\n",
    "                j+=1\n",
    "                return [i, j]"
   ]
  },
  {
   "cell_type": "code",
   "execution_count": 341,
   "id": "10d73d7e-eaa4-4d2e-ad2a-779fb869a761",
   "metadata": {},
   "outputs": [
    {
     "data": {
      "text/plain": [
       "[2, 3]"
      ]
     },
     "execution_count": 341,
     "metadata": {},
     "output_type": "execute_result"
    }
   ],
   "source": [
    "nums = [1,2,2,4]\n",
    "Error(nums)"
   ]
  },
  {
   "cell_type": "code",
   "execution_count": null,
   "id": "c354c24a-bb52-4921-9968-f71b52d637c7",
   "metadata": {},
   "outputs": [],
   "source": []
  }
 ],
 "metadata": {
  "kernelspec": {
   "display_name": "Python 3 (ipykernel)",
   "language": "python",
   "name": "python3"
  },
  "language_info": {
   "codemirror_mode": {
    "name": "ipython",
    "version": 3
   },
   "file_extension": ".py",
   "mimetype": "text/x-python",
   "name": "python",
   "nbconvert_exporter": "python",
   "pygments_lexer": "ipython3",
   "version": "3.10.6"
  }
 },
 "nbformat": 4,
 "nbformat_minor": 5
}
