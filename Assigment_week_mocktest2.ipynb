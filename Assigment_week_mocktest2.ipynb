{
 "cells": [
  {
   "cell_type": "markdown",
   "id": "f46d2356-8c82-4c25-bc38-edf83ef6e79f",
   "metadata": {},
   "source": [
    "Given a non-negative integer x, return the square root of x rounded down to the nearest integer. The returned integer should be non-negative as well. You must not use any built-in exponent function or operator. \n",
    "\n",
    " Example 1:\n",
    "Input: x = 4 Output: 2 Explanation: The square root of 4 is 2, so we return 2.\n",
    "Example 2:\n",
    "\n",
    "Input: x = 8 Output: 2 Explanation: The square root of 8 is 2.82842..., and since we round it down to the nearest integer, 2 is returned.\n",
    "Constraints:\n",
    "\n",
    "0 <= x <= 2^31 - 1\n",
    "\n",
    "Note: Create a GitHub file for the solution and add the file link the the answer section below."
   ]
  },
  {
   "cell_type": "code",
   "execution_count": 11,
   "id": "041865c9-f700-4f58-a091-8ca5a55165ff",
   "metadata": {},
   "outputs": [],
   "source": [
    "def mySqrt(x):\n",
    "    left = 0\n",
    "    right = x\n",
    "\n",
    "    while left <= right:\n",
    "        mid = (left + right) // 2\n",
    "        if mid * mid <= x:\n",
    "            left = mid + 1\n",
    "        else:\n",
    "            right = mid - 1\n",
    "\n",
    "    return left - 1\n"
   ]
  },
  {
   "cell_type": "code",
   "execution_count": 12,
   "id": "00de7e2e-69b0-4843-b4d0-35d88fd2ebe3",
   "metadata": {},
   "outputs": [
    {
     "data": {
      "text/plain": [
       "2"
      ]
     },
     "execution_count": 12,
     "metadata": {},
     "output_type": "execute_result"
    }
   ],
   "source": [
    "x = 4\n",
    "mySqrt(x)"
   ]
  },
  {
   "cell_type": "code",
   "execution_count": 13,
   "id": "d4d09d50-37e0-419d-80e8-598cd1a2f4e4",
   "metadata": {},
   "outputs": [
    {
     "data": {
      "text/plain": [
       "2"
      ]
     },
     "execution_count": 13,
     "metadata": {},
     "output_type": "execute_result"
    }
   ],
   "source": [
    "x = 8\n",
    "mySqrt(x)"
   ]
  },
  {
   "cell_type": "markdown",
   "id": "3edf1546-e5f4-4ce4-8b33-e2c0fd9204f4",
   "metadata": {},
   "source": [
    "You are given two non-empty linked lists representing two non-negative integers. The digits are stored in reverse order, and each of their nodes contains a single digit. Add the two numbers and return the sum as a linked list.\n",
    "\n",
    "You may assume the two numbers do not contain any leading zero, except the number 0 itself.\n",
    "\n",
    "\n",
    "Example 1:\n",
    "\n",
    "Input: l1 = [2,4,3], l2 = [5,6,4] Output: [7,0,8] Explanation: 342 + 465 = 807.\n",
    "\n",
    "Example 2:\n",
    "\n",
    "Input: l1 = [0], l2 = [0] Output: [0]\n",
    "\n",
    "Example 3:\n",
    "\n",
    "Input: l1 = [9,9,9,9,9,9,9], l2 = [9,9,9,9] Output: [8,9,9,9,0,0,0,1]\n",
    "\n",
    " \n",
    "\n",
    "Constraints:\n",
    "\n",
    "The number of nodes in each linked list is in the range [1, 100].\n",
    "0 <= Node.val <= 9 It is guaranteed that the list represents a number that does not have leading zeros.\n",
    "\n",
    "\n",
    "\n",
    "Note: Create a GitHub file for the solution and add the file link the the answer section below."
   ]
  },
  {
   "cell_type": "code",
   "execution_count": 14,
   "id": "c1868784-d05c-41ca-8769-9f26cf99422b",
   "metadata": {},
   "outputs": [],
   "source": [
    "class ListNode:\n",
    "    def __init__(self, val=0, next=None):\n",
    "        self.val = val\n",
    "        self.next = next\n",
    "\n",
    "\n",
    "def addTwoNumbers(l1, l2):\n",
    "    dummy = ListNode()\n",
    "    current = dummy\n",
    "    carry = 0\n",
    "\n",
    "    while l1 or l2:\n",
    "        digit1 = l1.val if l1 else 0\n",
    "        digit2 = l2.val if l2 else 0\n",
    "\n",
    "        total = digit1 + digit2 + carry\n",
    "        carry = total // 10\n",
    "\n",
    "        current.next = ListNode(total % 10)\n",
    "        current = current.next\n",
    "\n",
    "        if l1:\n",
    "            l1 = l1.next\n",
    "        if l2:\n",
    "            l2 = l2.next\n",
    "\n",
    "    if carry:\n",
    "        current.next = ListNode(carry)\n",
    "\n",
    "    return dummy.next\n"
   ]
  },
  {
   "cell_type": "code",
   "execution_count": 21,
   "id": "a31d3bcc-a62f-4a90-b890-e3818dddb330",
   "metadata": {},
   "outputs": [
    {
     "name": "stdout",
     "output_type": "stream",
     "text": [
      "[7, 0, 8]\n"
     ]
    }
   ],
   "source": [
    "# Linked list creation\n",
    "# Helper function to create a linked list from a list of values\n",
    "def createLinkedList(values):\n",
    "    dummy = ListNode()\n",
    "    current = dummy\n",
    "    for val in values:\n",
    "        current.next = ListNode(val)\n",
    "        current = current.next\n",
    "    return dummy.next\n",
    "\n",
    "# Helper function to convert a linked list to a list of values\n",
    "head2 = ListNode(2)\n",
    "head2.next = ListNode(4)\n",
    "head2.next.next = ListNode(3)\n",
    "\n",
    "head3 = ListNode(5)\n",
    "head3.next = ListNode(6)\n",
    "head3.next.next = ListNode(4)\n",
    "\n",
    "\n",
    "\n",
    "result = addTwoNumbers(head2, head3)\n",
    "\n",
    "# Convert the resulting linked list to a list and print it\n",
    "print(linkedListToList(result))\n"
   ]
  },
  {
   "cell_type": "code",
   "execution_count": 20,
   "id": "25e595d8-c160-42e3-8128-a38712f754b0",
   "metadata": {},
   "outputs": [
    {
     "name": "stdout",
     "output_type": "stream",
     "text": [
      "[8, 9, 9, 9, 0, 0, 0, 1]\n"
     ]
    }
   ],
   "source": [
    "# Linked list creation\n",
    "# Helper function to create a linked list from a list of values\n",
    "def createLinkedList(values):\n",
    "    dummy = ListNode()\n",
    "    current = dummy\n",
    "    for val in values:\n",
    "        current.next = ListNode(val)\n",
    "        current = current.next\n",
    "    return dummy.next\n",
    "\n",
    "head2 = ListNode(9)\n",
    "head2.next = ListNode(9)\n",
    "head2.next.next = ListNode(9)\n",
    "head2.next.next.next = ListNode(9)\n",
    "head2.next.next.next.next = ListNode(9)\n",
    "head2.next.next.next.next.next = ListNode(9)\n",
    "head2.next.next.next.next.next.next = ListNode(9)\n",
    "\n",
    "head3 = ListNode(9)\n",
    "head3.next = ListNode(9)\n",
    "head3.next.next = ListNode(9)\n",
    "head3.next.next.next = ListNode(9)\n",
    "\n",
    "\n",
    "result = addTwoNumbers(head2, head3)\n",
    "\n",
    "# Convert the resulting linked list to a list and print it\n",
    "print(linkedListToList(result))\n"
   ]
  },
  {
   "cell_type": "code",
   "execution_count": null,
   "id": "841ff5f8-db57-4289-8e81-23fad614b372",
   "metadata": {},
   "outputs": [],
   "source": []
  }
 ],
 "metadata": {
  "kernelspec": {
   "display_name": "Python 3 (ipykernel)",
   "language": "python",
   "name": "python3"
  },
  "language_info": {
   "codemirror_mode": {
    "name": "ipython",
    "version": 3
   },
   "file_extension": ".py",
   "mimetype": "text/x-python",
   "name": "python",
   "nbconvert_exporter": "python",
   "pygments_lexer": "ipython3",
   "version": "3.10.6"
  }
 },
 "nbformat": 4,
 "nbformat_minor": 5
}
