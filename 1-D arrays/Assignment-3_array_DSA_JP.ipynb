{
 "cells": [
  {
   "cell_type": "markdown",
   "id": "f1a96d9a-ca6d-4f68-927d-bbefd32eac69",
   "metadata": {},
   "source": [
    "Question 1\n",
    "Given an integer array nums of length n and an integer target, find three integers\n",
    "in nums such that the sum is closest to the target.\n",
    "Return the sum of the three integers.\n",
    "\n",
    "You may assume that each input would have exactly one solution.\n",
    "\n",
    "Example 1:\n",
    "Input: nums = [-1,2,1,-4], target = 1\n",
    "Output: 2\n",
    "\n",
    "Explanation: The sum that is closest to the target is 2. (-1 + 2 + 1 = 2)."
   ]
  },
  {
   "cell_type": "code",
   "execution_count": 143,
   "id": "e90df434-9da9-45f8-80eb-472459b70ad1",
   "metadata": {},
   "outputs": [],
   "source": [
    "def closest_sum(nums, target):\n",
    "    n = len(nums)\n",
    "    nums.sort()\n",
    "    result = nums[0] + nums[1] + nums[n - 1]\n",
    "\n",
    "    # Iterate over the elements, considering them as the first element of the triplet.\n",
    "    for i in range(len(nums) - 2):\n",
    "        j, k = i + 1, len(nums) - 1\n",
    "\n",
    "        # Use two pointers approach to find the remaining two elements.\n",
    "        while j < k:\n",
    "            # Calculate the sum of the triplet.\n",
    "            current_sum = nums[i] + nums[j] + nums[k]\n",
    "\n",
    "            # Check if the current sum is equal to the target.\n",
    "            if current_sum == target:\n",
    "                return current_sum\n",
    "\n",
    "            # Update the result if the current sum is closer to the target than the previous result.\n",
    "            if abs(current_sum - target) < abs(result - target):\n",
    "                result = current_sum\n",
    "\n",
    "            # Adjust the pointers based on the current sum.\n",
    "            if current_sum < target:\n",
    "                j += 1\n",
    "            elif current_sum > target:\n",
    "                k -= 1\n",
    "\n",
    "    return result\n"
   ]
  },
  {
   "cell_type": "code",
   "execution_count": 144,
   "id": "90d8426f-fb86-4309-a7fe-436943f71d03",
   "metadata": {},
   "outputs": [
    {
     "name": "stdout",
     "output_type": "stream",
     "text": [
      "Time complexity: O(n^2)\n",
      "Space complexity: O(1)\n"
     ]
    },
    {
     "data": {
      "text/plain": [
       "2"
      ]
     },
     "execution_count": 144,
     "metadata": {},
     "output_type": "execute_result"
    }
   ],
   "source": [
    "print(\"Time complexity: O(n^2)\") \n",
    "print(\"Space complexity: O(1)\")\n",
    "nums = [-1,2,1,-4]\n",
    "target = 1\n",
    "closest_sum(nums, target)\n"
   ]
  },
  {
   "cell_type": "markdown",
   "id": "56d82b6a-d2c7-4909-9490-b0245f39e848",
   "metadata": {},
   "source": [
    "Question 2\n",
    "Given an array nums of n integers, return an array of all the unique quadruplets\n",
    "[nums[a], nums[b], nums[c], nums[d]] such that:\n",
    "           ● 0 <= a, b, c, d < n\n",
    "           ● a, b, c, and d are distinct.\n",
    "           ● nums[a] + nums[b] + nums[c] + nums[d] == target\n",
    "\n",
    "You may return the answer in any order.\n",
    "\n",
    "Example 1:\n",
    "Input: nums = [1,0,-1,0,-2,2], target = 0\n",
    "Output: [[-2,-1,1,2],[-2,0,0,2],[-1,0,0,1]]"
   ]
  },
  {
   "cell_type": "code",
   "execution_count": 140,
   "id": "3d7d2d68-dbde-43de-a495-70b7fa6e559c",
   "metadata": {},
   "outputs": [],
   "source": [
    "def four_sum(nums, target):\n",
    "    # Sort the array in ascending order.\n",
    "    nums.sort()\n",
    "\n",
    "    quadruplets = []\n",
    "\n",
    "    n = len(nums)\n",
    "\n",
    "    # Iterate over the first and second elements of the quadruplet.\n",
    "    for i in range(n - 3):\n",
    "        if i > 0 and nums[i] == nums[i - 1]:\n",
    "            continue  # Skip duplicate values for the first element.\n",
    "\n",
    "        for j in range(i + 1, n - 2):\n",
    "            if j > i + 1 and nums[j] == nums[j - 1]:\n",
    "                continue  # Skip duplicate values for the second element.\n",
    "\n",
    "            # Set the remaining sum to find.\n",
    "            remaining_sum = target - nums[i] - nums[j]\n",
    "\n",
    "            # Use two pointers approach to find the remaining two elements.\n",
    "            left = j + 1\n",
    "            right = n - 1\n",
    "\n",
    "            while left < right:\n",
    "                if nums[left] + nums[right] == remaining_sum:\n",
    "                    quadruplets.append([nums[i], nums[j], nums[left], nums[right]])\n",
    "\n",
    "                    # Skip duplicate values for the third element.\n",
    "                    while left < right and nums[left] == nums[left + 1]:\n",
    "                        left += 1\n",
    "                    # Skip duplicate values for the fourth element.\n",
    "                    while left < right and nums[right] == nums[right - 1]:\n",
    "                        right -= 1\n",
    "\n",
    "                    left += 1\n",
    "                    right -= 1\n",
    "                elif nums[left] + nums[right] < remaining_sum:\n",
    "                    left += 1\n",
    "                else:\n",
    "                    right -= 1\n",
    "\n",
    "    return quadruplets\n"
   ]
  },
  {
   "cell_type": "code",
   "execution_count": 147,
   "id": "61f2b1dc-6dc7-4590-b51e-cdd29e90e843",
   "metadata": {},
   "outputs": [
    {
     "name": "stdout",
     "output_type": "stream",
     "text": [
      "Time complexity: O(n^3)\n",
      "Space complexity: O(n^2)\n"
     ]
    },
    {
     "data": {
      "text/plain": [
       "[[-2, -1, 1, 2], [-2, 0, 0, 2], [-1, 0, 0, 1]]"
      ]
     },
     "execution_count": 147,
     "metadata": {},
     "output_type": "execute_result"
    }
   ],
   "source": [
    "print(\"Time complexity: O(n^3)\") \n",
    "print(\"Space complexity: O(n^2)\")\n",
    "nums = [1,0,-1,0,-2,2]\n",
    "target = 0\n",
    "four_sum(nums, target)"
   ]
  },
  {
   "cell_type": "markdown",
   "id": "412c78cf-4d15-45bc-a468-619fd9325c12",
   "metadata": {},
   "source": [
    "**Question 3**\n",
    "A permutation of an array of integers is an arrangement of its members into a\n",
    "sequence or linear order.\n",
    "\n",
    "For example, for arr = [1,2,3], the following are all the permutations of arr:\n",
    "[1,2,3], [1,3,2], [2, 1, 3], [2, 3, 1], [3,1,2], [3,2,1].\n",
    "\n",
    "The next permutation of an array of integers is the next lexicographically greater\n",
    "permutation of its integer. More formally, if all the permutations of the array are\n",
    "sorted in one container according to their lexicographical order, then the next\n",
    "permutation of that array is the permutation that follows it in the sorted container.\n",
    "\n",
    "If such an arrangement is not possible, the array must be rearranged as the\n",
    "lowest possible order (i.e., sorted in ascending order).\n",
    "\n",
    "● For example, the next permutation of arr = [1,2,3] is [1,3,2].\n",
    "● Similarly, the next permutation of arr = [2,3,1] is [3,1,2].\n",
    "● While the next permutation of arr = [3,2,1] is [1,2,3] because [3,2,1] does not\n",
    "have a lexicographical larger rearrangement.\n",
    "\n",
    "Given an array of integers nums, find the next permutation of nums.\n",
    "The replacement must be in place and use only constant extra memory.\n",
    "\n",
    "**Example 1:**\n",
    "Input: nums = [1,2,3]\n",
    "Output: [1,3,2]\n",
    "\n",
    "</aside>"
   ]
  },
  {
   "cell_type": "code",
   "execution_count": 145,
   "id": "a7f31023-25ec-4433-9de3-d808c62d9358",
   "metadata": {},
   "outputs": [],
   "source": [
    "def next_per(nums):\n",
    "    i = len(nums) - 2\n",
    "\n",
    "    # Find the first decreasing element starting from the right side of the array.\n",
    "    while i >= 0 and nums[i + 1] <= nums[i]:   # checking the last 2 elements nums[i+1] is 3 and nums[i] is 2 3<=2 not possible we cannot swap the loop not execute\n",
    "        i -= 1\n",
    "\n",
    "    # If a decreasing element is found, proceed to find the next permutation.\n",
    "    if i >= 0:\n",
    "        j = len(nums) - 1\n",
    "\n",
    "        # Find the smallest element greater than the element at index i.\n",
    "        while nums[j] <= nums[i]: # this loop as not execute for above example untill meets this condition\n",
    "            j -= 1\n",
    "\n",
    "        # Swap the elements at indices i and j.\n",
    "        nums[i], nums[j] = nums[j], nums[i]\n",
    "\n",
    "        # Reverse the subarray to the right of index i.\n",
    "        reverse(nums, i + 1)\n",
    "\n",
    "    return nums\n",
    "\n",
    "def reverse(nums, start):\n",
    "    i, j = start, len(nums) - 1\n",
    "\n",
    "    # Reverse the subarray from index start to the end.\n",
    "    while i < j:\n",
    "        nums[i], nums[j] = nums[j], nums[i]\n",
    "        i += 1\n",
    "        j -= 1\n"
   ]
  },
  {
   "cell_type": "code",
   "execution_count": 146,
   "id": "59a53827-42b8-4418-91ce-51cdc4a54510",
   "metadata": {},
   "outputs": [
    {
     "name": "stdout",
     "output_type": "stream",
     "text": [
      "Time complexity: O(n)\n",
      "Space complexity: O(1)\n"
     ]
    },
    {
     "data": {
      "text/plain": [
       "[1, 3, 2]"
      ]
     },
     "execution_count": 146,
     "metadata": {},
     "output_type": "execute_result"
    }
   ],
   "source": [
    "print(\"Time complexity: O(n)\") \n",
    "print(\"Space complexity: O(1)\")\n",
    "nums = [1,2,3]\n",
    "next_per(nums)"
   ]
  },
  {
   "cell_type": "code",
   "execution_count": 76,
   "id": "8b2a171f-365a-450e-a3ec-1d58bf6183f0",
   "metadata": {},
   "outputs": [
    {
     "name": "stdout",
     "output_type": "stream",
     "text": [
      "The Nums in the order is : [1, 5, 8, 4, 5, 6, 7, 3, 1]\n"
     ]
    },
    {
     "data": {
      "text/plain": [
       "[1, 5, 8, 4, 5, 6, 7, 1, 3]"
      ]
     },
     "execution_count": 76,
     "metadata": {},
     "output_type": "execute_result"
    }
   ],
   "source": [
    "'''i=7 is set to len(nums)-2\n",
    "i+1 =1 \n",
    "if nums[i+1] <= nums[i] 1<=7 true i index was changes 6 the element in nums[i]=3 at 6 position the element is 3\n",
    "intialize j to last element in the array nums[i]=3 and nums[j]=1\n",
    "nums[j]<=nums[i])  1<=3 true j will decreemnt  now nums[i]=3 and nums[j]=7 untill false the loop will continue\n",
    "swap the i and j elements nums[j]=3 and nums[i]=7\n",
    "newest nusms are : [1, 5, 8, 4, 5, 6, 7, 3, 1]\n",
    "present i at 6th position\n",
    "reverse(nums,i+1) i value will be 7 so it atart with 7th position\n",
    "reverse the elements compare each 2 elements \n",
    "in reverse (nums,7) start will be 7 it is taking input from i+1 previously\n",
    "i=7 j=8  7<8\n",
    "swap of 7th and 8th element\n",
    "If you take condition like(nums[i]>nums[j] it will compare the elements first will swap i=7 and j=8 \n",
    "nums[7]>nums[8] is 3>1 TRUE SWAP\n",
    "[1, 5, 8, 4, 5, 6, 7, 1, 3]\n",
    "i increment 8\n",
    "j decrement to 7\n",
    "again nums[8]>nums[7] IS 3>1 AGAIN SWAP again it will get [1, 5, 8, 4, 5, 6, 7, 3, 1] avoid compare with nums[i/j]\n",
    "'''\n",
    "nums = [1,5,8,4,5,6,3,7,1]\n",
    "next_per(nums)"
   ]
  },
  {
   "cell_type": "code",
   "execution_count": 78,
   "id": "c7df770c-5398-4cf2-8441-356ea6bdfe75",
   "metadata": {},
   "outputs": [],
   "source": [
    "#continuation of next permutation it will find all the permutations one by one \n",
    "def next_per(nums):\n",
    "    i=len(nums)-2\n",
    "    # checking the last 2 elements nums[i+1] is 3 and nums[i] is 2 3<=2 not possible we cannot swap the loop not execute\n",
    "    while i>=0 and nums[i+1]<=nums[i]:\n",
    "        i-=1\n",
    "    if i>=0:\n",
    "        j=len(nums)-1\n",
    "        while(nums[j]<=nums[i]):# this loop as not execute for above example\n",
    "            j-=1\n",
    "        nums[i],nums[j]=nums[j],nums[i]\n",
    "        print(\"The Nums in the order is :\",nums)\n",
    "        reverse(nums,i+1)\n",
    "    print(nums)\n",
    "    next_per(nums)\n",
    "    \n",
    "def reverse(nums,start):\n",
    "    i,j= start,len(nums)-1\n",
    "    while(i<j):\n",
    "        nums[i],nums[j]=nums[j],nums[i]\n",
    "        i+=1\n",
    "        j-=1            "
   ]
  },
  {
   "cell_type": "code",
   "execution_count": null,
   "id": "7b3ae756-3f21-4b8c-a432-5ff366467afe",
   "metadata": {},
   "outputs": [],
   "source": []
  },
  {
   "cell_type": "markdown",
   "id": "6067c26c-de60-4616-b0fa-19eb55c5ab09",
   "metadata": {},
   "source": [
    "Question 4\n",
    "Given a sorted array of distinct integers and a target value, return the index if the\n",
    "target is found. If not, return the index where it would be if it were inserted in\n",
    "order.\n",
    "\n",
    "You must write an algorithm with O(log n) runtime complexity.\n",
    "\n",
    "Example 1:\n",
    "Input: nums = [1,3,5,6], target = 5\n",
    "Output: 2"
   ]
  },
  {
   "cell_type": "code",
   "execution_count": 149,
   "id": "d4c2aeaa-9f46-463d-a45c-9b5dc3cf52ae",
   "metadata": {},
   "outputs": [],
   "source": [
    "def search_element(nums,target):\n",
    "        nums.sort()\n",
    "        left=0\n",
    "        right=len(nums)-1\n",
    "        while(left<=right):\n",
    "            mid = int((left+right)/2)\n",
    "            if(nums[mid]==target):\n",
    "                return mid\n",
    "                \n",
    "            elif(nums[mid] > target):\n",
    "                right=mid-1\n",
    "                \n",
    "            else:\n",
    "                left=mid+1\n",
    "        return left"
   ]
  },
  {
   "cell_type": "code",
   "execution_count": 150,
   "id": "6f54ee72-ae1f-4a04-aab4-54af64df9469",
   "metadata": {},
   "outputs": [
    {
     "name": "stdout",
     "output_type": "stream",
     "text": [
      "Time complexity: O(logn)\n",
      "Space complexity: O(1)\n"
     ]
    },
    {
     "data": {
      "text/plain": [
       "2"
      ]
     },
     "execution_count": 150,
     "metadata": {},
     "output_type": "execute_result"
    }
   ],
   "source": [
    "print(\"Time complexity: O(logn)\") \n",
    "print(\"Space complexity: O(1)\")\n",
    "nums = [1,3,5,6]\n",
    "target = 5\n",
    "search_element(nums,target)"
   ]
  },
  {
   "cell_type": "markdown",
   "id": "a0e67a59-7cbb-40d4-a290-8c4283c64df2",
   "metadata": {},
   "source": [
    "**Question 5**\n",
    "You are given a large integer represented as an integer array digits, where each\n",
    "digits[i] is the ith digit of the integer. The digits are ordered from most significant\n",
    "to least significant in left-to-right order. The large integer does not contain any\n",
    "leading 0's.\n",
    "\n",
    "Increment the large integer by one and return the resulting array of digits.\n",
    "\n",
    "**Example 1:**\n",
    "Input: digits = [1,2,3]\n",
    "Output: [1,2,4]\n",
    "\n",
    "**Explanation:** The array represents the integer 123.\n",
    "Incrementing by one gives 123 + 1 = 124.\n",
    "Thus, the result should be [1,2,4].\n"
   ]
  },
  {
   "cell_type": "code",
   "execution_count": 151,
   "id": "640ae7dd-2908-4c06-8685-bd0bcfba4640",
   "metadata": {},
   "outputs": [
    {
     "name": "stdout",
     "output_type": "stream",
     "text": [
      "123\n",
      "After adding +1 to digits: 124\n"
     ]
    },
    {
     "data": {
      "text/plain": [
       "('After adding +1 to digits and converting into list again:', [1, 2, 4])"
      ]
     },
     "execution_count": 151,
     "metadata": {},
     "output_type": "execute_result"
    }
   ],
   "source": [
    "def add_digit(digits):\n",
    "    result = 0\n",
    "\n",
    "    # Convert all digits to strings\n",
    "    digits = [str(digit) for digit in digits]  #converting all digits into str(typecast)\n",
    "\n",
    "    # Concatenate the digits to form a single number\n",
    "    num = ''.join(digits) # removing spaces or , combining digits\n",
    "\n",
    "    # Print the concatenated number\n",
    "    print(num)\n",
    "\n",
    "    # Convert the concatenated number back to an integer, add 1, and store the result\n",
    "    result += int(num) + 1\n",
    "\n",
    "    # Print the result after adding 1 to the digits\n",
    "    print(\"After adding +1 to digits:\", result)\n",
    "\n",
    "    # Convert the result back to a list of integers\n",
    "    lst = list(str(result))\n",
    "    results = [int(i) for i in lst]\n",
    "\n",
    "    # Return the result as a list of integers\n",
    "    return (\"After adding +1 to digits and converting into list again:\", results)\n",
    "\n",
    "\n",
    "\n",
    "digits = [1, 2, 3]\n",
    "add_digit(digits)\n"
   ]
  },
  {
   "cell_type": "code",
   "execution_count": 152,
   "id": "e9538451-34b5-4ab4-a501-be803b6e4e0a",
   "metadata": {},
   "outputs": [
    {
     "name": "stdout",
     "output_type": "stream",
     "text": [
      "Time complexity: O(n)\n",
      "Space complexity: O(n)\n",
      "129\n",
      "After adding +1 to digits: 130\n"
     ]
    },
    {
     "data": {
      "text/plain": [
       "('After adding +1 to digits and converting into list again:', [1, 3, 0])"
      ]
     },
     "execution_count": 152,
     "metadata": {},
     "output_type": "execute_result"
    }
   ],
   "source": [
    "print(\"Time complexity: O(n)\") \n",
    "print(\"Space complexity: O(n)\")\n",
    "digits = [1,2,9]\n",
    "add_digit(digits)"
   ]
  },
  {
   "cell_type": "markdown",
   "id": "39a8b8a2-3d55-40f7-83ed-514a96ea59ba",
   "metadata": {},
   "source": [
    "Question 6\n",
    "Given a non-empty array of integers nums, every element appears twice except\n",
    "for one. Find that single one.\n",
    "\n",
    "You must implement a solution with a linear runtime complexity and use only\n",
    "constant extra space.\n",
    "\n",
    "Example 1:\n",
    "Input: nums = [2,2,1]\n",
    "Output: 1"
   ]
  },
  {
   "cell_type": "code",
   "execution_count": 153,
   "id": "ae08ed12-61f7-475c-a169-69d3d9c377b1",
   "metadata": {},
   "outputs": [
    {
     "name": "stdout",
     "output_type": "stream",
     "text": [
      "Time complexity: O(n)\n",
      "Space complexity: O(n)\n",
      "Single element: 1\n"
     ]
    }
   ],
   "source": [
    "def rep_ele_out(nums):\n",
    "    # Calculate the sum of unique elements in the array using a set and multiply it by 2\n",
    "    unique_sum = sum(set(nums)) * 2\n",
    "    \n",
    "    # Calculate the sum of all elements in the array\n",
    "    total_sum = sum(nums)\n",
    "    \n",
    "    # The difference between the unique sum and the total sum will give the single element\n",
    "    single_element = unique_sum - total_sum\n",
    "    \n",
    "    # Return the single element\n",
    "    return single_element\n",
    "\n",
    "print(\"Time complexity: O(n)\") \n",
    "print(\"Space complexity: O(n)\")\n",
    "nums = [2, 2, 1]\n",
    "single = rep_ele_out(nums)\n",
    "print(\"Single element:\", single)\n"
   ]
  },
  {
   "cell_type": "markdown",
   "id": "d754db2c-76fe-4074-8f44-0783abb62f03",
   "metadata": {},
   "source": [
    "Question 7\n",
    "You are given an inclusive range [lower, upper] and a sorted unique integer array\n",
    "nums, where all elements are within the inclusive range.\n",
    "\n",
    "A number x is considered missing if x is in the range [lower, upper] and x is not in\n",
    "nums.\n",
    "\n",
    "Return the shortest sorted list of ranges that exactly covers all the missing\n",
    "numbers. That is, no element of nums is included in any of the ranges, and each\n",
    "missing number is covered by one of the ranges.\n",
    "\n",
    "Example 1:\n",
    "Input: nums = [0,1,3,50,75], lower = 0, upper = 99\n",
    "Output: [[2,2],[4,49],[51,74],[76,99]]\n",
    "\n",
    "Explanation: The ranges are:\n",
    "[2,2]\n",
    "[4,49]\n",
    "[51,74]\n",
    "[76,99]"
   ]
  },
  {
   "cell_type": "code",
   "execution_count": 154,
   "id": "8e2cdef5-1b79-4f23-9d3e-92a8306b1eff",
   "metadata": {},
   "outputs": [
    {
     "name": "stdout",
     "output_type": "stream",
     "text": [
      "Missing ranges: ['[2, 2]', '[4,49]', '[51,74]', '[76,99]']\n"
     ]
    }
   ],
   "source": [
    "def missing_range(nums, lower, upper):\n",
    "    def f(i, j):\n",
    "        # Helper function to format the range representation\n",
    "        return str([i, j]) if i == j else f\"[{i},{j}]\"\n",
    "\n",
    "    n = len(nums)\n",
    "    ans = []\n",
    "    \n",
    "    # Check if the input array is empty\n",
    "    if n == 0:\n",
    "        return [f(lower, upper)]\n",
    "\n",
    "    # Check if there is a missing range between lower and the first element of the array\n",
    "    if nums[0] > lower:\n",
    "        ans.append(f(lower, nums[0] - 1))\n",
    "\n",
    "    # Iterate over the array to find missing ranges between consecutive elements\n",
    "    for i in range(1, n):\n",
    "        if nums[i] - nums[i - 1] > 1:\n",
    "            ans.append(f(nums[i - 1] + 1, nums[i] - 1))\n",
    "\n",
    "    # Check if there is a missing range between the last element of the array and upper\n",
    "    if nums[n - 1] < upper:\n",
    "        ans.append(f(nums[n - 1] + 1, upper))\n",
    "\n",
    "    return ans\n",
    "\n",
    "\n",
    "nums = [0, 1, 3, 50, 75]\n",
    "lower = 0\n",
    "upper = 99\n",
    "missing_ranges = missing_range(nums, lower, upper)\n",
    "print(\"Missing ranges:\", missing_ranges)\n"
   ]
  },
  {
   "cell_type": "markdown",
   "id": "e7453edc-e4fe-4832-bda1-4e3447500290",
   "metadata": {},
   "source": [
    "Question 8\n",
    "Given an array of meeting time intervals where intervals[i] = [starti, endi],\n",
    "determine if a person could attend all meetings.\n",
    "\n",
    "Example 1:\n",
    "Input: intervals = [[0,30],[5,10],[15,20]]\n",
    "Output: false"
   ]
  },
  {
   "cell_type": "code",
   "execution_count": null,
   "id": "3bf7e3aa-8a2f-4e13-a1db-eae4f1d86c09",
   "metadata": {},
   "outputs": [],
   "source": [
    "def interval(intervals):\n",
    "    intervals.sort()  # Sort the intervals based on the start time\n",
    "\n",
    "    j = -1  # Initialize j to track the end time of the previous interval\n",
    "\n",
    "    for start, end in intervals:\n",
    "        if j <= start:\n",
    "            # If the start time of the current interval is after or equal to the end time of the previous interval,\n",
    "            # update j to the end time of the current interval\n",
    "            j = end\n",
    "        else:\n",
    "            # If there is an overlap, return False\n",
    "            return False\n",
    "\n",
    "    # If no overlaps are found, return True\n",
    "    return True\n",
    "\n",
    "\n",
    "intervals = [[0, 30], [5, 10], [15, 20]]\n",
    "result = interval(intervals)\n",
    "print(\"Can attend all meetings?\", result)\n"
   ]
  },
  {
   "cell_type": "code",
   "execution_count": 159,
   "id": "7cddf80a-4104-4795-85af-969b3aa3fa35",
   "metadata": {},
   "outputs": [
    {
     "name": "stdout",
     "output_type": "stream",
     "text": [
      "Time complexity is O{nlogn)\n",
      "Space Complexity is O(1)\n",
      "Can attend all meetings? True\n"
     ]
    }
   ],
   "source": [
    "print(\"Time complexity is O{nlogn)\")\n",
    "print(\"Space Complexity is O(1)\")\n",
    "intervals = [[0,2],[5,10],[15,20]]\n",
    "result = interval(intervals)\n",
    "print(\"Can attend all meetings?\", result)\n"
   ]
  },
  {
   "cell_type": "code",
   "execution_count": null,
   "id": "dd29ab30-fa9d-4813-8cfb-52355d2bb364",
   "metadata": {},
   "outputs": [],
   "source": []
  }
 ],
 "metadata": {
  "kernelspec": {
   "display_name": "Python 3 (ipykernel)",
   "language": "python",
   "name": "python3"
  },
  "language_info": {
   "codemirror_mode": {
    "name": "ipython",
    "version": 3
   },
   "file_extension": ".py",
   "mimetype": "text/x-python",
   "name": "python",
   "nbconvert_exporter": "python",
   "pygments_lexer": "ipython3",
   "version": "3.10.6"
  }
 },
 "nbformat": 4,
 "nbformat_minor": 5
}
