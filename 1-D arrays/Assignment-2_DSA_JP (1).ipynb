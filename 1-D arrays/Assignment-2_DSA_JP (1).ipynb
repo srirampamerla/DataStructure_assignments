{
 "cells": [
  {
   "cell_type": "markdown",
   "id": "c10f6ad2-8328-44a7-b5d1-8fea12eb3b91",
   "metadata": {},
   "source": [
    "**Question 1**\n",
    "Given an integer array nums of 2n integers, group these integers into n pairs (a1, b1), (a2, b2),..., (an, bn) such that the sum of min(ai, bi) for all i is maximized. Return the maximized sum.\n",
    "\n",
    "**Example 1:**\n",
    "Input: nums = [1,4,3,2]\n",
    "Output: 4\n",
    "\n",
    "**Explanation:** All possible pairings (ignoring the ordering of elements) are:\n",
    "\n",
    "1. (1, 4), (2, 3) -> min(1, 4) + min(2, 3) = 1 + 2 = 3\n",
    "2. (1, 3), (2, 4) -> min(1, 3) + min(2, 4) = 1 + 2 = 3\n",
    "3. (1, 2), (3, 4) -> min(1, 2) + min(3, 4) = 1 + 3 = 4\n",
    "So the maximum possible sum is 4\n"
   ]
  },
  {
   "cell_type": "code",
   "execution_count": 55,
   "id": "3b23ee39-73dc-470d-9b23-7a817e7bd112",
   "metadata": {},
   "outputs": [],
   "source": [
    "import math\n",
    "def Sum_2(nums):\n",
    "    nums.sort()\n",
    "    if(len(nums))==0:\n",
    "       return 0\n",
    "    result=0\n",
    "    for i in range(0,len(nums)-1,2):\n",
    "        result+=min(nums[i],nums[i+1])\n",
    "    return result\n",
    "       "
   ]
  },
  {
   "cell_type": "code",
   "execution_count": 56,
   "id": "19bee149-aed8-4427-8454-58aae5097b69",
   "metadata": {},
   "outputs": [
    {
     "data": {
      "text/plain": [
       "4"
      ]
     },
     "execution_count": 56,
     "metadata": {},
     "output_type": "execute_result"
    }
   ],
   "source": [
    "nums = [1,4,3,2]\n",
    "Sum_2(nums)"
   ]
  },
  {
   "cell_type": "code",
   "execution_count": 59,
   "id": "0df84e38-46ea-4587-98a4-ffef6ab2e1f1",
   "metadata": {},
   "outputs": [],
   "source": [
    "def Sum_2(nums):\n",
    "    result = 0\n",
    "    i = 0\n",
    "    while i < len(nums):\n",
    "        result += nums[i]\n",
    "        i += 2\n",
    "    return res"
   ]
  },
  {
   "cell_type": "code",
   "execution_count": 60,
   "id": "8b10f29a-dda1-463d-86cd-336f78c7ba6c",
   "metadata": {},
   "outputs": [
    {
     "data": {
      "text/plain": [
       "9"
      ]
     },
     "execution_count": 60,
     "metadata": {},
     "output_type": "execute_result"
    }
   ],
   "source": [
    "nums = [1,4,3,2,5,6]\n",
    "arrayPairSum(nums)"
   ]
  },
  {
   "cell_type": "markdown",
   "id": "8067c163-1e1a-420f-846e-c371ffa356b2",
   "metadata": {},
   "source": [
    "Question 2\n",
    "Alice has n candies, where the ith candy is of type candyType[i]. Alice noticed that she started to gain weight, so she visited a doctor. \n",
    "\n",
    "The doctor advised Alice to only eat n / 2 of the candies she has (n is always even). Alice likes her candies very much, and she wants to eat the maximum number of different types of candies while still following the doctor's advice. \n",
    "\n",
    "Given the integer array candyType of length n, return the maximum number of different types of candies she can eat if she only eats n / 2 of them.\n",
    "\n",
    "Example 1:\n",
    "Input: candyType = [1,1,2,2,3,3]\n",
    "Output: 3\n",
    "\n",
    "Explanation: Alice can only eat 6 / 2 = 3 candies. Since there are only 3 types, she can eat one of each type."
   ]
  },
  {
   "cell_type": "code",
   "execution_count": 61,
   "id": "d2dc409b-94cf-4e75-a467-3aae30746253",
   "metadata": {},
   "outputs": [],
   "source": [
    "def Candy(candytype):\n",
    "    num_of_candies_eat=len(candytype)/2\n",
    "    if len(candytype) > num_of_candies_eat:\n",
    "        return num_of_candies_eat\n",
    "    else:\n",
    "        len(candytype)"
   ]
  },
  {
   "cell_type": "code",
   "execution_count": 63,
   "id": "8ebc5156-6df6-49a6-a0a8-7045105c1d2a",
   "metadata": {},
   "outputs": [
    {
     "data": {
      "text/plain": [
       "3.0"
      ]
     },
     "execution_count": 63,
     "metadata": {},
     "output_type": "execute_result"
    }
   ],
   "source": [
    "candytype = [1,1,2,2,3,3]\n",
    "Candy(candytype)"
   ]
  },
  {
   "cell_type": "markdown",
   "id": "7841f3ea-1997-4f20-a7fe-f489ba3f37c2",
   "metadata": {},
   "source": [
    "Question 3\n",
    "We define a harmonious array as an array where the difference between its maximum value\n",
    "and its minimum value is exactly 1.\n",
    "\n",
    "Given an integer array nums, return the length of its longest harmonious subsequence\n",
    "among all its possible subsequences.\n",
    "\n",
    "A subsequence of an array is a sequence that can be derived from the array by deleting some or no elements without changing the order of the remaining elements.\n",
    "\n",
    "Example 1:\n",
    "Input: nums = [1,3,2,2,5,2,3,7]\n",
    "Output: 5\n",
    "\n",
    "Explanation: The longest harmonious subsequence is [3,2,2,2,3]."
   ]
  },
  {
   "cell_type": "code",
   "execution_count": 105,
   "id": "fd254104-f215-41b5-b700-d4b13158b895",
   "metadata": {},
   "outputs": [],
   "source": [
    "def findLHS(nums):\n",
    "        freq = {}\n",
    "        nums.sort()\n",
    "        for num in nums:\n",
    "            freq[num] = freq.get(num, 0) + 1 \n",
    "            ''' to get the frequency of elements and check the whether it is repeated(if repeated before how many times is repeated before the current value\n",
    "            adding the 1 will give the extract count of each element\n",
    "            in this we need to see the difference should be one between 2 elements\n",
    "            1,2,3,5,7 are distinct elements and 2 column how many it's is occured in the arr\n",
    "            ex\n",
    "            1 1\n",
    "            2 3\n",
    "            3 2\n",
    "            5 1\n",
    "            7 1\n",
    "            2 combinations have diffrence 1 {1,2}and {2,3}\n",
    "            {1,2}-combining frequncies of 2nd column of 1 and 2 (1+3)=4\n",
    "            {2,3} is 5\n",
    "            the highest sum is 5 that will be output\n",
    "            '''\n",
    "            \n",
    "        max_length = 0\n",
    "        for i in freq:\n",
    "            j=i+1\n",
    "            if j in freq:\n",
    "                max_length = max(max_length, freq[i] + freq[j])\n",
    "        return max_length"
   ]
  },
  {
   "cell_type": "code",
   "execution_count": 106,
   "id": "12400c77-b8e4-4c8d-813f-e838ada4b22d",
   "metadata": {},
   "outputs": [
    {
     "data": {
      "text/plain": [
       "5"
      ]
     },
     "execution_count": 106,
     "metadata": {},
     "output_type": "execute_result"
    }
   ],
   "source": [
    "nums = [1,3,2,2,5,2,3,7]\n",
    "findLHS(nums)"
   ]
  },
  {
   "cell_type": "code",
   "execution_count": 107,
   "id": "e963d8a6-46dd-45ea-b995-5964214b8604",
   "metadata": {},
   "outputs": [
    {
     "data": {
      "text/plain": [
       "2"
      ]
     },
     "execution_count": 107,
     "metadata": {},
     "output_type": "execute_result"
    }
   ],
   "source": [
    "nums = [1,2,3,4,5]\n",
    "findLHS(nums)"
   ]
  },
  {
   "cell_type": "markdown",
   "id": "14e3c203-3bb2-4941-bff6-78877dd2b8fe",
   "metadata": {},
   "source": [
    "Question 4\n",
    "You have a long flowerbed in which some of the plots are planted, and some are not.\n",
    "However, flowers cannot be planted in adjacent plots.\n",
    "Given an integer array flowerbed containing 0's and 1's, where 0 means empty and 1 means not empty, and an integer n, return true if n new flowers can be planted in the flowerbed without violating the no-adjacent-flowers rule and false otherwise.\n",
    "\n",
    "Example 1:\n",
    "Input: flowerbed = [1,0,0,0,1], n = 1\n",
    "Output: true"
   ]
  },
  {
   "cell_type": "code",
   "execution_count": 46,
   "id": "36fe6950-bc84-4c74-9945-7da6d39a7bef",
   "metadata": {},
   "outputs": [],
   "source": [
    "def flower_bed(flowerbed,n):\n",
    "    count=0\n",
    "    for i in range(0,len(flowerbed),1):\n",
    "        if n==0:\n",
    "            break\n",
    "        if flowerbed[i]==0:\n",
    "            if(flowerbed[i-1]==0):\n",
    "                if(flowerbed[i+1]==0):\n",
    "                    flowerbed[i]=1\n",
    "                    n-=1\n",
    "                    if(n==0):\n",
    "                        return True\n",
    "                \n",
    "        \n",
    "    return False"
   ]
  },
  {
   "cell_type": "code",
   "execution_count": 47,
   "id": "4229fed1-de5f-4394-ad92-ec81cfc08249",
   "metadata": {},
   "outputs": [
    {
     "data": {
      "text/plain": [
       "True"
      ]
     },
     "execution_count": 47,
     "metadata": {},
     "output_type": "execute_result"
    }
   ],
   "source": [
    "flowerbed = [1,0,0,0,1]\n",
    "n = 1\n",
    "flower_bed(flowerbed,n)"
   ]
  },
  {
   "cell_type": "code",
   "execution_count": 49,
   "id": "50998c9e-ad25-4638-81ba-e92f5a749d90",
   "metadata": {},
   "outputs": [
    {
     "data": {
      "text/plain": [
       "True"
      ]
     },
     "execution_count": 49,
     "metadata": {},
     "output_type": "execute_result"
    }
   ],
   "source": [
    "flowerbed = [1,0,0,0,0,0,1]\n",
    "n = 2\n",
    "flower_bed(flowerbed,n)"
   ]
  },
  {
   "cell_type": "code",
   "execution_count": 50,
   "id": "858af7f3-e2f0-4050-8804-39fee0e5d319",
   "metadata": {},
   "outputs": [
    {
     "data": {
      "text/plain": [
       "False"
      ]
     },
     "execution_count": 50,
     "metadata": {},
     "output_type": "execute_result"
    }
   ],
   "source": [
    "flowerbed = [1,0,0,0,0,0,1]\n",
    "n = 3\n",
    "flower_bed(flowerbed,n)"
   ]
  },
  {
   "cell_type": "markdown",
   "id": "52ba807d-0312-464e-89f9-d226804fc6e9",
   "metadata": {},
   "source": [
    "Question 5\n",
    "Given an integer array nums, find three numbers whose product is maximum and return the maximum product.\n",
    "\n",
    "Example 1:\n",
    "Input: nums = [1,2,3]\n",
    "Output: 6"
   ]
  },
  {
   "cell_type": "code",
   "execution_count": 1,
   "id": "2fedb4a9-a556-440f-9d03-f610230c2b65",
   "metadata": {},
   "outputs": [
    {
     "data": {
      "text/plain": [
       "6"
      ]
     },
     "execution_count": 1,
     "metadata": {},
     "output_type": "execute_result"
    }
   ],
   "source": [
    "def max_prt(nums):\n",
    "        n = len(nums)\n",
    "        nums.sort()\n",
    "        return max(nums[0] * nums[1] * nums[n - 1], nums[n-3] * nums[n - 2] * nums[n-1])\n",
    "nums = [1,2,3]\n",
    "max_prt(nums)"
   ]
  },
  {
   "cell_type": "code",
   "execution_count": 4,
   "id": "0a53fde8-791d-472a-aab4-4792704793cb",
   "metadata": {},
   "outputs": [],
   "source": [
    "#Brute force\n",
    "def max_prt(nums):\n",
    "        n = len(nums)\n",
    "        nums.sort()\n",
    "        max_product=0\n",
    "        for i in range(n-2):\n",
    "            for j in range(n-1):\n",
    "                for k in range(n):\n",
    "                    product = nums[i] * nums[j] * nums[k]\n",
    "                    max_product = max(max_product, product)\n",
    "        return max_product"
   ]
  },
  {
   "cell_type": "code",
   "execution_count": 5,
   "id": "080c953c-2e49-495a-9b0d-1b17e1430679",
   "metadata": {},
   "outputs": [
    {
     "data": {
      "text/plain": [
       "6"
      ]
     },
     "execution_count": 5,
     "metadata": {},
     "output_type": "execute_result"
    }
   ],
   "source": [
    "nums = [1,2,3]\n",
    "max_prt(nums)"
   ]
  },
  {
   "cell_type": "markdown",
   "id": "dbd8140a-1304-41f6-8ca1-dc8e95ecb4fd",
   "metadata": {},
   "source": [
    "Question 6\n",
    "Given an array of integers nums which is sorted in ascending order, and an integer target,\n",
    "write a function to search target in nums. If target exists, then return its index. Otherwise,\n",
    "return -1.\n",
    "\n",
    "You must write an algorithm with O(log n) runtime complexity.\n",
    "\n",
    "Input: nums = [-1,0,3,5,9,12], target = 9\n",
    "Output: 4\n",
    "\n",
    "Explanation: 9 exists in nums and its index is 4"
   ]
  },
  {
   "cell_type": "code",
   "execution_count": 9,
   "id": "4d12aee0-9bf9-449a-bbbf-659f06f96070",
   "metadata": {},
   "outputs": [],
   "source": [
    "def search_element(nums,target):\n",
    "        left=0\n",
    "        right=len(nums)-1\n",
    "        while(left<=right):\n",
    "            mid = int((left+right)/2)\n",
    "            if(nums[mid]==target):\n",
    "                return mid\n",
    "                \n",
    "            elif(nums[mid] > target):\n",
    "                right=mid-1\n",
    "                \n",
    "            else:\n",
    "                left=mid+1\n",
    "        # return left\n",
    "        return -1"
   ]
  },
  {
   "cell_type": "code",
   "execution_count": 15,
   "id": "1d46fb3e-6def-4e89-9d5d-6baae6613efd",
   "metadata": {},
   "outputs": [
    {
     "data": {
      "text/plain": [
       "4"
      ]
     },
     "execution_count": 15,
     "metadata": {},
     "output_type": "execute_result"
    }
   ],
   "source": [
    "nums = [-1,0,3,5,9,12]\n",
    "target = 9\n",
    "search_element(nums,target)"
   ]
  },
  {
   "cell_type": "code",
   "execution_count": 11,
   "id": "2c701717-002e-462f-a64e-02dba7c46771",
   "metadata": {},
   "outputs": [
    {
     "data": {
      "text/plain": [
       "-1"
      ]
     },
     "execution_count": 11,
     "metadata": {},
     "output_type": "execute_result"
    }
   ],
   "source": [
    "nums = [-1,0,3,5,9,12]\n",
    "target = -2\n",
    "search_element(nums,target)"
   ]
  },
  {
   "cell_type": "markdown",
   "id": "b5ea035d-4dc1-433e-a261-d069b0ff805d",
   "metadata": {},
   "source": [
    "Question 7\n",
    "An array is monotonic if it is either monotone increasing or monotone decreasing.\n",
    "\n",
    "An array nums is monotone increasing if for all i <= j, nums[i] <= nums[j]. An array nums is\n",
    "monotone decreasing if for all i <= j, nums[i] >= nums[j].\n",
    "\n",
    "Given an integer array nums, return true if the given array is monotonic, or false otherwise.\n",
    "\n",
    "Example 1:\n",
    "Input: nums = [1,2,2,3]\n",
    "Output: true"
   ]
  },
  {
   "cell_type": "code",
   "execution_count": 36,
   "id": "371d2ffd-3738-485a-b3c9-c9c84e695471",
   "metadata": {},
   "outputs": [
    {
     "data": {
      "text/plain": [
       "True"
      ]
     },
     "execution_count": 36,
     "metadata": {},
     "output_type": "execute_result"
    }
   ],
   "source": [
    "def monotonicCheck(nums):\n",
    "    flag = True\n",
    "    n=len(nums)\n",
    "    if nums[0] >= nums[n-1]:\n",
    "        for i in range(n-2):\n",
    "            if nums[i] < nums[i+1]:\n",
    "                flag = False\n",
    "    else:\n",
    "        for i in range(n-2):\n",
    "            if nums[i] > nums[i+1]:\n",
    "                flag = False\n",
    "                \n",
    "    return flag\n",
    "nums = [1,2,2,3]\n",
    "monotonicCheck(nums)"
   ]
  },
  {
   "cell_type": "code",
   "execution_count": 37,
   "id": "7dc016d8-91a7-4f01-8aba-238c31bec118",
   "metadata": {},
   "outputs": [
    {
     "data": {
      "text/plain": [
       "False"
      ]
     },
     "execution_count": 37,
     "metadata": {},
     "output_type": "execute_result"
    }
   ],
   "source": [
    "array = [2,4,3,56, 124, 369]\n",
    "\n",
    "monotonicCheck(array)"
   ]
  },
  {
   "cell_type": "markdown",
   "id": "3d34473d-afc7-430a-bd4a-0781e7f0f334",
   "metadata": {},
   "source": [
    "Question 8\n",
    "You are given an integer array nums and an integer k.\n",
    "\n",
    "In one operation, you can choose any index i where 0 <= i < nums.length and change nums[i] to nums[i] + x where x is an integer from the range [-k, k]. You can apply this operation at most once for each index i.\n",
    "\n",
    "The score of nums is the difference between the maximum and minimum elements in nums.\n",
    "\n",
    "Return the minimum score of nums after applying the mentioned operation at most once for each index in it.\n",
    "\n",
    "Example 1:\n",
    "Input: nums = [1], k = 0\n",
    "Output: 0\n",
    "\n",
    "Explanation: The score is max(nums) - min(nums) = 1 - 1 = 0."
   ]
  },
  {
   "cell_type": "code",
   "execution_count": 7,
   "id": "bff4ddae-ec20-481f-912e-af3397b4ae9b",
   "metadata": {},
   "outputs": [],
   "source": [
    "def min_max(nums,k):\n",
    "    x=max(nums)\n",
    "    print(x)\n",
    "    y=min(nums)\n",
    "    print(y)\n",
    "    return max(0,(x-y)-2*k)\n",
    "# we need to calculate every integer in the range of index"
   ]
  },
  {
   "cell_type": "code",
   "execution_count": 9,
   "id": "33310a88-6122-433e-9924-887252b30b87",
   "metadata": {},
   "outputs": [
    {
     "name": "stdout",
     "output_type": "stream",
     "text": [
      "1\n",
      "1\n"
     ]
    },
    {
     "data": {
      "text/plain": [
       "0"
      ]
     },
     "execution_count": 9,
     "metadata": {},
     "output_type": "execute_result"
    }
   ],
   "source": [
    "nums = [1]\n",
    "k = 0 \n",
    "min_max(nums,k)"
   ]
  },
  {
   "cell_type": "code",
   "execution_count": null,
   "id": "97272599-b17e-49e6-9e76-6162b917cd82",
   "metadata": {},
   "outputs": [],
   "source": []
  }
 ],
 "metadata": {
  "kernelspec": {
   "display_name": "Python 3 (ipykernel)",
   "language": "python",
   "name": "python3"
  },
  "language_info": {
   "codemirror_mode": {
    "name": "ipython",
    "version": 3
   },
   "file_extension": ".py",
   "mimetype": "text/x-python",
   "name": "python",
   "nbconvert_exporter": "python",
   "pygments_lexer": "ipython3",
   "version": "3.10.6"
  }
 },
 "nbformat": 4,
 "nbformat_minor": 5
}
