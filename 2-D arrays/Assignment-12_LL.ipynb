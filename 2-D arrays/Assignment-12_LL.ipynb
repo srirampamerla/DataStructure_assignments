{
 "cells": [
  {
   "cell_type": "markdown",
   "id": "2fb67d94-aa85-4fd6-9a28-0bd1432eaef0",
   "metadata": {},
   "source": [
    "<aside>\n",
    "💡 **Question 1**\n",
    "\n",
    "Given a singly linked list, delete **middle** of the linked list. For example, if given linked list is 1->2->**3**->4->5 then linked list should be modified to 1->2->4->5.If there are **even** nodes, then there would be **two middle** nodes, we need to delete the second middle element. For example, if given linked list is 1->2->3->4->5->6 then it should be modified to 1->2->3->5->6.If the input linked list is NULL or has 1 node, then it should return NULL\n",
    "\n",
    "**Example 1:**\n",
    "Input:\n",
    "LinkedList: 1->2->3->4->5\n",
    "Output:1 2 4 5\n",
    "\n",
    "    \n",
    "    **Example 2:**\n",
    "Input:\n",
    "LinkedList: 2->4->6->7->5->1\n",
    "Output:2 4 6 5 1\n",
    "</aside>"
   ]
  },
  {
   "cell_type": "code",
   "execution_count": 1,
   "id": "d3573509-1ef3-4b6b-a403-48643c2aa988",
   "metadata": {},
   "outputs": [
    {
     "name": "stdout",
     "output_type": "stream",
     "text": [
      "Input:\n",
      "1 2 3 4 5 \n",
      "Output:\n",
      "1 2 4 5 \n",
      "Input:\n",
      "2 4 6 7 5 1 \n",
      "Output:\n",
      "2 4 6 5 1 "
     ]
    }
   ],
   "source": [
    "class ListNode:\n",
    "    def __init__(self, val=0, next=None):\n",
    "        self.val = val\n",
    "        self.next = next\n",
    "\n",
    "def delete_middle_node(head):\n",
    "    if head is None or head.next is None:\n",
    "        return head.next\n",
    "    \n",
    "    slow = head\n",
    "    fast = head\n",
    "    prev = None\n",
    "\n",
    "    while fast and fast.next: \n",
    "        \n",
    "        fast = fast.next.next# move 2 steps from head(1to 3) every time until it wilol be none or \n",
    "        '''fast.next=none if the numbers are even it will remove the correct element'''\n",
    "        prev = slow#assgn to slow\n",
    "        slow = slow.next# move 1 steps from head(1to 2)\n",
    "\n",
    "    prev.next = slow.next\n",
    "\n",
    "    return head\n",
    "\n",
    "def print_linked_list(head):\n",
    "    current = head\n",
    "    while current:\n",
    "        print(current.val, end=\" \")\n",
    "        current = current.next\n",
    "\n",
    "# Example 1: LinkedList: 1->2->3->4->5\n",
    "head1 = ListNode(1)\n",
    "head1.next = ListNode(2)\n",
    "head1.next.next = ListNode(3)\n",
    "head1.next.next.next = ListNode(4)\n",
    "head1.next.next.next.next = ListNode(5)\n",
    "\n",
    "print(\"Input:\")\n",
    "print_linked_list(head1)\n",
    "\n",
    "modified_head1 = delete_middle_node(head1)\n",
    "\n",
    "print(\"\\nOutput:\")\n",
    "print_linked_list(modified_head1)\n",
    "\n",
    "\n",
    "# Example 2: LinkedList: 2->4->6->7->5->1\n",
    "head2 = ListNode(2)\n",
    "head2.next = ListNode(4)\n",
    "head2.next.next = ListNode(6)\n",
    "head2.next.next.next = ListNode(7)\n",
    "head2.next.next.next.next = ListNode(5)\n",
    "head2.next.next.next.next.next = ListNode(1)\n",
    "\n",
    "print(\"\\nInput:\")\n",
    "print_linked_list(head2)\n",
    "\n",
    "modified_head2 = delete_middle_node(head2)\n",
    "\n",
    "print(\"\\nOutput:\")\n",
    "print_linked_list(modified_head2)\n"
   ]
  },
  {
   "cell_type": "markdown",
   "id": "a9f11059-8e59-4f6a-ae32-f9d9e25084ab",
   "metadata": {},
   "source": [
    "<aside>\n",
    "💡 **Question 2**\n",
    "\n",
    "Given a linked list of **N** nodes. The task is to check if the linked list has a loop. Linked list can contain self loop.\n",
    "\n",
    "**Example 1:**\n",
    "Input:\n",
    "N = 3\n",
    "value[] = {1,3,4}\n",
    "x(position at which tail is connected) = 2\n",
    "Output:True\n",
    "Explanation:In above test case N = 3.\n",
    "The linked list with nodes N = 3 is\n",
    "given. Then value of x=2 is given which\n",
    "means last node is connected with xth\n",
    "node of linked list. Therefore, there\n",
    "exists a loop.\n",
    "\n",
    "\n",
    "Example 2:Input:\n",
    "N = 4\n",
    "value[] = {1,8,3,4}\n",
    "x = 0\n",
    "Output:False\n",
    "Explanation:For N = 4 ,x = 0 means\n",
    "then lastNode->next = NULL, then\n",
    "the Linked list does not contains\n",
    "any loop.\n",
    "</aside>"
   ]
  },
  {
   "cell_type": "code",
   "execution_count": 6,
   "id": "014d9173-dd7f-45ac-890a-094f1c005dde",
   "metadata": {},
   "outputs": [
    {
     "name": "stdout",
     "output_type": "stream",
     "text": [
      "For Ex1: True\n",
      "For Ex2: False\n"
     ]
    }
   ],
   "source": [
    "class Node:\n",
    "    def __init__(self, val=0, next=None):\n",
    "        self.val = val\n",
    "        self.next = next\n",
    "\n",
    "def detectLoop(head):\n",
    "    # Initialize slow and fast pointers\n",
    "    slow = head\n",
    "    fast = head\n",
    "\n",
    "    while fast is not None and fast.next is not None:\n",
    "        slow = slow.next\n",
    "        fast = fast.next.next\n",
    "\n",
    "        # If slow and fast pointers meet, there is a loop\n",
    "        if slow == fast:\n",
    "            return True\n",
    "\n",
    "    # If loop is not found, return False\n",
    "    return False\n",
    "\n",
    "# Example 1: LinkedList: 1-3-4-3\n",
    "head = Node(1)\n",
    "node2 = Node(3)\n",
    "node3 = Node(4)\n",
    "head.next = node2\n",
    "node2.next = node3\n",
    "# Create a loop in the linked list\n",
    "node3.next = node2\n",
    "# Check if the linked list has a loop\n",
    "hasLoop = detectLoop(head)\n",
    "print(\"For Ex1:\",hasLoop)\n",
    "# Example 2: LinkedList: 1-8-3-4\n",
    "head = Node(1)\n",
    "node2 = Node(8)\n",
    "node3 = Node(3)\n",
    "node4=Node(4)\n",
    "head.next = node2\n",
    "node2.next = node3\n",
    "node3.next=node4\n",
    "\n",
    "# Check if the linked list has a loop\n",
    "hasLoop = detectLoop(head)\n",
    "print(\"For Ex2:\",hasLoop)\n",
    "\n",
    "\n"
   ]
  },
  {
   "cell_type": "markdown",
   "id": "94e88df9-6cf0-451f-b57d-eeee792910b2",
   "metadata": {},
   "source": [
    "<aside>\n",
    "💡 **Question 3**\n",
    "\n",
    "Given a linked list consisting of **L** nodes and given a number **N**. The task is to find the **N**th node from the end of the linked list.\n",
    "\n",
    "**Example 1:**\n",
    "Input:\n",
    "N = 2\n",
    "LinkedList: 1->2->3->4->5->6->7->8->9\n",
    "Output:8\n",
    "Explanation:In the first example, there\n",
    "are 9 nodes in linked list and we need\n",
    "to find 2nd node from end. 2nd node\n",
    "from end is 8.\n",
    "\n",
    "\n",
    "Example : 2\n",
    "Input:\n",
    "N = 5\n",
    "LinkedList: 10->5->100->5\n",
    "Output:-1\n",
    "Explanation:In the second example, there\n",
    "are 4 nodes in the linked list and we\n",
    "need to find 5th from the end. Since 'n'\n",
    "is more than the number of nodes in the\n",
    "linked list, the output is -1.\n",
    "</aside>"
   ]
  },
  {
   "cell_type": "code",
   "execution_count": 45,
   "id": "23a2c6f5-85d0-44c0-a716-e281bd1a1834",
   "metadata": {},
   "outputs": [],
   "source": [
    "class Node:\n",
    "    def __init__(self, val=0, next=None):\n",
    "        self.val = val\n",
    "        self.next = next\n",
    "\n",
    "def getNthFromLast(head, N):\n",
    "    if head is None or N <= 0:\n",
    "        return -1  # Invalid input\n",
    "\n",
    "    slow = head\n",
    "    fast = head\n",
    "\n",
    "    # Move fast pointer N nodes ahead\n",
    "    count = 0\n",
    "    while count < N:\n",
    "        if fast is None:\n",
    "            return -1  # N is greater than the number of nodes in the linked list\n",
    "        fast = fast.next\n",
    "        count += 1\n",
    "\n",
    "    # Move slow and fast pointers simultaneously\n",
    "    while fast is not None:\n",
    "        slow = slow.next\n",
    "        \n",
    "        fast = fast.next\n",
    "\n",
    "    if slow:\n",
    "        return slow.val  # Nth node from the end\n",
    "    else:\n",
    "        return -1  # N is greater than the number of nodes in the linked list\n"
   ]
  },
  {
   "cell_type": "code",
   "execution_count": 46,
   "id": "559e93f2-214b-4f35-acac-e5c4c66c3306",
   "metadata": {},
   "outputs": [
    {
     "name": "stdout",
     "output_type": "stream",
     "text": [
      "8\n"
     ]
    }
   ],
   "source": [
    "head = Node(1)\n",
    "node2 = Node(2)\n",
    "node3 = Node(3)\n",
    "node4 = Node(4)\n",
    "node5 = Node(5)\n",
    "node6 = Node(6)\n",
    "node7 = Node(7)\n",
    "node8 = Node(8)\n",
    "node9 = Node(9)\n",
    "\n",
    "head.next = node2\n",
    "node2.next = node3\n",
    "node3.next = node4\n",
    "node4.next = node5\n",
    "node5.next = node6\n",
    "node6.next = node7\n",
    "node7.next = node8\n",
    "node8.next = node9\n",
    "\n",
    "# Remove the 2nd node from the end\n",
    "n = 2\n",
    "nthNode = getNthFromLast(head, n)\n",
    "print(nthNode)\n"
   ]
  },
  {
   "cell_type": "code",
   "execution_count": 47,
   "id": "28e7a3f0-89bf-42c5-98f0-403ea6e957de",
   "metadata": {},
   "outputs": [
    {
     "name": "stdout",
     "output_type": "stream",
     "text": [
      "-1\n"
     ]
    }
   ],
   "source": [
    "head = Node(10)\n",
    "node2 = Node(5)\n",
    "node3 = Node(100)\n",
    "node4 = Node(5)\n",
    "\n",
    "head.next = node2\n",
    "node2.next = node3\n",
    "node3.next = node4\n",
    "n = 5\n",
    "nthNode = getNthFromLast(head, n)\n",
    "print(nthNode)"
   ]
  },
  {
   "cell_type": "markdown",
   "id": "4c0fb088-e2f1-4f05-b968-1727f81f872c",
   "metadata": {},
   "source": [
    "<aside>\n",
    "💡 **Question 4**\n",
    "\n",
    "Given a singly linked list of characters, write a function that returns true if the given list is a palindrome, else false.\n",
    "\n",
    "\n",
    "\n",
    "**Examples:**\n",
    "\n",
    "> Input: R->A->D->A->R->NULL\n",
    "> \n",
    "> \n",
    "> **Output:** Yes\n",
    "> \n",
    "> **Input:** C->O->D->E->NULL\n",
    "> \n",
    "> **Output:** No\n",
    "> \n",
    "</aside>"
   ]
  },
  {
   "attachments": {
    "832414bd-b9a4-48ab-b227-aaba81aa6cdd.png": {
     "image/png": "[encoded data removed]"
    }
   },
   "cell_type": "markdown",
   "id": "b7891150-6c55-439c-9151-c305ae770f3b",
   "metadata": {},
   "source": [
    "![image.png](attachment:832414bd-b9a4-48ab-b227-aaba81aa6cdd.png)"
   ]
  },
  {
   "cell_type": "code",
   "execution_count": 51,
   "id": "df7a7a4a-b779-4341-8e75-122aa95e5330",
   "metadata": {},
   "outputs": [],
   "source": [
    "class Node:\n",
    "    def __init__(self, val=0, next=None):\n",
    "        self.val = val\n",
    "        self.next = next\n",
    "\n",
    "def isPalindrome(head):\n",
    "    original = \"\"\n",
    "    \n",
    "    # Traverse the linked list and build the original string\n",
    "    current = head\n",
    "    while current:\n",
    "        original += current.val\n",
    "        current = current.next\n",
    "    \n",
    "    # Reverse the original string\n",
    "    reversed_str = original[::-1]\n",
    "    \n",
    "    # Compare the original string with the reversed string\n",
    "    if original == reversed_str:\n",
    "        return True\n",
    "    else:\n",
    "        return False\n"
   ]
  },
  {
   "cell_type": "code",
   "execution_count": 52,
   "id": "785b07d1-2a9f-4d22-9c24-90e835e4d164",
   "metadata": {},
   "outputs": [
    {
     "name": "stdout",
     "output_type": "stream",
     "text": [
      "True\n"
     ]
    }
   ],
   "source": [
    "head = Node('R')\n",
    "node2 = Node('A')\n",
    "node3 = Node('D')\n",
    "node4 = Node('A')\n",
    "node5 = Node('R')\n",
    "\n",
    "head.next = node2\n",
    "node2.next = node3\n",
    "node3.next = node4\n",
    "node4.next = node5\n",
    "result = isPalindrome(head)\n",
    "print(result)"
   ]
  },
  {
   "cell_type": "code",
   "execution_count": 53,
   "id": "a2a236c0-2fe6-4d5c-9ae7-b97ca7e86362",
   "metadata": {},
   "outputs": [
    {
     "name": "stdout",
     "output_type": "stream",
     "text": [
      "False\n"
     ]
    }
   ],
   "source": [
    "head = Node('C')\n",
    "node2 = Node('O')\n",
    "node3 = Node('D')\n",
    "node4 = Node('E')\n",
    "\n",
    "head.next = node2\n",
    "node2.next = node3\n",
    "node3.next = node4\n",
    "\n",
    "result = isPalindrome(head)\n",
    "print(result)"
   ]
  },
  {
   "cell_type": "markdown",
   "id": "fe050bc6-1a26-42e6-b889-7e5f7f5af10c",
   "metadata": {},
   "source": [
    "<aside>\n",
    "💡 **Question 5**\n",
    "\n",
    "Given a linked list of **N** nodes such that it may contain a loop.\n",
    "\n",
    "A loop here means that the last node of the link list is connected to the node at position X(1-based index). If the link list does not have any loop, X=0.\n",
    "\n",
    "Remove the loop from the linked list, if it is present, i.e. unlink the last node which is forming the loop.\n",
    "\n",
    "**Example 1:**\n",
    "Input:\n",
    "N = 3\n",
    "value[] = {1,3,4}\n",
    "X = 2\n",
    "Output:1\n",
    "Explanation:The link list looks like\n",
    "1 -> 3 -> 4\n",
    "     ^    |\n",
    "     |____|\n",
    "A loop is present. If you remove it\n",
    "successfully, the answer will be 1.\n",
    "\n",
    "\n",
    "Example2:\n",
    "Input:\n",
    "N = 4\n",
    "value[] = {1,8,3,4}\n",
    "X = 0\n",
    "Output:1\n",
    "Explanation:The Linked list does not\n",
    "contains any loop.\n",
    "\n",
    "Example3:\n",
    "Input:\n",
    "N = 4\n",
    "value[] = {1,2,3,4}\n",
    "X = 1\n",
    "Output:1\n",
    "Explanation:The link list looks like\n",
    "1 -> 2 -> 3 -> 4\n",
    "^              |\n",
    "|______________|\n",
    "A loop is present.\n",
    "If you remove it successfully,\n",
    "the answer will be 1.\n",
    "\n",
    "</aside>"
   ]
  },
  {
   "cell_type": "code",
   "execution_count": 9,
   "id": "d10927d2-15aa-41ce-9d3c-5c15b1896dd5",
   "metadata": {},
   "outputs": [],
   "source": [
    "class Node:\n",
    "    def __init__(self, val):\n",
    "        self.val = val\n",
    "        self.next = None\n",
    "\n",
    "def removeLoop(head):\n",
    "    slow = head\n",
    "    fast = head\n",
    "\n",
    "    while fast and fast.next:\n",
    "        slow = slow.next\n",
    "        fast = fast.next.next\n",
    "\n",
    "        if slow == fast:\n",
    "            break\n",
    "\n",
    "    # Step 2: If there is no loop, return the head\n",
    "    if fast is None or fast.next is None:\n",
    "        return head\n",
    "\n",
    "    # Step 3: Move slow to the head and find the loop start node\n",
    "    slow = head\n",
    "\n",
    "    while slow.next != fast.next:\n",
    "        slow = slow.next\n",
    "        fast = fast.next\n",
    "\n",
    "    # Step 4: Remove the loop by setting the next pointer to None\n",
    "    fast.next = None\n",
    "\n",
    "    return head\n"
   ]
  },
  {
   "cell_type": "code",
   "execution_count": 11,
   "id": "700aaf06-cf63-400c-a1b4-9c4f7e9b9411",
   "metadata": {},
   "outputs": [
    {
     "name": "stdout",
     "output_type": "stream",
     "text": [
      "1\n"
     ]
    }
   ],
   "source": [
    "# Create the linked list: 1 -> 3 -> 4 -> 3 (loop)\n",
    "head = Node(1)\n",
    "head.next = Node(3)\n",
    "head.next.next = Node(4)\n",
    "head.next.next.next = Node(3)\n",
    "head.next.next.next.next = head.next\n",
    "\n",
    "# Remove the loop from the linked list\n",
    "head = removeLoop(head)\n",
    "print(head.val)\n",
    "\n"
   ]
  },
  {
   "cell_type": "markdown",
   "id": "4f926f11-e903-42ec-8e62-7291c39bbc18",
   "metadata": {},
   "source": [
    "Given a linked list and two integers M and N. Traverse the linked list such that you retain M nodes then delete next N nodes, continue the same till end of the linked list.\n",
    "\n",
    "Difficulty Level: Rookie\n",
    "\n",
    "**Examples**:\n",
    "    Input:\n",
    "M = 2, N = 2\n",
    "Linked List: 1->2->3->4->5->6->7->8\n",
    "Output:\n",
    "Linked List: 1->2->5->6\n",
    "\n",
    "Input:\n",
    "M = 3, N = 2\n",
    "Linked List: 1->2->3->4->5->6->7->8->9->10\n",
    "Output:\n",
    "Linked List: 1->2->3->6->7->8\n",
    "\n",
    "Input:\n",
    "M = 1, N = 1\n",
    "Linked List: 1->2->3->4->5->6->7->8->9->10\n",
    "Output:\n",
    "Linked List: 1->3->5->7->9"
   ]
  },
  {
   "cell_type": "code",
   "execution_count": 38,
   "id": "a9598058-1a05-45fe-81e7-690b2175f809",
   "metadata": {},
   "outputs": [],
   "source": [
    "# Node class definition\n",
    "class Node:\n",
    "    def __init__(self, val):\n",
    "        self.val = val\n",
    "        self.next = None\n",
    "\n",
    "# Function to skip M nodes and delete N nodes\n",
    "def skipAndDelete(head, M, N):\n",
    "    if M == 0 or N == 0:\n",
    "        return head\n",
    "\n",
    "    current = head\n",
    "    prev = None\n",
    "\n",
    "    while current:\n",
    "        # Skip M nodes\n",
    "        for i in range(M-1):\n",
    "            if current is None:\n",
    "                return head\n",
    "            current = current.next\n",
    "\n",
    "        if current is None:\n",
    "            return head\n",
    "\n",
    "        # Delete N nodes\n",
    "        prev = current\n",
    "        for _ in range(N+1):\n",
    "            if current is None:\n",
    "                break\n",
    "            current = current.next\n",
    "\n",
    "        prev.next = current\n",
    "\n",
    "    return head\n",
    "\n",
    "\n"
   ]
  },
  {
   "cell_type": "code",
   "execution_count": 39,
   "id": "d1c10d26-a261-40c3-8523-c76b040e10c4",
   "metadata": {},
   "outputs": [
    {
     "name": "stdout",
     "output_type": "stream",
     "text": [
      "1 2 5 6 "
     ]
    }
   ],
   "source": [
    "# Create the linked list for the first input\n",
    "head = Node(1)\n",
    "node2 = Node(2)\n",
    "node3 = Node(3)\n",
    "node4 = Node(4)\n",
    "node5 = Node(5)\n",
    "node6 = Node(6)\n",
    "node7 = Node(7)\n",
    "node8 = Node(8)\n",
    "\n",
    "head.next = node2\n",
    "node2.next = node3\n",
    "node3.next = node4\n",
    "node4.next = node5\n",
    "node5.next = node6\n",
    "node6.next = node7\n",
    "node7.next = node8\n",
    "\n",
    "# Execute the function for the first input\n",
    "M1 = 2\n",
    "N1 = 2\n",
    "new_head = skipAndDelete(head, M1, N1)\n",
    "\n",
    "# Traverse and print the modified linked list for the first input\n",
    "current = new_head\n",
    "while current:\n",
    "    print(current.val, end=\" \")\n",
    "    current = current.next\n"
   ]
  },
  {
   "cell_type": "code",
   "execution_count": 40,
   "id": "3c9acd1e-4144-4cc2-9c09-cd2b12b4cb98",
   "metadata": {},
   "outputs": [
    {
     "name": "stdout",
     "output_type": "stream",
     "text": [
      "1 2 3 6 7 8 "
     ]
    }
   ],
   "source": [
    "head = Node(1)\n",
    "node2 = Node(2)\n",
    "node3 = Node(3)\n",
    "node4 = Node(4)\n",
    "node5 = Node(5)\n",
    "node6 = Node(6)\n",
    "node7 = Node(7)\n",
    "node8 = Node(8)\n",
    "node9 = Node(9)\n",
    "node10 = Node(10)\n",
    "\n",
    "head.next = node2\n",
    "node2.next = node3\n",
    "node3.next = node4\n",
    "node4.next = node5\n",
    "node5.next = node6\n",
    "node6.next = node7\n",
    "node7.next = node8\n",
    "node8.next = node9\n",
    "node9.next = node10\n",
    "\n",
    "# Execute the function for the second input\n",
    "M2 = 3\n",
    "N2 = 2\n",
    "new_head2 = skipAndDelete(head, M2, N2)\n",
    "\n",
    "# Traverse and print the modified linked list for the second input\n",
    "current = new_head2\n",
    "while current:\n",
    "    print(current.val, end=\" \")\n",
    "    current = current.next\n",
    "\n",
    "\n"
   ]
  },
  {
   "cell_type": "code",
   "execution_count": 41,
   "id": "b4a25271-2d3b-4d98-bcfc-ddea6354a2d4",
   "metadata": {},
   "outputs": [
    {
     "name": "stdout",
     "output_type": "stream",
     "text": [
      "1 3 5 7 9 "
     ]
    }
   ],
   "source": [
    "head = Node(1)\n",
    "node2 = Node(2)\n",
    "node3 = Node(3)\n",
    "node4 = Node(4)\n",
    "node5 = Node(5)\n",
    "node6 = Node(6)\n",
    "node7 = Node(7)\n",
    "node8 = Node(8)\n",
    "node9 = Node(9)\n",
    "node10 = Node(10)\n",
    "\n",
    "head.next = node2\n",
    "node2.next = node3\n",
    "node3.next = node4\n",
    "node4.next = node5\n",
    "node5.next = node6\n",
    "node6.next = node7\n",
    "node7.next = node8\n",
    "node8.next = node9\n",
    "node9.next = node10\n",
    "\n",
    "# Execute the function for the second input\n",
    "M2 = 1\n",
    "N2 = 1\n",
    "new_head2 = skipAndDelete(head, M2, N2)\n",
    "\n",
    "# Traverse and print the modified linked list for the second input\n",
    "current = new_head2\n",
    "while current:\n",
    "    print(current.val, end=\" \")\n",
    "    current = current.next\n",
    "\n",
    "\n"
   ]
  },
  {
   "cell_type": "markdown",
   "id": "27daf9b9-cce9-45cf-a2dd-91c546debdc3",
   "metadata": {},
   "source": [
    "Given two linked lists, insert nodes of second list into first list at alternate positions of first list.\n",
    "For example, if first list is 5->7->17->13->11 and second is 12->10->2->4->6, the first list should become 5->12->7->10->17->2->13->4->11->6 and second list should become empty. The nodes of second list should only be inserted when there are positions available. For example, if the first list is 1->2->3 and second list is 4->5->6->7->8, then first list should become 1->4->2->5->3->6 and second list to 7->8.\n",
    "\n",
    "Use of extra space is not allowed (Not allowed to create additional nodes), i.e., insertion must be done in-place. Expected time complexity is O(n) where n is number of nodes in first list."
   ]
  },
  {
   "cell_type": "code",
   "execution_count": 51,
   "id": "e0e4fd6b-f49a-43fb-a0d6-1da6b754e4bb",
   "metadata": {},
   "outputs": [],
   "source": [
    "class Node:\n",
    "    def __init__(self, val):\n",
    "        self.val = val\n",
    "        self.next = None\n",
    "\n",
    "def mergeLists(head1, head2):\n",
    "    if head1 is None:\n",
    "        return head2\n",
    "\n",
    "    if head2 is None:\n",
    "        return head1\n",
    "\n",
    "    first = head1\n",
    "    second = head2\n",
    "\n",
    "    while first and second:\n",
    "        first_next = first.next\n",
    "        second_next = second.next\n",
    "\n",
    "        second.next = first_next\n",
    "        first.next = second\n",
    "\n",
    "        first = first_next\n",
    "        second = second_next\n",
    "\n",
    "    if second:\n",
    "        current = head1\n",
    "        while current.next:\n",
    "            current = current.next\n",
    "        current.next = second\n",
    "\n",
    "    return head1\n"
   ]
  },
  {
   "cell_type": "code",
   "execution_count": 52,
   "id": "e1936d08-91f8-4524-8291-9441504ddc12",
   "metadata": {},
   "outputs": [
    {
     "name": "stdout",
     "output_type": "stream",
     "text": [
      "5 12 7 10 17 2 13 4 11 6 "
     ]
    }
   ],
   "source": [
    "head1 = Node(5)\n",
    "node2 = Node(7)\n",
    "node3 = Node(17)\n",
    "node4 = Node(13)\n",
    "node5 = Node(11)\n",
    "head2 = Node(12)\n",
    "node6 = Node(10)\n",
    "node7 = Node(2)\n",
    "node8 = Node(4)\n",
    "node9 = Node(6)\n",
    "\n",
    "head1.next = node2\n",
    "node2.next = node3\n",
    "node3.next = node4\n",
    "node4.next = node5\n",
    "head2.next = node6\n",
    "node6.next = node7\n",
    "node7.next = node8\n",
    "node8.next = node9\n",
    "\n",
    "new_head = mergeLists(head1, head2)\n",
    "\n",
    "# Traverse and print the merged list\n",
    "current = new_head\n",
    "while current:\n",
    "    print(current.val, end=\" \")\n",
    "    current = current.next\n",
    "\n",
    "\n"
   ]
  },
  {
   "cell_type": "markdown",
   "id": "a3911c0e-4100-403d-8f99-c26b67ec2c34",
   "metadata": {},
   "source": [
    "<aside>\n",
    "💡 **Question 8**\n",
    "\n",
    "Given a singly linked list, find if the linked list is [circular](https://www.geeksforgeeks.org/circular-linked-list/amp/) or not.\n",
    "\n",
    "> A linked list is called circular if it is not NULL-terminated and all nodes are connected in the form of a cycle. Below is an example of a circular linked list.\n",
    "> \n",
    "</aside>"
   ]
  },
  {
   "attachments": {
    "5285b440-f524-4ea4-944e-b3cb4752d02f.png": {
     "image/png": "[encoded data removed]"
    }
   },
   "cell_type": "markdown",
   "id": "26d5f379-6aa3-4231-973e-eb43e883b5af",
   "metadata": {},
   "source": [
    "![image.png](attachment:5285b440-f524-4ea4-944e-b3cb4752d02f.png)"
   ]
  },
  {
   "cell_type": "code",
   "execution_count": 53,
   "id": "6172b002-897f-4a0f-a9dd-4eb16f813967",
   "metadata": {},
   "outputs": [],
   "source": [
    "class Node:\n",
    "    def __init__(self, data):\n",
    "        self.data = data\n",
    "        self.next = None\n",
    "\n",
    "def isCircular(head):\n",
    "    if head is None:\n",
    "        return False\n",
    "\n",
    "    slow = head\n",
    "    fast = head.next\n",
    "\n",
    "    while fast and fast.next:\n",
    "        if slow == fast:\n",
    "            return True\n",
    "\n",
    "        slow = slow.next\n",
    "        fast = fast.next.next\n",
    "\n",
    "    return False\n"
   ]
  },
  {
   "cell_type": "code",
   "execution_count": 57,
   "id": "9f53b12e-91d6-4624-b3d6-c44194dc1daf",
   "metadata": {},
   "outputs": [
    {
     "data": {
      "text/plain": [
       "True"
      ]
     },
     "execution_count": 57,
     "metadata": {},
     "output_type": "execute_result"
    }
   ],
   "source": [
    "head1 = Node(10)\n",
    "node2 = Node(12)\n",
    "node3 = Node(14)\n",
    "node4 = Node(16)\n",
    "head1.next = node2\n",
    "node2.next = node3\n",
    "node3.next = node4\n",
    "node4.next = head1\n",
    "\n",
    "isCircular(head1)"
   ]
  },
  {
   "cell_type": "code",
   "execution_count": null,
   "id": "b567cc79-2ff2-45f6-84b3-e664a137393e",
   "metadata": {},
   "outputs": [],
   "source": []
  }
 ],
 "metadata": {
  "kernelspec": {
   "display_name": "Python 3 (ipykernel)",
   "language": "python",
   "name": "python3"
  },
  "language_info": {
   "codemirror_mode": {
    "name": "ipython",
    "version": 3
   },
   "file_extension": ".py",
   "mimetype": "text/x-python",
   "name": "python",
   "nbconvert_exporter": "python",
   "pygments_lexer": "ipython3",
   "version": "3.10.6"
  }
 },
 "nbformat": 4,
 "nbformat_minor": 5
}
