{
 "cells": [
  {
   "cell_type": "markdown",
   "id": "5783a292-7106-44c8-8770-7cfedd22dfc5",
   "metadata": {},
   "source": [
    "<aside>\n",
    "💡 **Question 1**\n",
    "\n",
    "Given an integer `n`, return *`true` if it is a power of two. Otherwise, return `false`*.\n",
    "\n",
    "An integer `n` is a power of two, if there exists an integer `x` such that `n == 2x`.\n",
    "\n",
    "**Example 1:**\n",
    "Input: n = 1 \n",
    "\n",
    "Output: true\n",
    "\n",
    "**Example 2:**\n",
    "Input: n = 16 \n",
    "\n",
    "Output: true\n",
    "\n",
    "**Example 3:**\n",
    "Input: n = 3 \n",
    "\n",
    "Output: false\n",
    "\n",
    "</aside>"
   ]
  },
  {
   "cell_type": "code",
   "execution_count": 6,
   "id": "da9fe23d-bdb9-4194-a583-b597d89c1b23",
   "metadata": {},
   "outputs": [],
   "source": [
    "def power_two(n):\n",
    "    if n == 1:\n",
    "        return True\n",
    "    elif n <= 0 or n % 2 != 0:\n",
    "        return False\n",
    "    else:\n",
    "        return power_two(n // 2)\n"
   ]
  },
  {
   "cell_type": "code",
   "execution_count": 7,
   "id": "911acf2d-1bc0-4967-9fc2-711d7b249c34",
   "metadata": {},
   "outputs": [
    {
     "data": {
      "text/plain": [
       "True"
      ]
     },
     "execution_count": 7,
     "metadata": {},
     "output_type": "execute_result"
    }
   ],
   "source": [
    "power_two(16)"
   ]
  },
  {
   "cell_type": "markdown",
   "id": "cb123141-9fbc-43fb-a728-ed8aeaa64352",
   "metadata": {},
   "source": [
    "<aside>\n",
    "💡 **Question 2**\n",
    "\n",
    "Given a number n, find the sum of the first natural numbers.\n",
    "\n",
    "**Example 1:**\n",
    "\n",
    "Input: n = 3 \n",
    "\n",
    "Output: 6\n",
    "\n",
    "**Example 2:**\n",
    "\n",
    "Input  : 5 \n",
    "\n",
    "Output : 15\n",
    "\n",
    "</aside>"
   ]
  },
  {
   "cell_type": "code",
   "execution_count": 8,
   "id": "d0cd95bd-d6e2-4b8b-8502-8d15fa053962",
   "metadata": {},
   "outputs": [],
   "source": [
    "def sum_natural_num(n):\n",
    "    if n == 1:\n",
    "        return 1\n",
    "    else:\n",
    "        return n + sum_natural_num(n - 1)\n"
   ]
  },
  {
   "cell_type": "code",
   "execution_count": 9,
   "id": "6b4eb4e0-f463-492e-9e98-ef48f34fee2b",
   "metadata": {},
   "outputs": [
    {
     "data": {
      "text/plain": [
       "15"
      ]
     },
     "execution_count": 9,
     "metadata": {},
     "output_type": "execute_result"
    }
   ],
   "source": [
    "sum_natural_num(5)"
   ]
  },
  {
   "cell_type": "code",
   "execution_count": 10,
   "id": "fe89128d-88d6-4fdc-99c7-70892b9eef09",
   "metadata": {},
   "outputs": [
    {
     "data": {
      "text/plain": [
       "6"
      ]
     },
     "execution_count": 10,
     "metadata": {},
     "output_type": "execute_result"
    }
   ],
   "source": [
    "sum_natural_num(3)"
   ]
  },
  {
   "cell_type": "markdown",
   "id": "f46a80be-b983-4ad5-94e0-8d98c39ff3fa",
   "metadata": {},
   "source": [
    "<aside>\n",
    "💡 **Question 3**\n",
    "\n",
    "****Given a positive integer, N. Find the factorial of N. \n",
    "\n",
    "**Example 1:**\n",
    "\n",
    "Input: N = 5 \n",
    "\n",
    "Output: 120\n",
    "\n",
    "**Example 2:**\n",
    "\n",
    "Input: N = 4\n",
    "\n",
    "Output: 24\n",
    "\n",
    "</aside>"
   ]
  },
  {
   "cell_type": "code",
   "execution_count": 13,
   "id": "cff9033e-bdae-40df-b9c8-1e47cd0b0817",
   "metadata": {},
   "outputs": [],
   "source": [
    "def fact(n):\n",
    "    if n == 1:\n",
    "        return 1\n",
    "    else:\n",
    "        return n * fact(n - 1)\n"
   ]
  },
  {
   "cell_type": "code",
   "execution_count": 14,
   "id": "15932c73-6a68-4280-8adf-baf556946239",
   "metadata": {},
   "outputs": [
    {
     "data": {
      "text/plain": [
       "120"
      ]
     },
     "execution_count": 14,
     "metadata": {},
     "output_type": "execute_result"
    }
   ],
   "source": [
    "factorial(5)"
   ]
  },
  {
   "cell_type": "code",
   "execution_count": 15,
   "id": "db4c3446-84d8-4789-8b42-96a6926ca73e",
   "metadata": {},
   "outputs": [
    {
     "data": {
      "text/plain": [
       "24"
      ]
     },
     "execution_count": 15,
     "metadata": {},
     "output_type": "execute_result"
    }
   ],
   "source": [
    "factorial(4)"
   ]
  },
  {
   "cell_type": "markdown",
   "id": "d10042fc-1b00-4874-83a7-64444bc5d54c",
   "metadata": {},
   "source": [
    "<aside>\n",
    "💡 **Question 4**\n",
    "\n",
    "Given a number N and a power P, the task is to find the exponent of this number raised to the given power, i.e. N^P.\n",
    "\n",
    "**Example 1 :** \n",
    "\n",
    "Input: N = 5, P = 2\n",
    "\n",
    "Output: 25\n",
    "\n",
    "**Example 2 :**\n",
    "Input: N = 2, P = 5\n",
    "\n",
    "Output: 32\n",
    "\n",
    "</aside>"
   ]
  },
  {
   "cell_type": "code",
   "execution_count": 17,
   "id": "a15f6f34-d10c-40cd-a823-60cde3cec081",
   "metadata": {},
   "outputs": [],
   "source": [
    "def exp(n,p):\n",
    "    if n == 1:\n",
    "        return 1\n",
    "    else:\n",
    "        return n**p\n"
   ]
  },
  {
   "cell_type": "code",
   "execution_count": 18,
   "id": "3291835d-25e9-48e4-96f9-2380346bb1b1",
   "metadata": {},
   "outputs": [
    {
     "data": {
      "text/plain": [
       "25"
      ]
     },
     "execution_count": 18,
     "metadata": {},
     "output_type": "execute_result"
    }
   ],
   "source": [
    "exp(5,2)"
   ]
  },
  {
   "cell_type": "code",
   "execution_count": 19,
   "id": "246ac902-cdc3-4c16-970a-160f422184a1",
   "metadata": {},
   "outputs": [
    {
     "data": {
      "text/plain": [
       "32"
      ]
     },
     "execution_count": 19,
     "metadata": {},
     "output_type": "execute_result"
    }
   ],
   "source": [
    "exp(2,5)"
   ]
  },
  {
   "cell_type": "markdown",
   "id": "0cb5bc04-0097-4927-bcb7-0f278af83617",
   "metadata": {},
   "source": [
    "<aside>\n",
    "💡 **Question 5**\n",
    "\n",
    "Given an array of integers **arr**, the task is to find maximum element of that array using recursion.\n",
    "\n",
    "**Example 1:**\n",
    "\n",
    "Input: arr = {1, 4, 3, -5, -4, 8, 6};\n",
    "Output: 8\n",
    "\n",
    "**Example 2:**\n",
    "\n",
    "Input: arr = {1, 4, 45, 6, 10, -8};\n",
    "Output: 45\n",
    "\n",
    "</aside>"
   ]
  },
  {
   "cell_type": "code",
   "execution_count": 42,
   "id": "e285af33-02ba-47f3-b8a3-4a754cc8d943",
   "metadata": {},
   "outputs": [],
   "source": [
    "def find_max(arr):\n",
    "    arr=list(arr)\n",
    "    if len(arr) == 1:\n",
    "        return arr[0]\n",
    "    else:\n",
    "        return max(arr[0], find_max(arr[1:]))\n"
   ]
  },
  {
   "cell_type": "code",
   "execution_count": 43,
   "id": "34b09a82-4898-4483-98e1-53c4bb8c13f4",
   "metadata": {},
   "outputs": [
    {
     "data": {
      "text/plain": [
       "8"
      ]
     },
     "execution_count": 43,
     "metadata": {},
     "output_type": "execute_result"
    }
   ],
   "source": [
    "arr = {1, 4, 3, -5, -4, 8, 6}\n",
    "find_max(arr)"
   ]
  },
  {
   "cell_type": "code",
   "execution_count": 44,
   "id": "791c9379-3603-436e-a5fc-833b30eff4a9",
   "metadata": {},
   "outputs": [
    {
     "data": {
      "text/plain": [
       "45"
      ]
     },
     "execution_count": 44,
     "metadata": {},
     "output_type": "execute_result"
    }
   ],
   "source": [
    "arr = {1, 4, 45, 6, 10, -8}\n",
    "find_max(arr)"
   ]
  },
  {
   "cell_type": "markdown",
   "id": "d8c54128-cb59-445b-a442-2ce7aca31b3e",
   "metadata": {},
   "source": [
    "<aside>\n",
    "💡 **Question 6**\n",
    "\n",
    "Given first term (a), common difference (d) and a integer N of the Arithmetic Progression series, the task is to find Nth term of the series.\n",
    "\n",
    "**Example 1:**\n",
    "\n",
    "Input : a = 2 d = 1 N = 5\n",
    "Output : 6\n",
    "The 5th term of the series is : 6\n",
    "\n",
    "**Example 2:**\n",
    "\n",
    "Input : a = 5 d = 2 N = 10\n",
    "Output : 23\n",
    "The 10th term of the series is : 23\n",
    "\n",
    "</aside>"
   ]
  },
  {
   "cell_type": "code",
   "execution_count": 45,
   "id": "b2798bc7-c57a-4550-a454-d4ae673845c7",
   "metadata": {},
   "outputs": [],
   "source": [
    "def arith_prog(a, d, N):\n",
    "    if N == 1:\n",
    "        return a\n",
    "    else:\n",
    "        return arith_prog(a + d, d, N - 1)\n"
   ]
  },
  {
   "cell_type": "code",
   "execution_count": 46,
   "id": "8fc2643c-11c5-4b5e-8354-d215bdee11ae",
   "metadata": {},
   "outputs": [
    {
     "data": {
      "text/plain": [
       "6"
      ]
     },
     "execution_count": 46,
     "metadata": {},
     "output_type": "execute_result"
    }
   ],
   "source": [
    "a = 2 \n",
    "d = 1 \n",
    "N = 5\n",
    "arith_prog(a, d, N)"
   ]
  },
  {
   "cell_type": "code",
   "execution_count": 47,
   "id": "be3dd446-ccaf-47ed-a2b8-2c18d5587f3c",
   "metadata": {},
   "outputs": [
    {
     "data": {
      "text/plain": [
       "23"
      ]
     },
     "execution_count": 47,
     "metadata": {},
     "output_type": "execute_result"
    }
   ],
   "source": [
    "a = 5 \n",
    "d = 2 \n",
    "N = 10\n",
    "arith_prog(a, d, N)"
   ]
  },
  {
   "cell_type": "markdown",
   "id": "baf9d886-4e10-4ad8-afae-b560a1561dbc",
   "metadata": {},
   "source": [
    "<aside>\n",
    "💡 **Question 7**\n",
    "\n",
    "Given a string S, the task is to write a program to print all permutations of a given string.\n",
    "\n",
    "**Example 1:**\n",
    "\n",
    "***Input:***\n",
    "\n",
    "*S = “ABC”*\n",
    "\n",
    "***Output:***\n",
    "\n",
    "*“ABC”, “ACB”, “BAC”, “BCA”, “CBA”, “CAB”*\n",
    "\n",
    "**Example 2:**\n",
    "\n",
    "***Input:***\n",
    "\n",
    "*S = “XY”*\n",
    "\n",
    "***Output:***\n",
    "\n",
    "*“XY”, “YX”*\n",
    "\n",
    "</aside>"
   ]
  },
  {
   "cell_type": "code",
   "execution_count": 48,
   "id": "2df7fca5-1188-4bb1-9dd5-5ef13f485785",
   "metadata": {},
   "outputs": [],
   "source": [
    "def permute_string(string):\n",
    "    permutations = []\n",
    "    permute_helper(string, \"\", permutations)\n",
    "    return permutations\n",
    "\n",
    "def permute_helper(string, prefix, permutations):\n",
    "    if len(string) == 0:\n",
    "        permutations.append(prefix)\n",
    "    else:\n",
    "        for i in range(len(string)):\n",
    "            # Move one character from string to prefix\n",
    "            new_prefix = prefix + string[i]\n",
    "            new_string = string[:i] + string[i+1:]\n",
    "            # Recursively generate permutations for the remaining characters\n",
    "            permute_helper(new_string, new_prefix, permutations)\n"
   ]
  },
  {
   "cell_type": "code",
   "execution_count": 53,
   "id": "525181c2-714d-4583-b354-11763fecd33c",
   "metadata": {},
   "outputs": [
    {
     "data": {
      "text/plain": [
       "['ABC', 'ACB', 'BAC', 'BCA', 'CAB', 'CBA']"
      ]
     },
     "execution_count": 53,
     "metadata": {},
     "output_type": "execute_result"
    }
   ],
   "source": [
    "S=\"ABC\"\n",
    "permute_string(S)\n"
   ]
  },
  {
   "cell_type": "markdown",
   "id": "e3f17506-84a6-4827-8f1b-c410ea1fd09f",
   "metadata": {},
   "source": [
    "<aside>\n",
    "💡 **Question 8**\n",
    "\n",
    "Given an array, find a product of all array elements.\n",
    "\n",
    "**Example 1:**\n",
    "\n",
    "Input  : arr[] = {1, 2, 3, 4, 5}\n",
    "Output : 120\n",
    "**Example 2:**\n",
    "\n",
    "Input  : arr[] = {1, 6, 3}\n",
    "Output : 18\n",
    "\n",
    "</aside>"
   ]
  },
  {
   "cell_type": "code",
   "execution_count": 57,
   "id": "8ba3a37f-d130-46e5-87b5-cab421e077ae",
   "metadata": {},
   "outputs": [],
   "source": [
    "def product_array(arr):\n",
    "    arr=list(arr)\n",
    "    if len(arr) == 0:\n",
    "        return 1\n",
    "    else:\n",
    "        return arr[0] * product_array(arr[1:])\n"
   ]
  },
  {
   "cell_type": "code",
   "execution_count": 58,
   "id": "6864e8c7-fe59-4af7-bdbb-253750e6b232",
   "metadata": {},
   "outputs": [
    {
     "data": {
      "text/plain": [
       "120"
      ]
     },
     "execution_count": 58,
     "metadata": {},
     "output_type": "execute_result"
    }
   ],
   "source": [
    "arr= {1, 2, 3, 4, 5}\n",
    "product_array(arr)"
   ]
  },
  {
   "cell_type": "code",
   "execution_count": 60,
   "id": "84c85355-04f9-41c2-8639-f85f4ebfb01a",
   "metadata": {},
   "outputs": [
    {
     "data": {
      "text/plain": [
       "18"
      ]
     },
     "execution_count": 60,
     "metadata": {},
     "output_type": "execute_result"
    }
   ],
   "source": [
    "arr= {1, 6, 3}\n",
    "product_array(arr)"
   ]
  },
  {
   "cell_type": "code",
   "execution_count": null,
   "id": "8ef80b3a-f8c1-4ef6-8113-c72c79b0bc59",
   "metadata": {},
   "outputs": [],
   "source": []
  }
 ],
 "metadata": {
  "kernelspec": {
   "display_name": "Python 3 (ipykernel)",
   "language": "python",
   "name": "python3"
  },
  "language_info": {
   "codemirror_mode": {
    "name": "ipython",
    "version": 3
   },
   "file_extension": ".py",
   "mimetype": "text/x-python",
   "name": "python",
   "nbconvert_exporter": "python",
   "pygments_lexer": "ipython3",
   "version": "3.10.6"
  }
 },
 "nbformat": 4,
 "nbformat_minor": 5
}
