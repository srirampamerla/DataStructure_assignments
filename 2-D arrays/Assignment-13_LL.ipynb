{
 "cells": [
  {
   "cell_type": "markdown",
   "id": "3a3f2698-e374-420f-9e5c-6138f2688ee7",
   "metadata": {},
   "source": [
    "<aside>\n",
    "💡 **Question 1**\n",
    "\n",
    "Given two linked list of the same size, the task is to create a new linked list using those linked lists. The condition is that the greater node among both linked list will be added to the new linked list.\n",
    "\n",
    "**Examples:**\n",
    "Input: list1 = 5->2->3->8\n",
    "list2 = 1->7->4->5\n",
    "Output: New list = 5->7->4->8\n",
    "\n",
    "Input:list1 = 2->8->9->3\n",
    "list2 = 5->3->6->4\n",
    "Output: New list = 5->8->9->4\n",
    "</aside>"
   ]
  },
  {
   "cell_type": "code",
   "execution_count": 12,
   "id": "1622ff87-b3af-4b90-b40a-49d1b497d59e",
   "metadata": {},
   "outputs": [],
   "source": [
    "class Node:\n",
    "    def __init__(self, val):\n",
    "        self.val = val\n",
    "        self.next = None\n",
    "\n",
    "def createNewLinkedList(list1, list2):\n",
    "    new_head = Node(max(list1.val, list2.val))\n",
    "    new_tail = new_head\n",
    "    ptr1 = list1.next\n",
    "    ptr2 = list2.next\n",
    "\n",
    "    while ptr1 and ptr2:\n",
    "        new_node = Node(max(ptr1.val, ptr2.val))\n",
    "        new_tail.next = new_node\n",
    "        new_tail = new_node\n",
    "        ptr1 = ptr1.next\n",
    "        ptr2 = ptr2.next\n",
    "\n",
    "    return new_head\n"
   ]
  },
  {
   "cell_type": "code",
   "execution_count": 13,
   "id": "d0b31e57-6adb-49f0-8b1f-da7548ccbee5",
   "metadata": {},
   "outputs": [
    {
     "name": "stdout",
     "output_type": "stream",
     "text": [
      "5 7 4 8 "
     ]
    }
   ],
   "source": [
    "head1 = Node(5)\n",
    "node2 = Node(2)\n",
    "node3 = Node(3)\n",
    "node4 = Node(8)\n",
    "head2 = Node(1)\n",
    "node6 = Node(7)\n",
    "node7 = Node(4)\n",
    "node8 = Node(5)\n",
    "head1.next = node2\n",
    "node2.next = node3\n",
    "node3.next = node4\n",
    "head2.next = node6\n",
    "node6.next = node7\n",
    "node7.next = node8\n",
    "new_LL=createNewLinkedList(head1, head2)\n",
    "current = new_LL\n",
    "while current:\n",
    "    print(current.val, end=\" \")\n",
    "    current = current.next"
   ]
  },
  {
   "cell_type": "markdown",
   "id": "5c35ddc0-78bb-478b-b7c0-9f973b4c2f7d",
   "metadata": {},
   "source": [
    "<aside>\n",
    "💡 **Question 2**\n",
    "\n",
    "Write a function that takes a list sorted in non-decreasing order and deletes any duplicate nodes from the list. The list should only be traversed once.\n",
    "\n",
    "For example if the linked list is 11->11->11->21->43->43->60 then removeDuplicates() should convert the list to 11->21->43->60.\n",
    "\n",
    "**Example 1:**\n",
    "Input:\n",
    "LinkedList: \n",
    "11->11->11->21->43->43->60\n",
    "Output:\n",
    "11->21->43->60\n",
    "\n",
    "\n",
    "\n",
    "Ex-2:\n",
    "    Input:\n",
    "LinkedList: \n",
    "10->12->12->25->25->25->34\n",
    "Output:\n",
    "10->12->25->34\n",
    "</aside>"
   ]
  },
  {
   "cell_type": "code",
   "execution_count": 19,
   "id": "e7a47204-e82a-4c02-9b79-7fcd88b802e3",
   "metadata": {},
   "outputs": [],
   "source": [
    "class Node:\n",
    "    def __init__(self, val):\n",
    "        self.val = val\n",
    "        self.next = None\n",
    "\n",
    "def removeDuplicates(head):\n",
    "    if head is None:\n",
    "        return head\n",
    "\n",
    "    current = head\n",
    "    while current.next:\n",
    "        if current.val == current.next.val:\n",
    "            current.next = current.next.next\n",
    "        else:\n",
    "            current = current.next\n",
    "\n",
    "    return head\n"
   ]
  },
  {
   "cell_type": "code",
   "execution_count": 23,
   "id": "d7f3f0b2-9eff-4395-ae7d-cc5015e2bcc2",
   "metadata": {},
   "outputs": [
    {
     "name": "stdout",
     "output_type": "stream",
     "text": [
      "11 21 43 60 "
     ]
    }
   ],
   "source": [
    "head1 = Node(11)\n",
    "node2 = Node(11)\n",
    "node3 = Node(11)\n",
    "node4 = Node(21)\n",
    "node5 = Node(43)\n",
    "node6 = Node(43)\n",
    "node7 = Node(60)\n",
    "head1.next = node2\n",
    "node2.next = node3\n",
    "node3.next = node4\n",
    "node4.next = node5\n",
    "node5.next = node6\n",
    "node6.next = node7\n",
    "new_LL=removeDuplicates(head1)\n",
    "current = new_LL\n",
    "while current:\n",
    "    print(current.val, end=\" \")\n",
    "    current = current.next"
   ]
  },
  {
   "cell_type": "code",
   "execution_count": 24,
   "id": "dbc80b13-b107-4e1e-b2a9-a440ebd6d5f0",
   "metadata": {},
   "outputs": [
    {
     "name": "stdout",
     "output_type": "stream",
     "text": [
      "10 12 25 34 "
     ]
    }
   ],
   "source": [
    "head1 = Node(10)\n",
    "node2 = Node(12)\n",
    "node3 = Node(12)\n",
    "node4 = Node(25)\n",
    "node5 = Node(25)\n",
    "node6 = Node(25)\n",
    "node7 = Node(34)\n",
    "head1.next = node2\n",
    "node2.next = node3\n",
    "node3.next = node4\n",
    "node4.next = node5\n",
    "node5.next = node6\n",
    "node6.next = node7\n",
    "new_LL=removeDuplicates(head1)\n",
    "current = new_LL\n",
    "while current:\n",
    "    print(current.val, end=\" \")\n",
    "    current = current.next"
   ]
  },
  {
   "cell_type": "markdown",
   "id": "c15850b2-1fb1-4128-81d7-e733568c0925",
   "metadata": {},
   "source": [
    "<aside>\n",
    "💡 **Question 3**\n",
    "\n",
    "Given a linked list of size **N**. The task is to reverse every **k** nodes (where k is an input to the function) in the linked list. If the number of nodes is not a multiple of *k* then left-out nodes, in the end, should be considered as a group and must be reversed (See Example 2 for clarification).\n",
    "\n",
    "**Example 1:**\n",
    "Input:\n",
    "LinkedList: 1->2->2->4->5->6->7->8\n",
    "K = 4\n",
    "Output:4 2 2 1 8 7 6 5\n",
    "Explanation:\n",
    "The first 4 elements 1,2,2,4 are reversed first\n",
    "and then the next 4 elements 5,6,7,8. Hence, the\n",
    "resultant linked list is 4->2->2->1->8->7->6->5.\n",
    "\n",
    "\n",
    "Ex-2:\n",
    "    \n",
    "    Input:\n",
    "LinkedList: 1->2->3->4->5\n",
    "K = 3\n",
    "Output:3 2 1 5 4\n",
    "Explanation:\n",
    "The first 3 elements are 1,2,3 are reversed\n",
    "first and then elements 4,5 are reversed.Hence,\n",
    "the resultant linked list is 3->2->1->5->4.\n",
    "</aside>"
   ]
  },
  {
   "cell_type": "code",
   "execution_count": 39,
   "id": "f71d9ab3-6484-42a8-b409-c00fd090f215",
   "metadata": {},
   "outputs": [],
   "source": [
    "class Node:\n",
    "    def __init__(self, val):\n",
    "        self.val = val\n",
    "        self.next = None\n",
    "\n",
    "def reverseKNodes(head, k):\n",
    "    if head is None or k <= 1:\n",
    "        return head\n",
    "\n",
    "    current = head\n",
    "    prev = None\n",
    "    count = 0\n",
    "\n",
    "    # Reverse the first k nodes\n",
    "    while current and count < k:\n",
    "        next_node = current.next\n",
    "        current.next = prev\n",
    "        prev = current\n",
    "        current = next_node\n",
    "        count += 1\n",
    "\n",
    "    # Recursively reverse the remaining list\n",
    "    if current:\n",
    "        head.next = reverseKNodes(current, k)\n",
    "\n",
    "    return prev\n"
   ]
  },
  {
   "cell_type": "code",
   "execution_count": 43,
   "id": "a0497a04-d758-4ba4-8637-00bdb20c9daf",
   "metadata": {},
   "outputs": [
    {
     "name": "stdout",
     "output_type": "stream",
     "text": [
      "4 2 2 1 8 7 6 5 "
     ]
    }
   ],
   "source": [
    "#1->2->2->4->5->6->7->8 K = 4 Output:4 2 2 1 8 7 6 5 \n",
    "head1 = Node(1)\n",
    "node2 = Node(2)\n",
    "node3 = Node(2)\n",
    "node4 = Node(4)\n",
    "node5 = Node(5)\n",
    "node6 = Node(6)\n",
    "node7 = Node(7)\n",
    "node8 = Node(8)\n",
    "head1.next = node2\n",
    "node2.next = node3\n",
    "node3.next = node4\n",
    "node4.next = node5\n",
    "node5.next = node6\n",
    "node6.next = node7\n",
    "node7.next = node8\n",
    "K=4\n",
    "new_LL=reverseKNodes(head1, K)\n",
    "current = new_LL\n",
    "while current:\n",
    "    print(current.val, end=\" \")\n",
    "    current = current.next"
   ]
  },
  {
   "cell_type": "markdown",
   "id": "33ec94c0-469c-49c3-a130-48ea6d1310e2",
   "metadata": {},
   "source": [
    "<aside>\n",
    "💡 **Question 4**\n",
    "\n",
    "Given a linked list, write a function to reverse every alternate k nodes (where k is an input to the function) in an efficient way. Give the complexity of your algorithm.\n",
    "\n",
    "**Example:**\n",
    "Inputs:   1->2->3->4->5->6->7->8->9->NULL and k = 3\n",
    "Output:   3->2->1->4->5->6->9->8->7->NULL.\n",
    "</aside>"
   ]
  },
  {
   "cell_type": "code",
   "execution_count": 49,
   "id": "e7f46076-a300-422e-9982-9a3132e3f9cf",
   "metadata": {},
   "outputs": [],
   "source": [
    "class ListNode:\n",
    "    def __init__(self, val):\n",
    "        self.val = val\n",
    "        self.next = None\n",
    "\n",
    "def reverseAlternateKNodes(head, k):\n",
    "    if head is None or k <= 1:\n",
    "        return head\n",
    "\n",
    "    current = head\n",
    "    prev = None\n",
    "    next_node = None\n",
    "    count = 0\n",
    "\n",
    "    # Reverse the first k nodes\n",
    "    while current and count < k:\n",
    "        next_node = current.next\n",
    "        current.next = prev\n",
    "        prev = current\n",
    "        current = next_node\n",
    "        count += 1\n",
    "\n",
    "    # Skip the next k nodes\n",
    "    if next_node:\n",
    "        head.next = next_node\n",
    "        count = 0\n",
    "        while current and count < k - 1:\n",
    "            current = current.next\n",
    "            count += 1\n",
    "\n",
    "        # Recursively reverse the remaining alternate k nodes\n",
    "        if current:\n",
    "            current.next = reverseAlternateKNodes(current.next, k)\n",
    "\n",
    "    return prev\n"
   ]
  },
  {
   "cell_type": "code",
   "execution_count": 52,
   "id": "cde8cdbe-4e5e-427d-a53a-263f2f8415bc",
   "metadata": {},
   "outputs": [
    {
     "name": "stdout",
     "output_type": "stream",
     "text": [
      "3 2 1 4 5 6 9 8 7 "
     ]
    }
   ],
   "source": [
    "# Inputs:   1->2->3->4->5->6->7->8->9->NULL and k = 3\n",
    "# Output:   3->2->1->4->5->6->9->8->7->NULL.\n",
    "head1 = Node(1)\n",
    "node2 = Node(2)\n",
    "node3 = Node(3)\n",
    "node4 = Node(4)\n",
    "node5 = Node(5)\n",
    "node6 = Node(6)\n",
    "node7 = Node(7)\n",
    "node8 = Node(8)\n",
    "node9 = Node(9)\n",
    "head1.next = node2\n",
    "node2.next = node3\n",
    "node3.next = node4\n",
    "node4.next = node5\n",
    "node5.next = node6\n",
    "node6.next = node7\n",
    "node7.next = node8\n",
    "node8.next = node9\n",
    "node9.next = None\n",
    "\n",
    "k=3\n",
    "new_LL=reverseAlternateKNodes(head1, k)\n",
    "current = new_LL\n",
    "while current:\n",
    "    print(current.val, end=\" \")\n",
    "    current = current.next"
   ]
  },
  {
   "cell_type": "markdown",
   "id": "d2e5be2a-f59d-477e-a15d-342eb3eb7ee1",
   "metadata": {},
   "source": [
    "<aside>\n",
    "💡 **Question 5**\n",
    "\n",
    "Given a linked list and a key to be deleted. Delete last occurrence of key from linked. The list may have duplicates.\n",
    "\n",
    "**Examples**:\n",
    "Input:   1->2->3->5->2->10, key = 2\n",
    "Output:  1->2->3->5->10\n",
    "</aside>"
   ]
  },
  {
   "cell_type": "code",
   "execution_count": 57,
   "id": "c2a3c121-20c1-440e-97c4-62de73c3e2d1",
   "metadata": {},
   "outputs": [],
   "source": [
    "class ListNode:\n",
    "    def __init__(self, val):\n",
    "        self.val = val\n",
    "        self.next = None\n",
    "\n",
    "def deleteLastOccurrence(head, key):\n",
    "    if head is None:\n",
    "        return None\n",
    "\n",
    "    prev = None\n",
    "    curr = head\n",
    "    last_occurrence = None\n",
    "\n",
    "    while curr:\n",
    "        if curr.val == key:\n",
    "            last_occurrence = (prev, curr)\n",
    "        prev = curr\n",
    "        curr = curr.next\n",
    "\n",
    "    if last_occurrence:\n",
    "        prev_node, curr_node = last_occurrence\n",
    "        if prev_node:\n",
    "            prev_node.next = curr_node.next\n",
    "        else:\n",
    "            head = head.next\n",
    "\n",
    "    return head\n"
   ]
  },
  {
   "cell_type": "code",
   "execution_count": 59,
   "id": "cff0247c-e0c7-44cc-a2f0-c495fda1d21b",
   "metadata": {},
   "outputs": [
    {
     "name": "stdout",
     "output_type": "stream",
     "text": [
      "1 2 3 5 10 "
     ]
    }
   ],
   "source": [
    "# Input:   1->2->3->5->2->10, key = 2\n",
    "# Output:  1->2->3->5->10# \n",
    "head1 = Node(1)\n",
    "node2 = Node(2)\n",
    "node3 = Node(3)\n",
    "node4 = Node(5)\n",
    "node5 = Node(2)\n",
    "node6 = Node(10)\n",
    "\n",
    "head1.next = node2\n",
    "node2.next = node3\n",
    "node3.next = node4\n",
    "node4.next = node5\n",
    "node5.next = node6\n",
    "\n",
    "\n",
    "key=2\n",
    "new_LL=deleteLastOccurrence(head1, key)\n",
    "current = new_LL\n",
    "while current:\n",
    "    print(current.val, end=\" \")\n",
    "    current = current.next\n"
   ]
  },
  {
   "cell_type": "markdown",
   "id": "00c5473a-5ea7-4322-90f4-611cfdb23e96",
   "metadata": {},
   "source": [
    "<aside>\n",
    "💡 **Question 6**\n",
    "\n",
    "Given two sorted linked lists consisting of **N** and **M** nodes respectively. The task is to merge both of the lists (in place) and return the head of the merged list.\n",
    "\n",
    "**Examples:**\n",
    "\n",
    "Input: a: 5->10->15, b: 2->3->20\n",
    "\n",
    "Output: 2->3->5->10->15->20\n",
    "\n",
    "Input: a: 1->1, b: 2->4\n",
    "\n",
    "Output: 1->1->2->4\n",
    "\n",
    "</aside>"
   ]
  },
  {
   "cell_type": "code",
   "execution_count": 10,
   "id": "0514e6f0-83dd-44ad-89ba-8c98093d4c6a",
   "metadata": {},
   "outputs": [],
   "source": [
    "class Node:\n",
    "    def __init__(self, val):\n",
    "        self.val = val\n",
    "        self.next = None\n",
    "def mergeTwoLists2(list1, list2):\n",
    "    if not list1 or not list2:\n",
    "        return list1 or list2\n",
    "    if list1.val < list2.val:\n",
    "        list1.next = mergeTwoLists2(list1.next, list2)\n",
    "        return list1\n",
    "    else:\n",
    "        list2.next = mergeTwoLists2(list1, list2.next)\n",
    "        return list2"
   ]
  },
  {
   "cell_type": "code",
   "execution_count": 11,
   "id": "ae01d3c9-d87c-4134-bebd-75ae47ec845b",
   "metadata": {},
   "outputs": [
    {
     "name": "stdout",
     "output_type": "stream",
     "text": [
      "2 3 5 10 15 20 "
     ]
    }
   ],
   "source": [
    "# Input: a: 5->10->15, b: 2->3->20\n",
    "\n",
    "# Output: 2->3->5->10->15->20\n",
    "\n",
    "# Input: a: 1->1, b: 2->4\n",
    "\n",
    "# Output: 1->1->2->4\n",
    "head1 = Node(5)\n",
    "node2 = Node(10)\n",
    "node3 = Node(15)\n",
    "head2 = Node(2)\n",
    "node4 = Node(3)\n",
    "node5 = Node(20)\n",
    "\n",
    "head1.next = node2\n",
    "node2.next = node3\n",
    "\n",
    "head2.next = node4\n",
    "node4.next = node5\n",
    "\n",
    "new_LL = mergeTwoLists2(head1, head2)\n",
    "current = new_LL\n",
    "while current:\n",
    "    print(current.val, end=\" \")\n",
    "    current = current.next"
   ]
  },
  {
   "cell_type": "markdown",
   "id": "909ee780-fad8-41a8-9be8-6d78c52b38ef",
   "metadata": {},
   "source": [
    "<aside>\n",
    "💡 **Question 7**\n",
    "\n",
    "Given a **Doubly Linked List**, the task is to reverse the given Doubly Linked List.\n",
    "\n",
    "**Example:**\n",
    "\n",
    "```\n",
    "Original Linked list 10 8 4 2\n",
    "Reversed Linked list 2 4 8 10\n",
    "```\n",
    "\n",
    "</aside>\n"
   ]
  },
  {
   "cell_type": "code",
   "execution_count": 12,
   "id": "6660bcf5-32bc-4fae-a190-c530577b5006",
   "metadata": {},
   "outputs": [],
   "source": [
    "class Node:\n",
    "    def __init__(self, val):\n",
    "        self.val = val\n",
    "        self.next = None\n",
    "        self.prev = None\n",
    "\n",
    "def reverseDoublyLinkedList(head):\n",
    "    if head is None:\n",
    "        return None\n",
    "\n",
    "    current = head\n",
    "    previous = None\n",
    "\n",
    "    while current:\n",
    "        temp = current.next\n",
    "        current.next = previous\n",
    "        current.prev = temp\n",
    "        previous = current\n",
    "        current = temp\n",
    "\n",
    "    return previous\n"
   ]
  },
  {
   "cell_type": "code",
   "execution_count": 15,
   "id": "12b498fd-b244-48d5-8bbb-9a6c90a6e65f",
   "metadata": {},
   "outputs": [
    {
     "name": "stdout",
     "output_type": "stream",
     "text": [
      "2 4 8 10 "
     ]
    }
   ],
   "source": [
    "# Original Linked list 10 8 4 2\n",
    "# Reversed Linked list 2 4 8 10\n",
    "head1 = Node(10)\n",
    "node2 = Node(8)\n",
    "node3 = Node(4)\n",
    "node4 = Node(2)\n",
    "\n",
    "\n",
    "head1.next = node2\n",
    "node2.next = node3\n",
    "\n",
    "node3.next = node4\n",
    "\n",
    "\n",
    "new_LL =  reverseDoublyLinkedList(head1)\n",
    "current = new_LL\n",
    "while current:\n",
    "    print(current.val, end=\" \")\n",
    "    current = current.next"
   ]
  },
  {
   "cell_type": "markdown",
   "id": "32250130-2f86-4e71-89cd-8d52ec77d857",
   "metadata": {},
   "source": [
    "Given a doubly linked list and a position. The task is to delete a node from given position in a doubly linked list.\n",
    "\n",
    "**Example 1:**\n",
    "\n",
    "```\n",
    "Input:\n",
    "LinkedList = 1 <--> 3 <--> 4\n",
    "x = 3\n",
    "Output:1 3\n",
    "Explanation:After deleting the node at\n",
    "position 3 (position starts from 1),\n",
    "the linked list will be now as 1->3.\n",
    "\n",
    "```\n",
    "\n",
    "**Example 2:**\n",
    "Input:\n",
    "LinkedList = 1 <--> 5 <--> 2 <--> 9\n",
    "x = 1\n",
    "Output:5 2 9"
   ]
  },
  {
   "cell_type": "code",
   "execution_count": 45,
   "id": "d4c40c39-8720-4b8c-ad35-0ddb31ba3a71",
   "metadata": {},
   "outputs": [],
   "source": [
    "class Node:\n",
    "    def __init__(self, val):\n",
    "        self.val = val\n",
    "        self.next = None\n",
    "        self.prev = None\n",
    "\n",
    "def deleteNode(head, position):\n",
    "    if not head:\n",
    "        return None\n",
    "\n",
    "    if position == 1:\n",
    "        if head.next:\n",
    "            head.next.prev = None\n",
    "        return head.next\n",
    "\n",
    "    current = head\n",
    "    count = 1\n",
    "\n",
    "    while current and count < position:\n",
    "        current = current.next\n",
    "        count += 1\n",
    "\n",
    "    if not current:\n",
    "        return head\n",
    "\n",
    "    if current.prev:\n",
    "        current.prev.next = current.next\n",
    "\n",
    "    if current.next:\n",
    "        current.next.prev = current.prev\n",
    "\n",
    "    return head\n"
   ]
  },
  {
   "cell_type": "code",
   "execution_count": 47,
   "id": "7335385f-4a07-49f5-8442-b64219d00d08",
   "metadata": {},
   "outputs": [
    {
     "name": "stdout",
     "output_type": "stream",
     "text": [
      "1 3 "
     ]
    }
   ],
   "source": [
    "# LinkedList = 1 <--> 3 <--> 4\n",
    "# x = 3\n",
    "# Output:1 3\n",
    "\n",
    "# Example 2: Input: LinkedList = 1 <--> 5 <--> 2 <--> 9 x = 1 Output:5 2 9\n",
    "head1 = Node(1)\n",
    "node2 = Node(3)\n",
    "node3 = Node(4)\n",
    "head1.next = node2\n",
    "\n",
    "X=3\n",
    "new_LL =  deleteNode(head1,X)\n",
    "current = new_LL\n",
    "while current:\n",
    "    print(current.val, end=\" \")\n",
    "    current = current.next"
   ]
  },
  {
   "cell_type": "code",
   "execution_count": null,
   "id": "6050ae3c-1676-45e5-86cd-fecbfcb3ef99",
   "metadata": {},
   "outputs": [],
   "source": []
  }
 ],
 "metadata": {
  "kernelspec": {
   "display_name": "Python 3 (ipykernel)",
   "language": "python",
   "name": "python3"
  },
  "language_info": {
   "codemirror_mode": {
    "name": "ipython",
    "version": 3
   },
   "file_extension": ".py",
   "mimetype": "text/x-python",
   "name": "python",
   "nbconvert_exporter": "python",
   "pygments_lexer": "ipython3",
   "version": "3.10.6"
  }
 },
 "nbformat": 4,
 "nbformat_minor": 5
}
