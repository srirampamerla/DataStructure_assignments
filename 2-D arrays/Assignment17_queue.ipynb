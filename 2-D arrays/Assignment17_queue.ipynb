{
 "cells": [
  {
   "cell_type": "markdown",
   "id": "d6e1e579-7f95-45a8-aed3-05816edf6930",
   "metadata": {},
   "source": [
    "<aside>\n",
    "💡 **Question 1**\n",
    "\n",
    "Given a string `s`, *find the first non-repeating character in it and return its index*. If it does not exist, return `-1`.\n",
    "\n",
    "**Example 1:**\n",
    "\n",
    "```\n",
    "Input: s = \"leetcode\"\n",
    "Output: 0\n",
    "**Example 2:**\n",
    "\n",
    "```\n",
    "Input: s = \"loveleetcode\"\n",
    "Output: 2\n",
    "\n",
    "```\n",
    "\n",
    "**Example 3:**\n",
    "\n",
    "```\n",
    "Input: s = \"aabb\"\n",
    "Output: -1\n",
    "```\n"
   ]
  },
  {
   "cell_type": "code",
   "execution_count": 2,
   "id": "b6438c0d-95e8-4145-b632-b5ae3a2cbc29",
   "metadata": {},
   "outputs": [],
   "source": [
    "def firstUniqChar(s):\n",
    "    # Create a dictionary to store the frequency of characters\n",
    "    frequency = {}\n",
    "\n",
    "    # Count the frequency of each character in the string\n",
    "    for char in s:\n",
    "        frequency[char] = frequency.get(char, 0) + 1\n",
    "\n",
    "    # Find the first non-repeating character and return its index\n",
    "    for i in range(len(s)):\n",
    "        if frequency[s[i]] == 1:\n",
    "            return i\n",
    "\n",
    "    # If no non-repeating character is found, return -1\n",
    "    return -1"
   ]
  },
  {
   "cell_type": "code",
   "execution_count": 3,
   "id": "dbcf5a80-173b-4549-a87b-49df66bad3a4",
   "metadata": {},
   "outputs": [
    {
     "data": {
      "text/plain": [
       "0"
      ]
     },
     "execution_count": 3,
     "metadata": {},
     "output_type": "execute_result"
    }
   ],
   "source": [
    "s = \"leetcode\"\n",
    "firstUniqChar(s)"
   ]
  },
  {
   "cell_type": "code",
   "execution_count": 4,
   "id": "78d9c621-732c-4c8f-a176-498c44dd72ec",
   "metadata": {},
   "outputs": [
    {
     "data": {
      "text/plain": [
       "2"
      ]
     },
     "execution_count": 4,
     "metadata": {},
     "output_type": "execute_result"
    }
   ],
   "source": [
    "s = \"loveleetcode\"\n",
    "firstUniqChar(s)"
   ]
  },
  {
   "cell_type": "code",
   "execution_count": 5,
   "id": "b470d234-21d8-4ac8-bc04-3e57bbcc9edb",
   "metadata": {},
   "outputs": [
    {
     "data": {
      "text/plain": [
       "-1"
      ]
     },
     "execution_count": 5,
     "metadata": {},
     "output_type": "execute_result"
    }
   ],
   "source": [
    "s = \"aabb\"\n",
    "firstUniqChar(s)"
   ]
  },
  {
   "cell_type": "markdown",
   "id": "6f105bc5-73d9-4e35-9992-226e903276f7",
   "metadata": {},
   "source": [
    "<aside>\n",
    "💡 **Question 2**\n",
    "\n",
    "Given a **circular integer array** `nums` of length `n`, return *the maximum possible sum of a non-empty **subarray** of* `nums`.\n",
    "\n",
    "A **circular array** means the end of the array connects to the beginning of the array. Formally, the next element of `nums[i]` is `nums[(i + 1) % n]` and the previous element of `nums[i]` is `nums[(i - 1 + n) % n]`.\n",
    "\n",
    "A **subarray** may only include each element of the fixed buffer `nums` at most once. Formally, for a subarray `nums[i], nums[i + 1], ..., nums[j]`, there does not exist `i <= k1`, `k2 <= j` with `k1 % n == k2 % n`.\n",
    "\n",
    "**Example 1:**\n",
    "\n",
    "```\n",
    "Input: nums = [1,-2,3,-2]\n",
    "Output: 3\n",
    "Explanation: Subarray [3] has maximum sum 3.\n",
    "\n",
    "```\n",
    "\n",
    "**Example 2:**\n",
    "\n",
    "```\n",
    "Input: nums = [5,-3,5]\n",
    "Output: 10\n",
    "Explanation: Subarray [5,5] has maximum sum 5 + 5 = 10.\n",
    "\n",
    "```\n",
    "\n",
    "**Example 3:**\n",
    "\n",
    "```\n",
    "Input: nums = [-3,-2,-3]\n",
    "Output: -2\n",
    "Explanation: Subarray [-2] has maximum sum -2.\n",
    "```\n"
   ]
  },
  {
   "cell_type": "code",
   "execution_count": 10,
   "id": "2bddd668-2b2e-462f-ae5c-feaa6352614d",
   "metadata": {},
   "outputs": [],
   "source": [
    "def max_subarray_sum(nums):\n",
    "    # Handle the case when all numbers in the array are negative\n",
    "    if all(num < 0 for num in nums):\n",
    "        return max(nums)\n",
    "\n",
    "    max_sum = float('-inf')\n",
    "    current_max = 0\n",
    "\n",
    "    for num in nums:\n",
    "        current_max = max(current_max + num, num)\n",
    "        max_sum = max(max_sum, current_max)\n",
    "\n",
    "    # Compute the sum of the entire array\n",
    "    total_sum = sum(nums)\n",
    "\n",
    "    # Apply Kadane's algorithm to find the minimum sum subarray\n",
    "    min_sum = float('inf')\n",
    "    current_min = 0\n",
    "\n",
    "    for num in nums:\n",
    "        current_min = min(current_min + num, num)\n",
    "        min_sum = min(min_sum, current_min)\n",
    "\n",
    "    # Compute the maximum sum of a non-empty subarray in the circular array\n",
    "    circular_max_sum = total_sum - min_sum\n",
    "\n",
    "    # Return the maximum of the linear max_sum and circular_max_sum\n",
    "    return max(max_sum, circular_max_sum)\n"
   ]
  },
  {
   "cell_type": "code",
   "execution_count": 11,
   "id": "053f52d8-1828-4bd0-a788-4e9374626423",
   "metadata": {},
   "outputs": [
    {
     "data": {
      "text/plain": [
       "3"
      ]
     },
     "execution_count": 11,
     "metadata": {},
     "output_type": "execute_result"
    }
   ],
   "source": [
    "nums = [1, -2, 3, -2]\n",
    "max_subarray_sum(nums)"
   ]
  },
  {
   "cell_type": "code",
   "execution_count": 12,
   "id": "1ee7ce92-bf90-4ed7-8b6e-3696700f3fee",
   "metadata": {},
   "outputs": [
    {
     "data": {
      "text/plain": [
       "10"
      ]
     },
     "execution_count": 12,
     "metadata": {},
     "output_type": "execute_result"
    }
   ],
   "source": [
    " nums = [5,-3,5]\n",
    "max_subarray_sum(nums)"
   ]
  },
  {
   "cell_type": "code",
   "execution_count": 13,
   "id": "f0c370dd-5041-4a41-8720-86be488eb6a7",
   "metadata": {},
   "outputs": [
    {
     "data": {
      "text/plain": [
       "-2"
      ]
     },
     "execution_count": 13,
     "metadata": {},
     "output_type": "execute_result"
    }
   ],
   "source": [
    "nums = [-3,-2,-3]\n",
    "max_subarray_sum(nums)"
   ]
  },
  {
   "cell_type": "markdown",
   "id": "a28fc6a8-8150-44fd-8767-7de5ab86a6b6",
   "metadata": {},
   "source": [
    "<aside>\n",
    "💡 **Question 3**\n",
    "\n",
    "The school cafeteria offers circular and square sandwiches at lunch break, referred to by numbers `0` and `1` respectively. All students stand in a queue. Each student either prefers square or circular sandwiches.\n",
    "\n",
    "The number of sandwiches in the cafeteria is equal to the number of students. The sandwiches are placed in a **stack**. At each step:\n",
    "\n",
    "- If the student at the front of the queue **prefers** the sandwich on the top of the stack, they will **take it** and leave the queue.\n",
    "- Otherwise, they will **leave it** and go to the queue's end.\n",
    "\n",
    "This continues until none of the queue students want to take the top sandwich and are thus unable to eat.\n",
    "\n",
    "You are given two integer arrays `students` and `sandwiches` where `sandwiches[i]` is the type of the `ith` sandwich in the stack (`i = 0` is the top of the stack) and `students[j]` is the preference of the `jth` student in the initial queue (`j = 0` is the front of the queue). Return *the number of students that are unable to eat.*\n",
    "\n",
    "**Example 1:**\n",
    "\n",
    "```\n",
    "Input: students = [1,1,0,0], sandwiches = [0,1,0,1]\n",
    "Output: 0\n",
    "Explanation:\n",
    "- Front student leaves the top sandwich and returns to the end of the line making students = [1,0,0,1].\n",
    "- Front student leaves the top sandwich and returns to the end of the line making students = [0,0,1,1].\n",
    "- Front student takes the top sandwich and leaves the line making students = [0,1,1] and sandwiches = [1,0,1].\n",
    "- Front student leaves the top sandwich and returns to the end of the line making students = [1,1,0].\n",
    "- Front student takes the top sandwich and leaves the line making students = [1,0] and sandwiches = [0,1].\n",
    "- Front student leaves the top sandwich and returns to the end of the line making students = [0,1].\n",
    "- Front student takes the top sandwich and leaves the line making students = [1] and sandwiches = [1].\n",
    "- Front student takes the top sandwich and leaves the line making students = [] and sandwiches = [].\n",
    "Hence all students are able to eat.\n",
    "\n",
    "```\n",
    "\n",
    "**Example 2:**\n",
    "\n",
    "```\n",
    "Input: students = [1,1,1,0,0,1], sandwiches = [1,0,0,0,1,1]\n",
    "Output: 3\n",
    "```"
   ]
  },
  {
   "cell_type": "code",
   "execution_count": 27,
   "id": "0fc79f13-f144-46e7-8ee0-a0da2041a4b5",
   "metadata": {},
   "outputs": [],
   "source": [
    "def countStudents(students, sandwiches):\n",
    "    queue = students\n",
    "    stack = sandwiches\n",
    "\n",
    "    while len(queue) > 0:\n",
    "        # Check if the student at the front of the queue can take the top sandwich\n",
    "        if queue[0] == stack[0]:\n",
    "            queue.pop(0)\n",
    "            stack.pop(0)\n",
    "        else:\n",
    "            # Move the student to the end of the queue\n",
    "            queue.append(queue.pop(0))\n",
    "\n",
    "        # Check if no student can eat the top sandwich\n",
    "        if queue.count(queue[0]) == len(queue):\n",
    "            break\n",
    "\n",
    "    # Return the number of students unable to eat\n",
    "    return len(queue)\n"
   ]
  },
  {
   "cell_type": "code",
   "execution_count": 28,
   "id": "f6c7c908-8b19-422c-b126-c0c09c1340dc",
   "metadata": {},
   "outputs": [
    {
     "data": {
      "text/plain": [
       "1"
      ]
     },
     "execution_count": 28,
     "metadata": {},
     "output_type": "execute_result"
    }
   ],
   "source": [
    "students = [1, 1, 0, 0]\n",
    "sandwiches = [0, 1, 0, 1]\n",
    "countStudents(students, sandwiches)"
   ]
  },
  {
   "cell_type": "code",
   "execution_count": 29,
   "id": "9c00e172-3eda-4326-baab-478443956b14",
   "metadata": {},
   "outputs": [
    {
     "name": "stdout",
     "output_type": "stream",
     "text": [
      "3\n"
     ]
    }
   ],
   "source": [
    "students = [1, 1, 1, 0, 0, 1]\n",
    "sandwiches = [1, 0, 0, 0, 1, 1]\n",
    "result = countStudents(students, sandwiches)\n",
    "print(result)"
   ]
  },
  {
   "cell_type": "markdown",
   "id": "7a46106b-70e2-4d61-87b1-c9080466d8a2",
   "metadata": {},
   "source": [
    "<aside>\n",
    "💡 **Question 4**\n",
    "\n",
    "You have a `RecentCounter` class which counts the number of recent requests within a certain time frame.\n",
    "\n",
    "Implement the `RecentCounter` class:\n",
    "\n",
    "- `RecentCounter()` Initializes the counter with zero recent requests.\n",
    "- `int ping(int t)` Adds a new request at time `t`, where `t` represents some time in milliseconds, and returns the number of requests that has happened in the past `3000` milliseconds (including the new request). Specifically, return the number of requests that have happened in the inclusive range `[t - 3000, t]`.\n",
    "\n",
    "It is **guaranteed** that every call to `ping` uses a strictly larger value of `t` than the previous call.\n",
    "\n",
    "**Example 1:**\n",
    "\n",
    "```\n",
    "Input\n",
    "[\"RecentCounter\", \"ping\", \"ping\", \"ping\", \"ping\"]\n",
    "[[], [1], [100], [3001], [3002]]\n",
    "Output\n",
    "[null, 1, 2, 3, 3]\n",
    "\n",
    "Explanation\n",
    "RecentCounter recentCounter = new RecentCounter();\n",
    "recentCounter.ping(1);     // requests = [1], range is [-2999,1], return 1\n",
    "recentCounter.ping(100);   // requests = [1,100], range is [-2900,100], return 2\n",
    "recentCounter.ping(3001);  // requests = [1,100,3001], range is [1,3001], return 3\n",
    "recentCounter.ping(3002);  // requests = [1,100,3001,3002], range is [2,3002], return 3\n",
    "```"
   ]
  },
  {
   "cell_type": "code",
   "execution_count": 37,
   "id": "52d20eb7-7b0d-451c-b787-3a07a0f83211",
   "metadata": {},
   "outputs": [],
   "source": [
    "from collections import deque\n",
    "\n",
    "class RecentCounter:\n",
    "    def __init__(self):\n",
    "        self.requests = deque()\n",
    "\n",
    "    def ping(self,t):\n",
    "        # Add the current request timestamp to the queue\n",
    "        self.requests.append(t)\n",
    "\n",
    "        # Remove any timestamps that are outside the time frame of the last 3000 milliseconds\n",
    "        while self.requests[0] < t - 3000:\n",
    "            self.requests.popleft()\n",
    "\n",
    "        # Return the number of requests within the time frame\n",
    "        return len(self.requests)\n"
   ]
  },
  {
   "cell_type": "code",
   "execution_count": 39,
   "id": "6d047252-7ad0-48f9-a5ba-6c3329d7f44b",
   "metadata": {},
   "outputs": [
    {
     "name": "stdout",
     "output_type": "stream",
     "text": [
      "1\n",
      "2\n",
      "3\n",
      "3\n"
     ]
    }
   ],
   "source": [
    "recentCounter = RecentCounter()\n",
    "print(recentCounter.ping(1))    \n",
    "print(recentCounter.ping(100))  \n",
    "print(recentCounter.ping(3001))  \n",
    "print(recentCounter.ping(3002))  \n"
   ]
  },
  {
   "cell_type": "markdown",
   "id": "39e53ca2-e319-4154-8183-24a70bc1d042",
   "metadata": {},
   "source": [
    "<aside>\n",
    "💡 **Question 5**\n",
    "\n",
    "There are `n` friends that are playing a game. The friends are sitting in a circle and are numbered from `1` to `n` in **clockwise order**. More formally, moving clockwise from the `ith` friend brings you to the `(i+1)th` friend for `1 <= i < n`, and moving clockwise from the `nth` friend brings you to the `1st` friend.\n",
    "\n",
    "The rules of the game are as follows:\n",
    "\n",
    "1. **Start** at the `1st` friend.\n",
    "2. Count the next `k` friends in the clockwise direction **including** the friend you started at. The counting wraps around the circle and may count some friends more than once.\n",
    "3. The last friend you counted leaves the circle and loses the game.\n",
    "4. If there is still more than one friend in the circle, go back to step `2` **starting** from the friend **immediately clockwise** of the friend who just lost and repeat.\n",
    "5. Else, the last friend in the circle wins the game.\n",
    "\n",
    "Given the number of friends, `n`, and an integer `k`, return *the winner of the game*.\n",
    "\n",
    "**Example 1:**\n",
    "\n",
    "!https://assets.leetcode.com/uploads/2021/03/25/ic234-q2-ex11.png\n",
    "\n",
    "```\n",
    "Input: n = 5, k = 2\n",
    "Output: 3\n",
    "Explanation: Here are the steps of the game:\n",
    "1) Start at friend 1.\n",
    "2) Count 2 friends clockwise, which are friends 1 and 2.\n",
    "3) Friend 2 leaves the circle. Next start is friend 3.\n",
    "4) Count 2 friends clockwise, which are friends 3 and 4.\n",
    "5) Friend 4 leaves the circle. Next start is friend 5.\n",
    "6) Count 2 friends clockwise, which are friends 5 and 1.\n",
    "7) Friend 1 leaves the circle. Next start is friend 3.\n",
    "8) Count 2 friends clockwise, which are friends 3 and 5.\n",
    "9) Friend 5 leaves the circle. Only friend 3 is left, so they are the winner.\n",
    "```\n",
    "\n",
    "**Example 2:**\n",
    "\n",
    "```\n",
    "Input: n = 6, k = 5\n",
    "Output: 1\n",
    "Explanation: The friends leave in this order: 5, 4, 6, 2, 3. The winner is friend 1.\n"
   ]
  },
  {
   "cell_type": "code",
   "execution_count": 41,
   "id": "8708612e-c31a-4cc1-9bac-e677397fe2cd",
   "metadata": {},
   "outputs": [
    {
     "name": "stdout",
     "output_type": "stream",
     "text": [
      "3\n",
      "1\n"
     ]
    }
   ],
   "source": [
    "def findTheWinner(n, k):\n",
    "    friends = list(range(1, n + 1))  # Create a list representing the circle of friends\n",
    "\n",
    "    start = 0  # Index of the friend to start counting from\n",
    "\n",
    "    while len(friends) > 1:\n",
    "        # Count k friends in the clockwise direction\n",
    "        count = (start + k - 1) % len(friends)\n",
    "\n",
    "        # Remove the friend at the count index\n",
    "        friends.pop(count)\n",
    "\n",
    "        # Update the start index for the next iteration\n",
    "        start = count % len(friends)\n",
    "\n",
    "    return friends[0]  # Return the winner"
   ]
  },
  {
   "cell_type": "code",
   "execution_count": 42,
   "id": "66b421e5-cd23-4a03-895c-a134250a8c8c",
   "metadata": {},
   "outputs": [
    {
     "name": "stdout",
     "output_type": "stream",
     "text": [
      "3\n",
      "1\n"
     ]
    }
   ],
   "source": [
    "print(findTheWinner(5, 2)) \n",
    "print(findTheWinner(6, 5)) "
   ]
  },
  {
   "cell_type": "markdown",
   "id": "e99c7bee-c56e-4133-a0aa-a760170b35a1",
   "metadata": {},
   "source": [
    "<aside>\n",
    "💡 **Question 6**\n",
    "\n",
    "You are given an integer array `deck`. There is a deck of cards where every card has a unique integer. The integer on the `ith` card is `deck[i]`.\n",
    "\n",
    "You can order the deck in any order you want. Initially, all the cards start face down (unrevealed) in one deck.\n",
    "\n",
    "You will do the following steps repeatedly until all cards are revealed:\n",
    "\n",
    "1. Take the top card of the deck, reveal it, and take it out of the deck.\n",
    "2. If there are still cards in the deck then put the next top card of the deck at the bottom of the deck.\n",
    "3. If there are still unrevealed cards, go back to step 1. Otherwise, stop.\n",
    "\n",
    "Return *an ordering of the deck that would reveal the cards in increasing order*.\n",
    "\n",
    "**Note** that the first entry in the answer is considered to be the top of the deck.\n",
    "\n",
    "**Example 1:**\n",
    "\n",
    "```\n",
    "Input: deck = [17,13,11,2,3,5,7]\n",
    "Output: [2,13,3,11,5,17,7]\n",
    "Explanation:\n",
    "We get the deck in the order [17,13,11,2,3,5,7] (this order does not matter), and reorder it.\n",
    "After reordering, the deck starts as [2,13,3,11,5,17,7], where 2 is the top of the deck.\n",
    "We reveal 2, and move 13 to the bottom.  The deck is now [3,11,5,17,7,13].\n",
    "We reveal 3, and move 11 to the bottom.  The deck is now [5,17,7,13,11].\n",
    "We reveal 5, and move 17 to the bottom.  The deck is now [7,13,11,17].\n",
    "We reveal 7, and move 13 to the bottom.  The deck is now [11,17,13].\n",
    "We reveal 11, and move 17 to the bottom.  The deck is now [13,17].\n",
    "We reveal 13, and move 17 to the bottom.  The deck is now [17].\n",
    "We reveal 17.\n",
    "Since all the cards revealed are in increasing order, the answer is correct.\n",
    "\n",
    "```\n",
    "\n",
    "**Example 2:**\n",
    "\n",
    "```\n",
    "Input: deck = [1,1000]\n",
    "Output: [1,1000]\n",
    "```"
   ]
  },
  {
   "cell_type": "code",
   "execution_count": 43,
   "id": "50d7ad23-0d96-45be-82c2-1f847ecc03d5",
   "metadata": {},
   "outputs": [],
   "source": [
    "from collections import deque\n",
    "\n",
    "def deckRevealedIncreasing(deck):\n",
    "    deck.sort()  # Sort the deck in ascending order\n",
    "    n = len(deck)\n",
    "    queue = deque()\n",
    "\n",
    "    # Initialize the queue with indices from 0 to n-1\n",
    "    for i in range(n):\n",
    "        queue.append(i)\n",
    "\n",
    "    result = [0] * n  # Initialize the result array\n",
    "\n",
    "    for card in deck:\n",
    "        # Reveal the current card and assign it to the next available index in the result array\n",
    "        result[queue.popleft()] = card\n",
    "\n",
    "        # If there are more cards, move the next card to the back of the queue\n",
    "        if queue:\n",
    "            queue.append(queue.popleft())\n",
    "\n",
    "    return result\n"
   ]
  },
  {
   "cell_type": "code",
   "execution_count": 46,
   "id": "fe56f458-90a8-442a-9d30-5b8ba395251e",
   "metadata": {},
   "outputs": [
    {
     "name": "stdout",
     "output_type": "stream",
     "text": [
      "[2, 13, 3, 11, 5, 17, 7]\n",
      "[1, 1000]\n"
     ]
    }
   ],
   "source": [
    "\n",
    "print(deckRevealedIncreasing([17, 13, 11, 2, 3, 5, 7]))  \n",
    "print(deckRevealedIncreasing([1, 1000])) \n"
   ]
  },
  {
   "cell_type": "markdown",
   "id": "26ce4fa2-f8ec-4f96-8288-75ddb7cf51e7",
   "metadata": {},
   "source": [
    "<aside>\n",
    "💡 **Question 7**\n",
    "\n",
    "Design a queue that supports `push` and `pop` operations in the front, middle, and back.\n",
    "\n",
    "Implement the `FrontMiddleBack` class:\n",
    "\n",
    "- `FrontMiddleBack()` Initializes the queue.\n",
    "- `void pushFront(int val)` Adds `val` to the **front** of the queue.\n",
    "- `void pushMiddle(int val)` Adds `val` to the **middle** of the queue.\n",
    "- `void pushBack(int val)` Adds `val` to the **back** of the queue.\n",
    "- `int popFront()` Removes the **front** element of the queue and returns it. If the queue is empty, return `1`.\n",
    "- `int popMiddle()` Removes the **middle** element of the queue and returns it. If the queue is empty, return `1`.\n",
    "- `int popBack()` Removes the **back** element of the queue and returns it. If the queue is empty, return `1`.\n",
    "\n",
    "**Notice** that when there are **two** middle position choices, the operation is performed on the **frontmost** middle position choice. For example:\n",
    "\n",
    "- Pushing `6` into the middle of `[1, 2, 3, 4, 5]` results in `[1, 2, 6, 3, 4, 5]`.\n",
    "- Popping the middle from `[1, 2, 3, 4, 5, 6]` returns `3` and results in `[1, 2, 4, 5, 6]`.\n",
    "\n",
    "**Example 1:**\n",
    "\n",
    "```\n",
    "Input:\n",
    "[\"FrontMiddleBackQueue\", \"pushFront\", \"pushBack\", \"pushMiddle\", \"pushMiddle\", \"popFront\", \"popMiddle\", \"popMiddle\", \"popBack\", \"popFront\"]\n",
    "[[], [1], [2], [3], [4], [], [], [], [], []]\n",
    "Output:\n",
    "[null, null, null, null, null, 1, 3, 4, 2, -1]\n",
    "\n",
    "Explanation:\n",
    "FrontMiddleBackQueue q = new FrontMiddleBackQueue();\n",
    "q.pushFront(1);   // [1]\n",
    "q.pushBack(2);    // [1,2]\n",
    "q.pushMiddle(3);  // [1,3, 2]\n",
    "q.pushMiddle(4);  // [1,4, 3, 2]\n",
    "q.popFront();     // return 1 -> [4, 3, 2]\n",
    "q.popMiddle();    // return 3 -> [4, 2]\n",
    "q.popMiddle();    // return 4 -> [2]\n",
    "q.popBack();      // return 2 -> []\n",
    "q.popFront();     // return -1 -> [] (The queue is empty)\n",
    "```"
   ]
  },
  {
   "cell_type": "code",
   "execution_count": 48,
   "id": "fc901183-06ee-4e6c-9a9e-8b60d49acd40",
   "metadata": {},
   "outputs": [],
   "source": [
    "from collections import deque\n",
    "\n",
    "class FrontMiddleBackQueue:\n",
    "    def __init__(self):\n",
    "        # Initialize two deques to represent the front and back halves of the queue\n",
    "        self.front = deque()\n",
    "        self.back = deque()\n",
    "\n",
    "    def pushFront(self, val: int) -> None:\n",
    "        # Add the value to the front deque\n",
    "        self.front.appendleft(val)\n",
    "        self._balance()  # Balance the lengths of the deques\n",
    "\n",
    "    def pushMiddle(self, val: int) -> None:\n",
    "        # If the front deque is longer than the back deque, move an element from the front to the back\n",
    "        if len(self.front) > len(self.back):\n",
    "            self.back.appendleft(self.front.pop())\n",
    "        # Add the value to the front deque\n",
    "        self.front.append(val)\n",
    "        self._balance()  # Balance the lengths of the deques\n",
    "\n",
    "    def pushBack(self, val: int) -> None:\n",
    "        # Add the value to the back deque\n",
    "        self.back.append(val)\n",
    "        self._balance()  # Balance the lengths of the deques\n",
    "\n",
    "    def popFront(self) -> int:\n",
    "        # If both deques are empty, return -1\n",
    "        if not self.front and not self.back:\n",
    "            return -1\n",
    "        # If the front deque is empty, remove and return an element from the back deque\n",
    "        if not self.front:\n",
    "            return self.back.popleft()\n",
    "        # Remove and return an element from the front deque\n",
    "        return self.front.popleft()\n",
    "\n",
    "    def popMiddle(self) -> int:\n",
    "        # If both deques are empty, return -1\n",
    "        if not self.front and not self.back:\n",
    "            return -1\n",
    "        # If the front deque is longer than the back deque, remove and return the last element from the front deque\n",
    "        if len(self.front) > len(self.back):\n",
    "            return self.front.pop()\n",
    "        # Otherwise, remove and return an element from the back deque\n",
    "        return self.back.popleft()\n",
    "\n",
    "    def popBack(self) -> int:\n",
    "        # If both deques are empty, return -1\n",
    "        if not self.front and not self.back:\n",
    "            return -1\n",
    "        # If the back deque is empty, remove and return the last element from the front deque\n",
    "        if not self.back:\n",
    "            return self.front.pop()\n",
    "        # Otherwise, remove and return the last element from the back deque\n",
    "        return self.back.pop()\n",
    "\n",
    "    def _balance(self):\n",
    "        # Balances the lengths of the front and back deques\n",
    "        if len(self.front) > len(self.back) + 1:\n",
    "            self.back.appendleft(self.front.pop())\n",
    "        elif len(self.back) > len(self.front):\n",
    "            self.front.append(self.back.popleft())\n"
   ]
  },
  {
   "cell_type": "code",
   "execution_count": 49,
   "id": "c72d908d-fdc5-4378-923b-d9572ce51e29",
   "metadata": {},
   "outputs": [
    {
     "name": "stdout",
     "output_type": "stream",
     "text": [
      "1\n",
      "3\n",
      "2\n",
      "4\n",
      "-1\n"
     ]
    }
   ],
   "source": [
    "q = FrontMiddleBackQueue()\n",
    "q.pushFront(1)\n",
    "q.pushBack(2)\n",
    "q.pushMiddle(3)\n",
    "q.pushMiddle(4)\n",
    "print(q.popFront())   \n",
    "print(q.popMiddle())  \n",
    "print(q.popMiddle())  \n",
    "print(q.popBack())   \n",
    "print(q.popFront())   \n"
   ]
  },
  {
   "cell_type": "markdown",
   "id": "7906ead9-b20d-4889-bb5f-689a4b0bf934",
   "metadata": {},
   "source": [
    "<aside>\n",
    "💡 **Question 8**\n",
    "\n",
    "For a stream of integers, implement a data structure that checks if the last `k` integers parsed in the stream are **equal** to `value`.\n",
    "\n",
    "Implement the **DataStream** class:\n",
    "\n",
    "- `DataStream(int value, int k)` Initializes the object with an empty integer stream and the two integers `value` and `k`.\n",
    "- `boolean consec(int num)` Adds `num` to the stream of integers. Returns `true` if the last `k` integers are equal to `value`, and `false` otherwise. If there are less than `k` integers, the condition does not hold true, so returns `false`.\n",
    "\n",
    "**Example 1:**\n",
    "\n",
    "```\n",
    "Input\n",
    "[\"DataStream\", \"consec\", \"consec\", \"consec\", \"consec\"]\n",
    "[[4, 3], [4], [4], [4], [3]]\n",
    "Output\n",
    "[null, false, false, true, false]\n",
    "\n",
    "Explanation\n",
    "DataStream dataStream = new DataStream(4, 3); //value = 4, k = 3\n",
    "dataStream.consec(4); // Only 1 integer is parsed, so returns False.\n",
    "dataStream.consec(4); // Only 2 integers are parsed.\n",
    "                      // Since 2 is less than k, returns False.\n",
    "dataStream.consec(4); // The 3 integers parsed are all equal to value, so returns True.\n",
    "dataStream.consec(3); // The last k integers parsed in the stream are [4,4,3].\n",
    "                      // Since 3 is not equal to value, it returns False.\n",
    "```\n",
    "\n",
    "</aside>"
   ]
  },
  {
   "cell_type": "code",
   "execution_count": 50,
   "id": "e54b6cdd-d4f2-4198-bbe2-90cbcfde8607",
   "metadata": {},
   "outputs": [],
   "source": [
    "class DataStream:\n",
    "    def __init__(self, value: int, k: int):\n",
    "        self.stream = []\n",
    "        self.value = value\n",
    "        self.k = k\n",
    "\n",
    "    def consec(self, num: int) -> bool:\n",
    "        self.stream.append(num)\n",
    "        if len(self.stream) < self.k:\n",
    "            return False\n",
    "        return self.stream[-self.k:] == [self.value] * self.k\n"
   ]
  },
  {
   "cell_type": "code",
   "execution_count": 51,
   "id": "44871395-c05f-4970-b0f5-04e83d28ab76",
   "metadata": {},
   "outputs": [
    {
     "name": "stdout",
     "output_type": "stream",
     "text": [
      "False\n",
      "False\n",
      "True\n",
      "False\n"
     ]
    }
   ],
   "source": [
    "dataStream = DataStream(4, 3)\n",
    "print(dataStream.consec(4))  \n",
    "print(dataStream.consec(4))  \n",
    "print(dataStream.consec(4))  \n",
    "print(dataStream.consec(3))  \n"
   ]
  },
  {
   "cell_type": "code",
   "execution_count": null,
   "id": "f700f360-e238-4975-b845-3e18ce57216e",
   "metadata": {},
   "outputs": [],
   "source": []
  }
 ],
 "metadata": {
  "kernelspec": {
   "display_name": "Python 3 (ipykernel)",
   "language": "python",
   "name": "python3"
  },
  "language_info": {
   "codemirror_mode": {
    "name": "ipython",
    "version": 3
   },
   "file_extension": ".py",
   "mimetype": "text/x-python",
   "name": "python",
   "nbconvert_exporter": "python",
   "pygments_lexer": "ipython3",
   "version": "3.10.6"
  }
 },
 "nbformat": 4,
 "nbformat_minor": 5
}
