{
 "cells": [
  {
   "cell_type": "markdown",
   "id": "95be47bb-e689-49d0-b18d-36d022a306d2",
   "metadata": {},
   "source": [
    "<aside>\n",
    "💡 **Question 1**\n",
    "\n",
    "Given an array **arr[ ]** of size **N** having elements, the task is to find the next greater element for each element of the array in order of their appearance in the array.Next greater element of an element in the array is the nearest element on the right which is greater than the current element.If there does not exist next greater of current element, then next greater element for current element is -1. For example, next greater of the last element is always -1.\n",
    "\n",
    "**Example 1:**\n",
    "\n",
    "```\n",
    "Input:\n",
    "N = 4, arr[] = [1 3 2 4]\n",
    "Output:\n",
    "3 4 4 -1\n",
    "Explanation:\n",
    "In the array, the next larger element\n",
    "to 1 is 3 , 3 is 4 , 2 is 4 and for 4 ?\n",
    "since it doesn't exist, it is -1.\n",
    "\n",
    "```\n",
    "\n",
    "**Example 2:**\n",
    "\n",
    "```\n",
    "Input:\n",
    "N = 5, arr[] [6 8 0 1 3]\n",
    "Output:\n",
    "8 -1 1 3 -1\n",
    "Explanation:\n",
    "In the array, the next larger element to\n",
    "6 is 8, for 8 there is no larger elements\n",
    "hence it is -1, for 0 it is 1 , for 1 it\n",
    "is 3 and then for 3 there is no larger\n",
    "element on right and hence -1.\n",
    "```"
   ]
  },
  {
   "cell_type": "code",
   "execution_count": 48,
   "id": "73cefb35-1ef2-40e1-a6e2-ca8b6588588f",
   "metadata": {},
   "outputs": [],
   "source": [
    "def next_greater_element(N, arr):\n",
    "    stack = []                    # Initialize an empty stack to store elements\n",
    "    result = [-1] * N # Initialize a result array with -1 as the default value for all elements\n",
    "\n",
    "    for i in range(N-1, -1, -1):# Traverse the array from right to left\n",
    "        \n",
    "        while stack and stack[-1] <= arr[i]:  # While the stack is not empty and the top element of the stack is less than or equal to arr[i]\n",
    "            stack.pop()# Pop elements from the stack untill loop satifies\n",
    "\n",
    "        if stack:# If the stack is not empty\n",
    "            result[i] = stack[-1]# Set the result array element for arr[i] as the top element of the stack\n",
    "        stack.append(arr[i])# Push arr[i] onto the stack\n",
    "    return result                 # Return the result array\n",
    "\n"
   ]
  },
  {
   "cell_type": "code",
   "execution_count": 49,
   "id": "85575430-0c5f-4fb5-b05b-bb16c3f8f99d",
   "metadata": {},
   "outputs": [
    {
     "name": "stdout",
     "output_type": "stream",
     "text": [
      "[3, 4, 4, -1]\n"
     ]
    }
   ],
   "source": [
    "N = 4\n",
    "arr = [1, 3, 2, 4]\n",
    "\n",
    "output = next_greater_element(N, arr)\n",
    "print(output)\n"
   ]
  },
  {
   "cell_type": "code",
   "execution_count": 50,
   "id": "c8c40c12-a6d4-4a5f-9a32-bc221da108a0",
   "metadata": {},
   "outputs": [
    {
     "name": "stdout",
     "output_type": "stream",
     "text": [
      "[8, -1, 1, 3, -1]\n"
     ]
    }
   ],
   "source": [
    "N = 5\n",
    "arr= [6,8,0,1,3]\n",
    "output = next_greater_element(N, arr)\n",
    "print(output)"
   ]
  },
  {
   "cell_type": "markdown",
   "id": "c4f034a4-e568-4a91-85e8-f1a567132ae3",
   "metadata": {},
   "source": [
    "<aside>\n",
    "💡 **Question 2**\n",
    "\n",
    "Given an array **a** of integers of length **n**, find the nearest smaller number for every element such that the smaller element is on left side.If no small element present on the left print -1.\n",
    "\n",
    "**Example 1:**\n",
    "\n",
    "```\n",
    "Input: n = 3\n",
    "a = {1, 6, 2}\n",
    "Output: -1 1 1\n",
    "Explaination: There is no number at the\n",
    "left of 1. Smaller number than 6 and 2 is 1.\n",
    "```\n",
    "\n",
    "**Example 2:**\n",
    "\n",
    "```\n",
    "Input: n = 6\n",
    "a = {1, 5, 0, 3, 4, 5}\n",
    "Output: -1 1 -1 0 3 4\n",
    "Explaination: Upto 3 it is easy to see\n",
    "the smaller numbers. But for 4 the smaller\n",
    "numbers are 1, 0 and 3. But among them 3\n",
    "is closest. Similary for 5 it is 4.\n",
    "```"
   ]
  },
  {
   "cell_type": "code",
   "execution_count": 13,
   "id": "d998bbb4-9460-4c97-9799-8fd915f040c2",
   "metadata": {},
   "outputs": [],
   "source": [
    "def find_nearest_smaller_elements(n,arr):\n",
    "    stack = []\n",
    "    result = []\n",
    "\n",
    "    for i in range(n):\n",
    "        while stack and stack[-1] >= arr[i]:\n",
    "            stack.pop()\n",
    "\n",
    "        if stack:\n",
    "            result.append(stack[-1])\n",
    "        else:\n",
    "            result.append(-1)\n",
    "\n",
    "        stack.append(arr[i])\n",
    "        # print(stack)\n",
    "\n",
    "    return result\n"
   ]
  },
  {
   "cell_type": "code",
   "execution_count": 14,
   "id": "e4f38dfb-c7f7-4846-af3e-fa481426c94f",
   "metadata": {},
   "outputs": [
    {
     "name": "stdout",
     "output_type": "stream",
     "text": [
      "[-1, 1, 1, 2]\n"
     ]
    }
   ],
   "source": [
    "N = 4\n",
    "arr = [1, 3, 2, 4]\n",
    "\n",
    "output = find_nearest_smaller_elements(N, arr)\n",
    "print(output)"
   ]
  },
  {
   "cell_type": "markdown",
   "id": "7e2dbd12-264b-428e-b018-846acf9b5fb0",
   "metadata": {},
   "source": [
    "<aside>\n",
    "💡 **Question 3**\n",
    "\n",
    "Implement a Stack using two queues **q1** and **q2**.\n",
    "\n",
    "**Example 1:**\n",
    "\n",
    "```\n",
    "Input:\n",
    "push(2)\n",
    "push(3)\n",
    "pop()\n",
    "push(4)\n",
    "pop()\n",
    "Output:3 4\n",
    "Explanation:\n",
    "push(2) the stack will be {2}\n",
    "push(3) the stack will be {2 3}\n",
    "pop()   poped element will be 3 the\n",
    "        stack will be {2}\n",
    "push(4) the stack will be {2 4}\n",
    "pop()   poped element will be 4\n",
    "\n",
    "```\n",
    "\n",
    "**Example 2:**\n",
    "\n",
    "```\n",
    "Input:\n",
    "push(2)\n",
    "pop()\n",
    "pop()\n",
    "push(3)\n",
    "Output:2 -1\n",
    "```"
   ]
  },
  {
   "cell_type": "code",
   "execution_count": 11,
   "id": "971a47c8-d5ae-45f4-9e00-54b1ba4be4a6",
   "metadata": {},
   "outputs": [],
   "source": [
    "from queue import Queue\n",
    "\n",
    "class Stack:\n",
    "    def __init__(self):\n",
    "        self.q1 = Queue()\n",
    "        self.q2 = Queue()\n",
    "\n",
    "    def push(self, value):\n",
    "        self.q1.put(value)  # Add the new element to q1\n",
    "\n",
    "    def pop(self):\n",
    "        if self.isEmpty():\n",
    "            return -1  # If both queues are empty, return -1 indicating stack underflow\n",
    "\n",
    "#         # Move all elements from q1 to q2, except the last one\n",
    "        while self.q1.qsize() > 1:\n",
    "            self.q2.put(self.q1.get())\n",
    "            # print(self.q2.get())\n",
    "\n",
    "        element = self.q1.get()  # Remove and retrieve the last element from q1\n",
    "\n",
    "        self.q1, self.q2 = self.q2, self.q1  # Swap the names of q1 and q2\n",
    "\n",
    "        return element\n",
    "\n",
    "    def isEmpty(self):\n",
    "        return self.q1.empty() and self.q2.empty()  # Check if both queues are empty\n"
   ]
  },
  {
   "cell_type": "code",
   "execution_count": 12,
   "id": "a8fc249d-197e-4438-b331-34522ecff454",
   "metadata": {},
   "outputs": [
    {
     "name": "stdout",
     "output_type": "stream",
     "text": [
      "3\n",
      "4\n",
      "2\n",
      "-1\n"
     ]
    }
   ],
   "source": [
    "stack = Stack()\n",
    "stack.push(2)\n",
    "stack.push(3)\n",
    "print(stack.pop())  # Output: 3\n",
    "stack.push(4)\n",
    "print(stack.pop())  # Output: 4\n",
    "print(stack.pop())\n",
    "print(stack.pop())"
   ]
  },
  {
   "cell_type": "code",
   "execution_count": 13,
   "id": "67c4dd00-a373-4742-872a-be17fd0072dc",
   "metadata": {},
   "outputs": [
    {
     "name": "stdout",
     "output_type": "stream",
     "text": [
      "2\n",
      "-1\n"
     ]
    }
   ],
   "source": [
    "stack = Stack()\n",
    "stack.push(2)\n",
    "print(stack.pop())  # Output: 2\n",
    "print(stack.pop())  # Output: -1\n"
   ]
  },
  {
   "cell_type": "markdown",
   "id": "47212dd6-d4f5-497b-82e0-1dc3b7d5b8f5",
   "metadata": {},
   "source": [
    "<aside>\n",
    "💡 **Question 4**\n",
    "\n",
    "You are given a stack **St**. You have to reverse the stack using recursion.\n",
    "\n",
    "**Example 1:**\n",
    "\n",
    "```\n",
    "Input:St = {3,2,1,7,6}\n",
    "Output:{6,7,1,2,3}\n",
    "```\n",
    "\n",
    "**Example 2:**\n",
    "\n",
    "```\n",
    "Input:St = {4,3,9,6}\n",
    "Output:{6,9,3,4}\n",
    "```"
   ]
  },
  {
   "cell_type": "code",
   "execution_count": 27,
   "id": "6767cda1-c91f-4fad-82a0-5f6c968df757",
   "metadata": {},
   "outputs": [],
   "source": [
    "def reverse_stack(St):\n",
    "    # Base case: if stack is empty or contains only one element, return the stack as it is\n",
    "    if len(St) <= 1:\n",
    "        return St\n",
    "\n",
    "    # Remove the top element from the stack and store it in a variable 'temp'\n",
    "    temp = St.pop()\n",
    "\n",
    "    # Recursively call the 'reverse_stack' function on the remaining stack\n",
    "    St = reverse_stack(St)\n",
    "    # Insert the 'temp' element(to reverse) at the bottom of the reversed stack\n",
    "    St = insert_at_bottom(St, temp)\n",
    "\n",
    "    return St\n",
    "\n",
    "def insert_at_bottom(St, item):\n",
    "    # print(\"st,item\",St,item)\n",
    "    if len(St) == 0:\n",
    "        St.append(item)\n",
    "    else:\n",
    "        # Remove the top element from the stack and store it in a variable 'temp'\n",
    "        temp = St.pop()\n",
    "        # Recursively call the 'insert_at_bottom' function on the remaining stack\n",
    "        St = insert_at_bottom(St, item)\n",
    "        # Insert the 'temp' element back to the stack after the recursion\n",
    "        St.append(temp)\n",
    "\n",
    "    return St\n"
   ]
  },
  {
   "cell_type": "code",
   "execution_count": 28,
   "id": "3b02d26a-bf62-48bf-bcbf-78178398d8ca",
   "metadata": {},
   "outputs": [
    {
     "data": {
      "text/plain": [
       "[6, 7, 1, 2, 3]"
      ]
     },
     "execution_count": 28,
     "metadata": {},
     "output_type": "execute_result"
    }
   ],
   "source": [
    "St = [3,2,1,7,6]\n",
    "reverse_stack(St)"
   ]
  },
  {
   "cell_type": "code",
   "execution_count": 30,
   "id": "b1397a4d-46eb-4002-86e7-c0accd088b24",
   "metadata": {},
   "outputs": [
    {
     "data": {
      "text/plain": [
       "[6, 9, 3, 4]"
      ]
     },
     "execution_count": 30,
     "metadata": {},
     "output_type": "execute_result"
    }
   ],
   "source": [
    "St = [4,3,9,6]\n",
    "reverse_stack(St)"
   ]
  },
  {
   "cell_type": "markdown",
   "id": "dd088bf7-44fd-431d-9289-5e74a6b67931",
   "metadata": {},
   "source": [
    "<aside>\n",
    "💡 **Question 5**\n",
    "\n",
    "You are given a string **S**, the task is to reverse the string using stack.\n",
    "\n",
    "**Example 1:**\n",
    "\n",
    "```\n",
    "Input: S=\"GeeksforGeeks\"\n",
    "Output: skeeGrofskeeG\n"
   ]
  },
  {
   "cell_type": "code",
   "execution_count": 36,
   "id": "839d713e-8f09-4b75-9a4b-152b3e9fd946",
   "metadata": {},
   "outputs": [],
   "source": [
    "class Stack:\n",
    "    def __init__(self):\n",
    "        self.stack = []\n",
    "\n",
    "    def push(self, value):\n",
    "        self.stack.append(value)  # Push the value onto the stack\n",
    "\n",
    "    def pop(self):\n",
    "        if not self.isEmpty():\n",
    "            return self.stack.pop()  # Pop and return the top value from the stack\n",
    "\n",
    "    def isEmpty(self):\n",
    "        return len(self.stack) == 0  # Check if the stack is empty\n",
    "\n",
    "\n",
    "def reverse_string(S):\n",
    "    stack = Stack()\n",
    "    \n",
    "    # Push each character onto the stack\n",
    "    for char in S:\n",
    "        stack.push(char)\n",
    "    \n",
    "    reversed_string = \"\"\n",
    "    \n",
    "    # Pop each character from the stack and append it to the reversed string\n",
    "    while not stack.isEmpty():\n",
    "        reversed_string += stack.pop()\n",
    "    \n",
    "    return reversed_string\n"
   ]
  },
  {
   "cell_type": "code",
   "execution_count": 38,
   "id": "1b9165f6-6e62-420c-8518-f4397fd2e318",
   "metadata": {},
   "outputs": [
    {
     "name": "stdout",
     "output_type": "stream",
     "text": [
      "skeeGrofskeeG\n"
     ]
    }
   ],
   "source": [
    "S = \"GeeksforGeeks\"\n",
    "reversed_S = reverse_string(S)\n",
    "print(reversed_S)  # Output: skeeGrofskeeG\n"
   ]
  },
  {
   "cell_type": "markdown",
   "id": "07993f2b-7c8d-4c0e-a9d0-0689850e0125",
   "metadata": {},
   "source": [
    "<aside>\n",
    "💡 **Question 6**\n",
    "\n",
    "Given string **S** representing a postfix expression, the task is to evaluate the expression and find the final value. Operators will only include the basic arithmetic operators like ***, /, + and -**.\n",
    "\n",
    "**Example 1:**\n",
    "\n",
    "```\n",
    "Input: S = \"231*+9-\"\n",
    "Output: -4\n",
    "Explanation:\n",
    "After solving the given expression,\n",
    "we have -4 as result.\n",
    "\n",
    "```\n",
    "\n",
    "**Example 2:**\n",
    "\n",
    "```\n",
    "Input: S = \"123+*8-\"\n",
    "Output: -3\n",
    "Explanation:\n",
    "After solving the given postfix\n",
    "expression, we have -3 as result.\n"
   ]
  },
  {
   "cell_type": "code",
   "execution_count": 48,
   "id": "59e02f29-ca54-4926-a561-dcb3dea6e2c3",
   "metadata": {},
   "outputs": [],
   "source": [
    "def evaluate_postfix(S):\n",
    "    stack = []\n",
    "\n",
    "    for char in S:\n",
    "        if char.isdigit():\n",
    "            stack.append(int(char))\n",
    "            print(stack)\n",
    "        else:\n",
    "            operand2 = stack.pop()\n",
    "            operand1 = stack.pop()\n",
    "           \n",
    "            if char == '+':\n",
    "                result = operand1 + operand2\n",
    "                \n",
    "            elif char == '-':\n",
    "                result = operand1 - operand2\n",
    "               \n",
    "            elif char == '*':\n",
    "                \n",
    "                result = operand1 * operand2\n",
    "                \n",
    "            elif char == '/':\n",
    "                result = operand1 / operand2\n",
    "                \n",
    "\n",
    "            stack.append(result)\n",
    "\n",
    "    return stack.pop()\n"
   ]
  },
  {
   "cell_type": "code",
   "execution_count": 49,
   "id": "c3da9a36-682a-493d-9696-c6e221163c53",
   "metadata": {},
   "outputs": [
    {
     "name": "stdout",
     "output_type": "stream",
     "text": [
      "[2]\n",
      "[2, 3]\n",
      "[2, 3, 1]\n",
      "[5, 9]\n"
     ]
    },
    {
     "data": {
      "text/plain": [
       "-4"
      ]
     },
     "execution_count": 49,
     "metadata": {},
     "output_type": "execute_result"
    }
   ],
   "source": [
    "S = \"231*+9-\"\n",
    "evaluate_postfix(S)"
   ]
  },
  {
   "cell_type": "code",
   "execution_count": 50,
   "id": "3f9fbd15-2f14-47e6-a75b-ac86de762280",
   "metadata": {},
   "outputs": [
    {
     "name": "stdout",
     "output_type": "stream",
     "text": [
      "[1]\n",
      "[1, 2]\n",
      "[1, 2, 3]\n",
      "[5, 8]\n"
     ]
    },
    {
     "data": {
      "text/plain": [
       "-3"
      ]
     },
     "execution_count": 50,
     "metadata": {},
     "output_type": "execute_result"
    }
   ],
   "source": [
    "S = \"123+*8-\"\n",
    "evaluate_postfix(S)\n"
   ]
  },
  {
   "cell_type": "markdown",
   "id": "8ca2a3d6-a112-4dfe-aefc-d41babe4f803",
   "metadata": {},
   "source": [
    "<aside>\n",
    "💡 **Question 7**\n",
    "\n",
    "Design a stack that supports push, pop, top, and retrieving the minimum element in constant time.\n",
    "\n",
    "Implement the `MinStack` class:\n",
    "\n",
    "- `MinStack()` initializes the stack object.\n",
    "- `void push(int val)` pushes the element `val` onto the stack.\n",
    "- `void pop()` removes the element on the top of the stack.\n",
    "- `int top()` gets the top element of the stack.\n",
    "- `int getMin()` retrieves the minimum element in the stack.\n",
    "\n",
    "You must implement a solution with `O(1)` time complexity for each function.\n",
    "\n",
    "**Example 1:**\n",
    "\n",
    "```\n",
    "Input\n",
    "[\"MinStack\",\"push\",\"push\",\"push\",\"getMin\",\"pop\",\"top\",\"getMin\"]\n",
    "[[],[-2],[0],[-3],[],[],[],[]]\n",
    "\n",
    "Output\n",
    "[null,null,null,null,-3,null,0,-2]\n",
    "\n",
    "Explanation\n",
    "MinStack minStack = new MinStack();\n",
    "minStack.push(-2);\n",
    "minStack.push(0);\n",
    "minStack.push(-3);\n",
    "minStack.getMin(); // return -3\n",
    "minStack.pop();\n",
    "minStack.top();    // return 0\n",
    "minStack.getMin(); // return -2\n",
    "```"
   ]
  },
  {
   "cell_type": "code",
   "execution_count": 51,
   "id": "45f5bf42-d1cb-4efa-a2d3-b5fa05b67eb8",
   "metadata": {},
   "outputs": [],
   "source": [
    "class MinStack:\n",
    "    def __init__(self):\n",
    "        self.stack = []  # Main stack to store elements\n",
    "        self.min_stack = []  # Auxiliary stack to track minimum elements\n",
    "\n",
    "    def push(self, val):\n",
    "        self.stack.append(val)  # Push the value onto the main stack\n",
    "\n",
    "        # Update the minimum stack\n",
    "        if not self.min_stack or val <= self.min_stack[-1]:\n",
    "            self.min_stack.append(val)\n",
    "\n",
    "    def pop(self):\n",
    "        if self.stack:\n",
    "            val = self.stack.pop()\n",
    "\n",
    "            # If the popped value is the minimum, update the minimum stack\n",
    "            if val == self.min_stack[-1]:\n",
    "                self.min_stack.pop()\n",
    "\n",
    "    def top(self):\n",
    "        if self.stack:\n",
    "            return self.stack[-1]\n",
    "\n",
    "    def getMin(self):\n",
    "        if self.min_stack:\n",
    "            return self.min_stack[-1]\n"
   ]
  },
  {
   "cell_type": "code",
   "execution_count": 52,
   "id": "305e20a6-c4c6-4670-b699-319e8438fd47",
   "metadata": {},
   "outputs": [
    {
     "name": "stdout",
     "output_type": "stream",
     "text": [
      "-3\n",
      "0\n",
      "-2\n"
     ]
    }
   ],
   "source": [
    "minStack = MinStack()\n",
    "minStack.push(-2)\n",
    "minStack.push(0)\n",
    "minStack.push(-3)\n",
    "print(minStack.getMin())  # Output: -3\n",
    "minStack.pop()\n",
    "print(minStack.top())  # Output: 0\n",
    "print(minStack.getMin())  # Output: -2\n"
   ]
  },
  {
   "cell_type": "markdown",
   "id": "cb073e25-cf7b-430e-8f58-8dcc82c86cc7",
   "metadata": {},
   "source": [
    "<aside>\n",
    "💡 **Question 8**\n",
    "\n",
    "Given `n` non-negative integers representing an elevation map where the width of each bar is `1`, compute how much water it can trap after raining.\n",
    "\n",
    "**Example 1:**\n",
    "\n",
    "</aside>\n",
    "Input: height = [0,1,0,2,1,0,1,3,2,1,2,1]\n",
    "Output: 6\n",
    "Explanation: The above elevation map (black section) is represented by array [0,1,0,2,1,0,1,3,2,1,2,1]. In this case, 6 units of rain water (blue section) are being trapped.\n",
    "Input: height = [4,2,0,3,2,5]\n",
    "Output: 9"
   ]
  },
  {
   "attachments": {
    "974ca9f7-512f-47d9-b7bc-a56f3c426a11.png": {
     "image/png": "[encoded data removed]"
    }
   },
   "cell_type": "markdown",
   "id": "55e7292d-8fea-4c53-ab57-cf774dffdaa8",
   "metadata": {},
   "source": [
    "![image.png](attachment:974ca9f7-512f-47d9-b7bc-a56f3c426a11.png)"
   ]
  },
  {
   "cell_type": "code",
   "execution_count": 54,
   "id": "7facc874-5c05-4c2d-9c67-2950e8a270f1",
   "metadata": {},
   "outputs": [],
   "source": [
    "def trap(height):\n",
    "    stack = []  # Stack to store indices of the elevation bars\n",
    "    water = 0  # Variable to store the trapped water\n",
    "\n",
    "    for i in range(len(height)):\n",
    "        while stack and height[i] > height[stack[-1]]:\n",
    "            top = stack.pop()  # Index of the top bar in the stack\n",
    "            if not stack:\n",
    "                break\n",
    "            distance = i - stack[-1] - 1  # Distance between the current bar and the previous bar in the stack\n",
    "            bounded_height = min(height[i], height[stack[-1]]) - height[top]  # Calculate the bounded height\n",
    "            water += distance * bounded_height  # Calculate the trapped water\n",
    "\n",
    "        stack.append(i)  # Push the current bar index onto the stack\n",
    "\n",
    "    return water\n"
   ]
  },
  {
   "cell_type": "code",
   "execution_count": 55,
   "id": "64790566-bd61-41f2-9426-9e857028c1ff",
   "metadata": {},
   "outputs": [
    {
     "data": {
      "text/plain": [
       "6"
      ]
     },
     "execution_count": 55,
     "metadata": {},
     "output_type": "execute_result"
    }
   ],
   "source": [
    "height = [0,1,0,2,1,0,1,3,2,1,2,1]\n",
    "trap(height)"
   ]
  },
  {
   "cell_type": "code",
   "execution_count": 56,
   "id": "c27d9006-0388-4cc9-9d50-7cf6dfd58fda",
   "metadata": {},
   "outputs": [
    {
     "data": {
      "text/plain": [
       "9"
      ]
     },
     "execution_count": 56,
     "metadata": {},
     "output_type": "execute_result"
    }
   ],
   "source": [
    "height = [4,2,0,3,2,5]\n",
    "trap(height)"
   ]
  },
  {
   "cell_type": "code",
   "execution_count": null,
   "id": "87afc652-6526-4774-b9f2-e70a47fbcf16",
   "metadata": {},
   "outputs": [],
   "source": []
  }
 ],
 "metadata": {
  "kernelspec": {
   "display_name": "Python 3 (ipykernel)",
   "language": "python",
   "name": "python3"
  },
  "language_info": {
   "codemirror_mode": {
    "name": "ipython",
    "version": 3
   },
   "file_extension": ".py",
   "mimetype": "text/x-python",
   "name": "python",
   "nbconvert_exporter": "python",
   "pygments_lexer": "ipython3",
   "version": "3.10.6"
  }
 },
 "nbformat": 4,
 "nbformat_minor": 5
}
