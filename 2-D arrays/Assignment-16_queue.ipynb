{
 "cells": [
  {
   "cell_type": "markdown",
   "id": "56209025-838a-4b7f-bf24-06190bbba464",
   "metadata": {},
   "source": [
    "<aside>\n",
    "💡 **Question 1**\n",
    "\n",
    "Given an array, for each element find the value of the nearest element to the right which is having a frequency greater than that of the current element. If there does not exist an answer for a position, then make the value ‘-1’.\n",
    "\n",
    "**Examples:**\n",
    "\n",
    "```\n",
    "Input: a[] = [1, 1, 2, 3, 4, 2, 1]\n",
    "Output : [-1, -1, 1, 2, 2, 1, -1]\n",
    "\n",
    "Explanation:\n",
    "Given array a[] = [1, 1, 2, 3, 4, 2, 1]\n",
    "Frequency of each element is: 3, 3, 2, 1, 1, 2, 3\n",
    "\n",
    "Lets calls Next Greater Frequency element as NGF\n",
    "1. For element a[0] = 1 which has a frequency = 3,\n",
    "   As it has frequency of 3 and no other next element\n",
    "   has frequency more than 3 so  '-1'\n",
    "2. For element a[1] = 1 it will be -1 same logic\n",
    "   like a[0]\n",
    "3. For element a[2] = 2 which has frequency = 2,\n",
    "   NGF element is 1 at position = 6  with frequency\n",
    "   of 3 > 2\n",
    "4. For element a[3] = 3 which has frequency = 1,\n",
    "   NGF element is 2 at position = 5 with frequency\n",
    "   of 2 > 1\n",
    "5. For element a[4] = 4 which has frequency = 1,\n",
    "   NGF element is 2 at position = 5 with frequency\n",
    "   of 2 > 1\n",
    "6. For element a[5] = 2 which has frequency = 2,\n",
    "   NGF element is 1 at position = 6 with frequency\n",
    "   of 3 > 2\n",
    "7. For element a[6] = 1 there is no element to its\n",
    "   right, hence -1\n",
    "```\n",
    "\n",
    "```\n",
    "Input : a[] = [1, 1, 1, 2, 2, 2, 2, 11, 3, 3]\n",
    "Output : [2, 2, 2, -1, -1, -1, -1, 3, -1, -1]\n",
    "```"
   ]
  },
  {
   "cell_type": "code",
   "execution_count": 12,
   "id": "f2964f73-a249-4db4-9a86-ae06d6bc8db5",
   "metadata": {},
   "outputs": [
    {
     "name": "stdout",
     "output_type": "stream",
     "text": [
      "[-1, -1, 1, 2, 2, 1, -1]\n"
     ]
    }
   ],
   "source": [
    "def findNearestGreaterFrequency(arr):\n",
    "    stack = []\n",
    "    frequency = {}\n",
    "    result = []\n",
    "\n",
    "    for i in range(len(arr) - 1, -1, -1):\n",
    "        frequency[arr[i]] = frequency.get(arr[i], 0) + 1  # Update the frequency of the current element\n",
    "\n",
    "    for i in range(len(arr)):\n",
    "        while stack and frequency[arr[i]] >= frequency[stack[-1]]:\n",
    "            stack.pop()\n",
    "\n",
    "        if stack:\n",
    "            result.append(stack[-1])\n",
    "        else:\n",
    "            result.append(-1)\n",
    "\n",
    "        stack.append(arr[i])\n",
    "\n",
    "    return result\n",
    "\n",
    "# Example usage\n",
    "arr = [1, 1, 2, 3, 4, 2, 1]\n",
    "output = findNearestGreaterFrequency(arr)\n",
    "print(output)  "
   ]
  },
  {
   "cell_type": "markdown",
   "id": "c19f6923-59f5-42b9-8c7e-5c5de4fb87e2",
   "metadata": {},
   "source": [
    "<aside>\n",
    "💡 **Question 2**\n",
    "\n",
    "Given a stack of integers, sort it in ascending order using another temporary stack.\n",
    "\n",
    "**Examples:**\n",
    "\n",
    "```\n",
    "Input : [34, 3, 31, 98, 92, 23]\n",
    "Output : [3, 23, 31, 34, 92, 98]\n",
    "\n",
    "Input : [3, 5, 1, 4, 2, 8]\n",
    "Output : [1, 2, 3, 4, 5, 8]\n"
   ]
  },
  {
   "cell_type": "code",
   "execution_count": 33,
   "id": "9bbfb663-ca17-4805-bb06-a6b2ef12da48",
   "metadata": {},
   "outputs": [],
   "source": [
    "def sortStack(stack):\n",
    "    tempStack = []  # Temporary stack to hold sorted elements\n",
    "\n",
    "    # Iterate through each element in the original stack\n",
    "    while stack:\n",
    "        element = stack.pop()  # Remove an element from the original stack\n",
    "\n",
    "        # Move elements from the temporary stack back to the original stack\n",
    "        # until the top element of the temporary stack is greater than the current element\n",
    "        while tempStack and tempStack[-1] < element:\n",
    "            stack.append(tempStack.pop())\n",
    "\n",
    "        # Place the current element at its correct position in the temporary stack\n",
    "        tempStack.append(element)\n",
    "\n",
    "    # Move all elements from the temporary stack back to the original stack\n",
    "    while tempStack:\n",
    "        stack.append(tempStack.pop())\n",
    "\n",
    "    return stack\n",
    "\n"
   ]
  },
  {
   "cell_type": "code",
   "execution_count": 34,
   "id": "58273336-3d07-4ce9-868a-72ef8329760b",
   "metadata": {},
   "outputs": [
    {
     "name": "stdout",
     "output_type": "stream",
     "text": [
      "[3, 23, 31, 34, 92, 98]\n"
     ]
    }
   ],
   "source": [
    "stack = [34, 3, 31, 98, 92, 23]\n",
    "sortedStack = sortStack(stack)\n",
    "print(sortedStack)\n"
   ]
  },
  {
   "cell_type": "code",
   "execution_count": 35,
   "id": "599bb7ee-f65c-4189-b5f5-37285c91c790",
   "metadata": {},
   "outputs": [
    {
     "name": "stdout",
     "output_type": "stream",
     "text": [
      "[1, 2, 3, 4, 5, 8]\n"
     ]
    }
   ],
   "source": [
    "stack =[3, 5, 1, 4, 2, 8]\n",
    "sortedStack = sortStack(stack)\n",
    "print(sortedStack)"
   ]
  },
  {
   "cell_type": "markdown",
   "id": "2e5c3579-a885-4fb3-b1b0-a9b96232118a",
   "metadata": {},
   "source": [
    "<aside>\n",
    "💡 **Question 3**\n",
    "\n",
    "Given a stack with **push()**, **pop()**, and **empty()** operations, The task is to delete the **middle** element ****of it without using any additional data structure.\n",
    "\n",
    "Input  : Stack[] = [1, 2, 3, 4, 5]\n",
    "\n",
    "Output : Stack[] = [1, 2, 4, 5]\n",
    "\n",
    "Input  : Stack[] = [1, 2, 3, 4, 5, 6]\n",
    "\n",
    "Output : Stack[] = [1, 2, 4, 5, 6]\n",
    "\n",
    "</aside>"
   ]
  },
  {
   "cell_type": "code",
   "execution_count": 49,
   "id": "db6e3cf3-1259-4e06-88b6-1f36ebb728de",
   "metadata": {},
   "outputs": [
    {
     "name": "stdout",
     "output_type": "stream",
     "text": [
      "[1, 2, 4, 5, 6]\n"
     ]
    }
   ],
   "source": [
    "def deleteMiddle(stack):\n",
    "    # Calculate the size of the stack\n",
    "    size = len(stack)\n",
    "\n",
    "    # Find the position of the middle element\n",
    "    middle = size // 2\n",
    "\n",
    "    # Variable to keep track of the current position\n",
    "    current = 0\n",
    "\n",
    "    # Temporary stack to hold the discarded elements\n",
    "    tempStack = []\n",
    "\n",
    "    # Pop and discard elements until the middle element is reached\n",
    "    while current < middle:\n",
    "        tempStack.append(stack.pop())\n",
    "        current += 1\n",
    "\n",
    "    # Pop the middle element\n",
    "    stack.pop()\n",
    "\n",
    "    # Push back the discarded elements onto the stack\n",
    "    while tempStack:\n",
    "        stack.append(tempStack.pop())\n",
    "\n",
    "    return stack\n",
    "\n",
    "# Example usage\n",
    "stack = [1, 2, 3, 4, 5, 6]\n",
    "modifiedStack = deleteMiddle(stack)\n",
    "print(modifiedStack)  # Output: [1, 2, 4, 5, 6]\n"
   ]
  },
  {
   "cell_type": "code",
   "execution_count": 50,
   "id": "63bc4e56-642e-456b-b728-d83cdd344b7f",
   "metadata": {},
   "outputs": [
    {
     "name": "stdout",
     "output_type": "stream",
     "text": [
      "[1, 2, 4, 5]\n"
     ]
    }
   ],
   "source": [
    "stack = [1, 2, 3, 4, 5]\n",
    "modifiedStack = deleteMiddle(stack)\n",
    "print(modifiedStack)"
   ]
  },
  {
   "cell_type": "markdown",
   "id": "e36bc5ee-7f22-4929-9b40-a4064c72391a",
   "metadata": {},
   "source": [
    "<aside>\n",
    "💡 **Question 4**\n",
    "\n",
    "Given a Queue consisting of first **n** natural numbers (in random order). The task is to check whether the given Queue elements can be arranged in increasing order in another Queue using a stack. The operation allowed are:\n",
    "\n",
    "1. Push and pop elements from the stack\n",
    "2. Pop (Or Dequeue) from the given Queue.\n",
    "3. Push (Or Enqueue) in the another Queue.\n",
    "\n",
    "**Examples :**\n",
    "\n",
    "Input : Queue[] = { 5, 1, 2, 3, 4 } \n",
    "\n",
    "Output : Yes \n",
    "\n",
    "Pop the first element of the given Queue \n",
    "\n",
    "i.e 5. Push 5 into the stack. \n",
    "\n",
    "Now, pop all the elements of the given Queue and push them to second Queue. \n",
    "\n",
    "Now, pop element 5 in the stack and push it to the second Queue.   \n",
    "\n",
    "Input : Queue[] = { 5, 1, 2, 6, 3, 4 } \n",
    "\n",
    "Output : No \n",
    "\n",
    "Push 5 to stack. \n",
    "\n",
    "Pop 1, 2 from given Queue and push it to another Queue. \n",
    "\n",
    "Pop 6 from given Queue and push to stack. \n",
    "\n",
    "Pop 3, 4 from given Queue and push to second Queue. \n",
    "\n",
    "Now, from using any of above operation, we cannot push 5 into the second Queue because it is below the 6 in the stack.\n"
   ]
  },
  {
   "cell_type": "code",
   "execution_count": 14,
   "id": "d4c828dd-0625-40f9-a8b2-0ef7d6c8da10",
   "metadata": {},
   "outputs": [],
   "source": [
    "def canArrangeInIncreasingOrder(queue):\n",
    "    stack = []\n",
    "    newQueue = []\n",
    "\n",
    "    # Push the first element of the queue into the stack\n",
    "    stack.append(queue.pop(0))\n",
    "\n",
    "    while queue:\n",
    "        # Pop the front element of the queue\n",
    "        front = queue.pop(0)\n",
    "\n",
    "        # If the front element is smaller than the top of the stack,\n",
    "        # push it into the stack\n",
    "        if front <= stack[-1]:\n",
    "            stack.append(front)\n",
    "        else:\n",
    "            # Pop elements from the stack and push them into the new queue\n",
    "            # until the front element can be pushed into the new queue\n",
    "            while stack and front > stack[-1]:\n",
    "                newQueue.append(stack.pop())\n",
    "\n",
    "            # Push the front element into the new queue\n",
    "            newQueue.append(front)\n",
    "\n",
    "    # Push the remaining elements from the stack into the new queue\n",
    "    while stack:\n",
    "        newQueue.append(stack.pop())\n",
    "\n",
    "    # Check if the new queue is in increasing order\n",
    "    for i in range(len(newQueue) - 1):\n",
    "        if newQueue[i] > newQueue[i + 1]:\n",
    "            return \"No\"\n",
    "\n",
    "    return \"Yes\"\n",
    "\n"
   ]
  },
  {
   "cell_type": "code",
   "execution_count": 15,
   "id": "86f63258-58d5-4f24-bfc2-7f978a435d05",
   "metadata": {},
   "outputs": [
    {
     "name": "stdout",
     "output_type": "stream",
     "text": [
      "Yes\n"
     ]
    }
   ],
   "source": [
    "queue = [5, 1, 2, 3, 4]\n",
    "result = canArrangeInIncreasingOrder(queue)\n",
    "print(result)"
   ]
  },
  {
   "cell_type": "markdown",
   "id": "93d6b7d6-64d0-4874-9d8e-e40125df370f",
   "metadata": {},
   "source": [
    "<aside>\n",
    "💡 **Question 5**\n",
    "\n",
    "Given a number , write a program to reverse this number using stack.\n",
    "\n",
    "**Examples:**\n",
    "\n",
    "```\n",
    "Input : 365\n",
    "Output : 563\n",
    "\n",
    "Input : 6899\n",
    "Output : 9986\n",
    "```\n"
   ]
  },
  {
   "cell_type": "code",
   "execution_count": 2,
   "id": "9e4d52ad-204b-4ab7-aaab-3d459ccc6ec6",
   "metadata": {},
   "outputs": [],
   "source": [
    "def reverseNumber(num):\n",
    "    # Convert the number to a string\n",
    "    num_str = str(num)\n",
    "    \n",
    "    # Create an empty stack\n",
    "    stack = []\n",
    "    \n",
    "    # Push each character onto the stack\n",
    "    for char in num_str:\n",
    "        stack.append(char)\n",
    "    \n",
    "    # Pop each character from the stack and append it to a new string\n",
    "    reversed_str = ''\n",
    "    while stack:\n",
    "        reversed_str += stack.pop()\n",
    "    \n",
    "    # Convert the new string back to an integer\n",
    "    reversed_num = int(reversed_str)\n",
    "    \n",
    "    return reversed_num\n"
   ]
  },
  {
   "cell_type": "code",
   "execution_count": 4,
   "id": "3b886694-2787-423f-abf0-db6aa48353b3",
   "metadata": {},
   "outputs": [
    {
     "data": {
      "text/plain": [
       "563"
      ]
     },
     "execution_count": 4,
     "metadata": {},
     "output_type": "execute_result"
    }
   ],
   "source": [
    "num = 365\n",
    "reverseNumber(num)"
   ]
  },
  {
   "cell_type": "code",
   "execution_count": 5,
   "id": "5c12d7df-444d-47db-b60f-71fdd1fd2c36",
   "metadata": {},
   "outputs": [
    {
     "data": {
      "text/plain": [
       "9986"
      ]
     },
     "execution_count": 5,
     "metadata": {},
     "output_type": "execute_result"
    }
   ],
   "source": [
    "num = 6899\n",
    "reverseNumber(num)"
   ]
  },
  {
   "cell_type": "markdown",
   "id": "c1f51563-5a67-4b48-abd1-3fd0e2866745",
   "metadata": {},
   "source": [
    "<aside>\n",
    "💡 **Question 6**\n",
    "\n",
    "Given an integer k and a **[queue](https://www.geeksforgeeks.org/queue-data-structure/)** of integers, The task is to reverse the order of the first **k** elements of the queue, leaving the other elements in the same relative order.\n",
    "\n",
    "Only following standard operations are allowed on queue.\n",
    "\n",
    "- **enqueue(x) :** Add an item x to rear of queue\n",
    "- **dequeue() :** Remove an item from front of queue\n",
    "- **size() :** Returns number of elements in queue.\n",
    "- **front() :** Finds front item.\n",
    "</aside>"
   ]
  },
  {
   "cell_type": "code",
   "execution_count": 2,
   "id": "aa15a630-fb70-4649-9508-14bf23a8d78e",
   "metadata": {},
   "outputs": [],
   "source": [
    "from queue import Queue\n",
    "\n",
    "def reverseFirstK(queue, k):\n",
    "    if k < 0 or k > queue.qsize():\n",
    "        return \"Invalid value of k\"\n",
    "    \n",
    "    stack = []\n",
    "    \n",
    "    # Dequeue the first k elements and push them onto a stack\n",
    "    for i in range(k):\n",
    "        stack.append(queue.get())\n",
    "        # print(stack)\n",
    "    \n",
    "    # Enqueue the elements from the stack back into the queue\n",
    "    \n",
    "    while stack:\n",
    "        queue.put(stack.pop())\n",
    "       \n",
    "    \n",
    "    # Move the remaining elements after the first k elements to the end of the queue\n",
    "    for i in range(queue.qsize() - k):\n",
    "        queue.put(queue.get())\n",
    "    \n",
    "    return queue"
   ]
  },
  {
   "cell_type": "code",
   "execution_count": 4,
   "id": "ff434434-6efa-4e32-ae39-d2ffa68e2e7e",
   "metadata": {},
   "outputs": [
    {
     "name": "stdout",
     "output_type": "stream",
     "text": [
      "3\n",
      "2\n",
      "1\n",
      "4\n",
      "5\n"
     ]
    }
   ],
   "source": [
    "# Example usage\n",
    "queue = Queue()\n",
    "queue.put(1)\n",
    "queue.put(2)\n",
    "queue.put(3)\n",
    "queue.put(4)\n",
    "queue.put(5)\n",
    "\n",
    "k = 3\n",
    "reversed_queue = reverseFirstK(queue, k)\n",
    "\n",
    "# Print the elements of the reversed queue\n",
    "while not reversed_queue.empty():\n",
    "    print(reversed_queue.get())\n",
    "\n",
    "# Output: 3, 2, 1, 4, 5\n"
   ]
  },
  {
   "cell_type": "markdown",
   "id": "372c00e1-9ca2-4d9c-b037-e3b2c57f8bcb",
   "metadata": {},
   "source": [
    "<aside>\n",
    "💡 **Question 7**\n",
    "\n",
    "Given a sequence of n strings, the task is to check if any two similar words come together and then destroy each other then print the number of words left in the sequence after this pairwise destruction.\n",
    "\n",
    "**Examples:**\n",
    "\n",
    "Input : ab aa aa bcd ab\n",
    "\n",
    "Output : 3\n",
    "\n",
    "*As aa, aa destroys each other so,*\n",
    "\n",
    "*ab bcd ab is the new sequence.*\n",
    "\n",
    "Input :  tom jerry jerry tom\n",
    "\n",
    "Output : 0\n",
    "\n",
    "*As first both jerry will destroy each other.*\n",
    "\n",
    "*Then sequence will be tom, tom they will also destroy*\n",
    "\n",
    "*each other. So, the final sequence doesn’t contain any*\n",
    "\n",
    "*word.*\n"
   ]
  },
  {
   "cell_type": "code",
   "execution_count": 12,
   "id": "40d72a30-d387-48fd-8708-3580d9a45562",
   "metadata": {},
   "outputs": [],
   "source": [
    "def count_remaining_words(sequence):\n",
    "    stack = []\n",
    "\n",
    "    for word in sequence:\n",
    "        if stack and stack[-1] == word:\n",
    "            stack.pop()\n",
    "            \n",
    "        else:\n",
    "            \n",
    "            stack.append(word)\n",
    "            \n",
    "\n",
    "    return len(stack)"
   ]
  },
  {
   "cell_type": "code",
   "execution_count": 13,
   "id": "babeb4ac-bc09-405c-974d-5c296a121eb9",
   "metadata": {},
   "outputs": [
    {
     "data": {
      "text/plain": [
       "3"
      ]
     },
     "execution_count": 13,
     "metadata": {},
     "output_type": "execute_result"
    }
   ],
   "source": [
    "sequence1 = ['ab', 'aa', 'aa', 'bcd', 'ab']\n",
    "count_remaining_words(sequence1)"
   ]
  },
  {
   "cell_type": "markdown",
   "id": "a0297d22-c70f-4fa6-9972-df2aeae17796",
   "metadata": {},
   "source": [
    "<aside>\n",
    "💡 **Question 8**\n",
    "\n",
    "Given an array of integers, the task is to find the maximum absolute difference between the nearest left and the right smaller element of every element in the array.\n",
    "\n",
    "**Note:** If there is no smaller element on right side or left side of any element then we take zero as the smaller element. For example for the leftmost element, the nearest smaller element on the left side is considered as 0. Similarly, for rightmost elements, the smaller element on the right side is considered as 0.\n",
    "\n",
    "**Examples:**\n",
    "\n",
    "```\n",
    "Input : arr[] = {2, 1, 8}\n",
    "Output : 1\n",
    "Left smaller  LS[] {0, 0, 1}\n",
    "Right smaller RS[] {1, 0, 0}\n",
    "Maximum Diff of abs(LS[i] - RS[i]) = 1\n",
    "\n",
    "Input  : arr[] = {2, 4, 8, 7, 7, 9, 3}\n",
    "Output : 4\n",
    "Left smaller   LS[] = {0, 2, 4, 4, 4, 7, 2}\n",
    "Right smaller  RS[] = {0, 3, 7, 3, 3, 3, 0}\n",
    "Maximum Diff of abs(LS[i] - RS[i]) = 7 - 3 = 4\n",
    "\n",
    "Input : arr[] = {5, 1, 9, 2, 5, 1, 7}\n",
    "Output : 1\n",
    "```\n",
    "\n",
    "</aside>"
   ]
  },
  {
   "cell_type": "code",
   "execution_count": 18,
   "id": "83432927-24c8-4880-a94e-28dacb7e94ae",
   "metadata": {},
   "outputs": [],
   "source": [
    "def maxAbsDiff(arr):\n",
    "    n = len(arr)\n",
    "    left_smaller = [0] * n\n",
    "    right_smaller = [0] * n\n",
    "\n",
    "    # Find the nearest smaller element on the left\n",
    "    stack = []\n",
    "    for i in range(n):\n",
    "        while stack and stack[-1] >= arr[i]:\n",
    "            stack.pop()\n",
    "\n",
    "        if stack:\n",
    "            left_smaller[i] = stack[-1]\n",
    "\n",
    "        stack.append(arr[i])\n",
    "\n",
    "    # Clear the stack for finding the nearest smaller element on the right\n",
    "    stack.clear()\n",
    "\n",
    "    # Find the nearest smaller element on the right\n",
    "    for i in range(n - 1, -1, -1):\n",
    "        while stack and stack[-1] >= arr[i]:\n",
    "            stack.pop()\n",
    "\n",
    "        if stack:\n",
    "            right_smaller[i] = stack[-1]\n",
    "\n",
    "        stack.append(arr[i])\n",
    "\n",
    "    # Calculate the maximum absolute difference\n",
    "    max_diff = 0\n",
    "    for i in range(n):\n",
    "        max_diff = max(max_diff, abs(left_smaller[i] - right_smaller[i]))\n",
    "\n",
    "    return max_diff\n"
   ]
  },
  {
   "cell_type": "code",
   "execution_count": 19,
   "id": "77796b4e-9e1d-4950-926e-3a8e7012f578",
   "metadata": {},
   "outputs": [
    {
     "name": "stdout",
     "output_type": "stream",
     "text": [
      "1\n"
     ]
    }
   ],
   "source": [
    "arr1 = [2, 1, 8]\n",
    "result1 = maxAbsDiff(arr1)\n",
    "print(result1)"
   ]
  },
  {
   "cell_type": "code",
   "execution_count": 20,
   "id": "86050f02-2b06-4f9f-8544-8b170859de39",
   "metadata": {},
   "outputs": [
    {
     "name": "stdout",
     "output_type": "stream",
     "text": [
      "4\n"
     ]
    }
   ],
   "source": [
    "arr2 = [2, 4, 8, 7, 7, 9, 3]\n",
    "result2 = maxAbsDiff(arr2)\n",
    "print(result2)"
   ]
  },
  {
   "cell_type": "code",
   "execution_count": 21,
   "id": "c7b519a1-2671-4e4d-9b53-ca7dc8e2056e",
   "metadata": {},
   "outputs": [
    {
     "name": "stdout",
     "output_type": "stream",
     "text": [
      "1\n"
     ]
    }
   ],
   "source": [
    "arr3 = [5, 1, 9, 2, 5, 1, 7]\n",
    "result3 = maxAbsDiff(arr3)\n",
    "print(result3)"
   ]
  },
  {
   "cell_type": "code",
   "execution_count": null,
   "id": "02afc0ee-dbae-4b19-b1b4-22cef73d95ea",
   "metadata": {},
   "outputs": [],
   "source": []
  }
 ],
 "metadata": {
  "kernelspec": {
   "display_name": "Python 3 (ipykernel)",
   "language": "python",
   "name": "python3"
  },
  "language_info": {
   "codemirror_mode": {
    "name": "ipython",
    "version": 3
   },
   "file_extension": ".py",
   "mimetype": "text/x-python",
   "name": "python",
   "nbconvert_exporter": "python",
   "pygments_lexer": "ipython3",
   "version": "3.10.6"
  }
 },
 "nbformat": 4,
 "nbformat_minor": 5
}
