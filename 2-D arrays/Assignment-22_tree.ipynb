{
 "cells": [
  {
   "cell_type": "markdown",
   "id": "952ba3ea-c598-4409-89b1-c042a62f9af3",
   "metadata": {},
   "source": [
    "<aside>\n",
    "💡 Question-1:\n",
    "\n",
    "Given a Binary Tree (Bt), convert it to a Doubly Linked List(DLL). The left and right pointers in nodes are to be used as previous and next pointers respectively in converted DLL. The order of nodes in DLL must be the same as in Inorder for the given Binary Tree. The first node of Inorder traversal (leftmost node in BT) must be the head node of the DLL.\n",
    "\n",
    "Example:\n",
    "\n",
    "</aside>"
   ]
  },
  {
   "cell_type": "markdown",
   "id": "a370089d-b2f3-4400-8ec0-7ac5f6354c19",
   "metadata": {},
   "source": [
    "https://pwskills.notion.site/image/https%3A%2F%2Fs3-us-west-2.amazonaws.com%2Fsecure.notion-static.com%2Ff9dda6ae-60b9-427b-990f-dc5b3117a5e3%2FUntitled.png?id=f5542efd-4d64-4904-9259-23aeb80f012b&table=block&spaceId=6fae2e0f-dedc-48e9-bc59-af2654c78209&width=860&userId=&cache=v2"
   ]
  },
  {
   "cell_type": "code",
   "execution_count": 1,
   "id": "bfe1cd78-9089-4ef4-98f6-4c9b261fb9db",
   "metadata": {},
   "outputs": [
    {
     "name": "stdout",
     "output_type": "stream",
     "text": [
      "1 2 3 4 5 "
     ]
    }
   ],
   "source": [
    "class Node:\n",
    "    def __init__(self, data):\n",
    "        self.data = data\n",
    "        self.left = None\n",
    "        self.right = None\n",
    "\n",
    "def binary_tree_to_dll(root):\n",
    "    def inorder_traversal(node):\n",
    "        nonlocal prev, head\n",
    "        \n",
    "        if node is None:\n",
    "            return\n",
    "        \n",
    "        inorder_traversal(node.left)\n",
    "        \n",
    "        if prev is None:\n",
    "            head = node\n",
    "        else:\n",
    "            prev.right = node\n",
    "            node.left = prev\n",
    "        \n",
    "        prev = node\n",
    "        \n",
    "        inorder_traversal(node.right)\n",
    "    \n",
    "    head = None\n",
    "    prev = None\n",
    "    inorder_traversal(root)\n",
    "    \n",
    "    return head\n",
    "\n",
    "# Create a sample binary tree\n",
    "root = Node(4)\n",
    "root.left = Node(2)\n",
    "root.right = Node(5)\n",
    "root.left.left = Node(1)\n",
    "root.left.right = Node(3)\n",
    "\n",
    "# Convert the binary tree to DLL\n",
    "head = binary_tree_to_dll(root)\n",
    "\n",
    "# Print the doubly linked list\n",
    "while head is not None:\n",
    "    print(head.data, end=\" \")\n",
    "    head = head.right\n"
   ]
  },
  {
   "cell_type": "markdown",
   "id": "d0e61476-b116-41d5-ad20-65f13012114f",
   "metadata": {},
   "source": [
    "<aside>\n",
    "💡 Question-2\n",
    "\n",
    "A Given a binary tree, the task is to flip the binary tree towards the right direction that is clockwise. See the below examples to see the transformation.\n",
    "\n",
    "In the flip operation, the leftmost node becomes the root of the flipped tree and its parent becomes its right child and the right sibling becomes its left child and the same should be done for all left most nodes recursively.\n",
    "\n",
    "Example1:\n",
    "\n",
    "![Untitled](https://s3-us-west-2.amazonaws.com/secure.notion-static.com/a5f5bbbe-8607-4f17-9ab4-b31327ffa2d0/Untitled.png)\n",
    "\n",
    "Example2:\n",
    "\n",
    "![Untitled](https://s3-us-west-2.amazonaws.com/secure.notion-static.com/063636b4-9f35-4524-b6d9-c97e30cac510/Untitled.png)\n",
    "\n",
    "</aside>\n"
   ]
  },
  {
   "cell_type": "code",
   "execution_count": 2,
   "id": "7700687a-8be0-494a-9daa-cc26b14d9f74",
   "metadata": {},
   "outputs": [
    {
     "name": "stdout",
     "output_type": "stream",
     "text": [
      "1 3 5 4 2 "
     ]
    }
   ],
   "source": [
    "class Node:\n",
    "    def __init__(self, data):\n",
    "        self.data = data\n",
    "        self.left = None\n",
    "        self.right = None\n",
    "\n",
    "def flip_binary_tree(root):\n",
    "    if root is None or (root.left is None and root.right is None):\n",
    "        return root\n",
    "\n",
    "    flipped_left = flip_binary_tree(root.left)\n",
    "    flipped_right = flip_binary_tree(root.right)\n",
    "\n",
    "    root.left = flipped_right\n",
    "    root.right = flipped_left\n",
    "\n",
    "    return root\n",
    "\n",
    "# Create a sample binary tree\n",
    "root = Node(1)\n",
    "root.left = Node(2)\n",
    "root.right = Node(3)\n",
    "root.right.left = Node(4)\n",
    "root.right.right = Node(5)\n",
    "\n",
    "# Flip the binary tree\n",
    "flipped_root = flip_binary_tree(root)\n",
    "\n",
    "# Function to print the binary tree (preorder traversal)\n",
    "def print_binary_tree(node):\n",
    "    if node is None:\n",
    "        return\n",
    "    print(node.data, end=\" \")\n",
    "    print_binary_tree(node.left)\n",
    "    print_binary_tree(node.right)\n",
    "\n",
    "# Print the flipped binary tree\n",
    "print_binary_tree(flipped_root)\n"
   ]
  },
  {
   "cell_type": "code",
   "execution_count": 3,
   "id": "cf03faa6-c49b-4d0e-8acd-b4cfdf233245",
   "metadata": {},
   "outputs": [
    {
     "name": "stdout",
     "output_type": "stream",
     "text": [
      "1 3 7 6 2 5 4 "
     ]
    }
   ],
   "source": [
    "root = Node(1)\n",
    "root.left = Node(2)\n",
    "root.right = Node(3)\n",
    "root.left.left = Node(4)\n",
    "root.left.right = Node(5)\n",
    "root.right.left = Node(6)\n",
    "root.right.right = Node(7)\n",
    "\n",
    "# Flip the binary tree\n",
    "flipped_root = flip_binary_tree(root)\n",
    "\n",
    "# Function to print the binary tree (preorder traversal)\n",
    "def print_binary_tree(node):\n",
    "    if node is None:\n",
    "        return\n",
    "    print(node.data, end=\" \")\n",
    "    print_binary_tree(node.left)\n",
    "    print_binary_tree(node.right)\n",
    "\n",
    "# Print the flipped binary tree\n",
    "print_binary_tree(flipped_root)\n"
   ]
  },
  {
   "cell_type": "markdown",
   "id": "94767a33-d21d-4bcd-b73d-956164a46d76",
   "metadata": {},
   "source": [
    "<aside>\n",
    "💡 Question-3:\n",
    "\n",
    "Given a binary tree, print all its root-to-leaf paths without using recursion. For example, consider the following Binary Tree.\n",
    "\n",
    "Input:\n",
    "\n",
    "        6\n",
    "     /    \\\n",
    "    3      5\n",
    "  /   \\     \\\n",
    " 2     5     4\n",
    "     /   \\\n",
    "    7     4\n",
    "\n",
    "Output:\n",
    "\n",
    "There are 4 leaves, hence 4 root to leaf paths -\n",
    "  6->3->2\n",
    "  6->3->5->7\n",
    "  6->3->5->4\n",
    "  6->5>4\n",
    "\n",
    "</aside>"
   ]
  },
  {
   "cell_type": "code",
   "execution_count": 6,
   "id": "be1ac5f7-3ba3-4e0a-bfaa-d9b23f0faadd",
   "metadata": {},
   "outputs": [
    {
     "name": "stdout",
     "output_type": "stream",
     "text": [
      "6->3->2\n",
      "6->3->5->7\n",
      "6->3->5->4\n",
      "6->5->4\n"
     ]
    }
   ],
   "source": [
    "class Node:\n",
    "    def __init__(self, data):\n",
    "        self.data = data\n",
    "        self.left = None\n",
    "        self.right = None\n",
    "\n",
    "def print_root_to_leaf_paths(root):\n",
    "    if root is None:\n",
    "        return\n",
    "\n",
    "    stack = [(root, str(root.data))]\n",
    "\n",
    "    while stack:\n",
    "        node, path = stack.pop()\n",
    "\n",
    "        if node.left is None and node.right is None:\n",
    "            print(path)\n",
    "        \n",
    "        if node.right:\n",
    "            stack.append((node.right, path + \"->\" + str(node.right.data)))\n",
    "        if node.left:\n",
    "            stack.append((node.left, path + \"->\" + str(node.left.data)))\n",
    "\n",
    "# Create the binary tree\n",
    "root = Node(6)\n",
    "root.left = Node(3)\n",
    "root.right = Node(5)\n",
    "root.left.left = Node(2)\n",
    "root.left.right = Node(5)\n",
    "root.right.right = Node(4)\n",
    "root.left.right.left = Node(7)\n",
    "root.left.right.right = Node(4)\n",
    "\n",
    "# Print the root-to-leaf paths\n",
    "print_root_to_leaf_paths(root)\n"
   ]
  },
  {
   "cell_type": "markdown",
   "id": "324f9e7b-f02b-4814-b3ce-2a4c24515e0b",
   "metadata": {},
   "source": [
    "<aside>\n",
    "💡 Question-4:\n",
    "\n",
    "Given Preorder, Inorder and Postorder traversals of some tree. Write a program to check if they all are of the same tree.\n",
    "\n",
    "**Examples:**\n",
    "\n",
    "Input : \n",
    "\n",
    "        Inorder -> 4 2 5 1 3\n",
    "        Preorder -> 1 2 4 5 3\n",
    "        Postorder -> 4 5 2 3 1\n",
    "Output : \n",
    "\n",
    "Yes\n",
    "Explanation : \n",
    "\n",
    "All of the above three traversals are of\n",
    "the same tree \n",
    "\n",
    "                           1\n",
    "                         /   \\\n",
    "                        2     3\n",
    "                      /   \\\n",
    "                     4     5\n",
    "\n",
    "Input : \n",
    "\n",
    "        Inorder -> 4 2 5 1 3\n",
    "        Preorder -> 1 5 4 2 3\n",
    "        Postorder -> 4 1 2 3 5\n",
    "Output : \n",
    "\n",
    "No\n",
    "\n",
    "</aside>"
   ]
  },
  {
   "cell_type": "code",
   "execution_count": 11,
   "id": "ae716787-ecd2-43c6-97ea-6351a3167565",
   "metadata": {},
   "outputs": [],
   "source": [
    "def check_same_tree(inorder, preorder, postorder):\n",
    "    if len(inorder) == len(preorder) == len(postorder):\n",
    "        # Base case: If the lengths are zero, it indicates an empty tree\n",
    "        if len(inorder) == 0:\n",
    "            return True\n",
    "\n",
    "        # Check if the first element in the preorder matches the last element in the postorder\n",
    "        if preorder[0] != postorder[-1]:\n",
    "            return False\n",
    "\n",
    "        # Find the root element in the inorder traversal\n",
    "        root_index = inorder.index(preorder[0])\n",
    "\n",
    "        # Recursively check the left and right subtrees\n",
    "        left_inorder = inorder[:root_index]\n",
    "        right_inorder = inorder[root_index+1:]\n",
    "        left_preorder = preorder[1:root_index+1]\n",
    "        right_preorder = preorder[root_index+1:]\n",
    "        left_postorder = postorder[:root_index]\n",
    "        right_postorder = postorder[root_index:-1]\n",
    "\n",
    "        return (check_same_tree(left_inorder, left_preorder, left_postorder) and\n",
    "                check_same_tree(right_inorder, right_preorder, right_postorder))\n",
    "\n",
    "    return False"
   ]
  },
  {
   "cell_type": "code",
   "execution_count": 9,
   "id": "4a528262-60f6-46f7-9b58-96c5381d0f4f",
   "metadata": {},
   "outputs": [
    {
     "name": "stdout",
     "output_type": "stream",
     "text": [
      "False\n"
     ]
    }
   ],
   "source": [
    "# Example 2\n",
    "inorder2 = [4, 2, 5, 1, 3]\n",
    "preorder2 = [1, 5, 4, 2, 3]\n",
    "postorder2 = [4, 1, 2, 3, 5]\n",
    "print(check_same_tree(inorder2, preorder2, postorder2))  # Output: False\n"
   ]
  },
  {
   "cell_type": "code",
   "execution_count": 10,
   "id": "06f8a1fd-b1b7-4b8e-8168-01f5fc35d549",
   "metadata": {},
   "outputs": [
    {
     "name": "stdout",
     "output_type": "stream",
     "text": [
      "True\n"
     ]
    }
   ],
   "source": [
    "# Example 1\n",
    "inorder1 = [4, 2, 5, 1, 3]\n",
    "preorder1 = [1, 2, 4, 5, 3]\n",
    "postorder1 = [4, 5, 2, 3, 1]\n",
    "print(check_same_tree(inorder1, preorder1, postorder1))  # Output: True\n"
   ]
  },
  {
   "cell_type": "code",
   "execution_count": null,
   "id": "e343c049-2d8e-4574-aa48-220a1e8dad9b",
   "metadata": {},
   "outputs": [],
   "source": []
  }
 ],
 "metadata": {
  "kernelspec": {
   "display_name": "Python 3 (ipykernel)",
   "language": "python",
   "name": "python3"
  },
  "language_info": {
   "codemirror_mode": {
    "name": "ipython",
    "version": 3
   },
   "file_extension": ".py",
   "mimetype": "text/x-python",
   "name": "python",
   "nbconvert_exporter": "python",
   "pygments_lexer": "ipython3",
   "version": "3.10.6"
  }
 },
 "nbformat": 4,
 "nbformat_minor": 5
}
