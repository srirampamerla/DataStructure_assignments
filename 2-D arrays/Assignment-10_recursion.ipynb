{
 "cells": [
  {
   "cell_type": "markdown",
   "id": "3ada4ba6-35cc-4ff9-8097-25bc7bd135f7",
   "metadata": {},
   "source": [
    "Given an integer `n`, return *`true` if it is a power of three. Otherwise, return `false`*.\n",
    "\n",
    "An integer `n` is a power of three, if there exists an integer `x` such that `n == 3x`.\n",
    "\n",
    "**Example 1:**\n",
    "\n",
    "```\n",
    "Input: n = 27\n",
    "Output: true\n",
    "Explanation: 27 = 33\n",
    "```\n",
    "\n",
    "**Example 2:**\n",
    "\n",
    "```\n",
    "Input: n = 0\n",
    "Output: false\n",
    "Explanation: There is no x where 3x = 0.\n",
    "\n",
    "```\n",
    "\n",
    "**Example 3:**"
   ]
  },
  {
   "cell_type": "code",
   "execution_count": 14,
   "id": "008d6ad7-7fd5-4b23-8c04-8c2d3e8db071",
   "metadata": {},
   "outputs": [],
   "source": [
    "def Power_Three(n):\n",
    "    if n <= 0:\n",
    "        return False\n",
    "\n",
    "    while n % 3 == 0:\n",
    "        n //= 3\n",
    "\n",
    "    return n ==  1\n"
   ]
  },
  {
   "cell_type": "code",
   "execution_count": 15,
   "id": "2687a717-0cad-4109-8f9a-7963405b2139",
   "metadata": {},
   "outputs": [
    {
     "data": {
      "text/plain": [
       "True"
      ]
     },
     "execution_count": 15,
     "metadata": {},
     "output_type": "execute_result"
    }
   ],
   "source": [
    "n = 27\n",
    "Power_Three(n)"
   ]
  },
  {
   "cell_type": "code",
   "execution_count": 16,
   "id": "9059ce29-39af-425d-9e98-9d5cbcd36a22",
   "metadata": {},
   "outputs": [],
   "source": [
    "def power_three(n):\n",
    "    if n == 1:\n",
    "        return True\n",
    "    elif n <= 0 or n % 3 != 0:\n",
    "        return False\n",
    "    else:\n",
    "        return power_three(n // 3)\n"
   ]
  },
  {
   "cell_type": "code",
   "execution_count": 17,
   "id": "78b6a77d-108d-4971-9134-ada8d2055653",
   "metadata": {},
   "outputs": [
    {
     "data": {
      "text/plain": [
       "False"
      ]
     },
     "execution_count": 17,
     "metadata": {},
     "output_type": "execute_result"
    }
   ],
   "source": [
    "n = 0\n",
    "power_three(n)"
   ]
  },
  {
   "cell_type": "markdown",
   "id": "5297dd33-0f77-4976-b4e7-de4d4c1083c6",
   "metadata": {},
   "source": [
    "<aside>\n",
    "💡 **Question 2**\n",
    "\n",
    "You have a list `arr` of all integers in the range `[1, n]` sorted in a strictly increasing order. Apply the following algorithm on `arr`:\n",
    "\n",
    "- Starting from left to right, remove the first number and every other number afterward until you reach the end of the list.\n",
    "- Repeat the previous step again, but this time from right to left, remove the rightmost number and every other number from the remaining numbers.\n",
    "- Keep repeating the steps again, alternating left to right and right to left, until a single number remains.\n",
    "\n",
    "Given the integer `n`, return *the last number that remains in* `arr`.\n",
    "\n",
    "**Example 1:**\n",
    "\n",
    "```\n",
    "Input: n = 9\n",
    "Output: 6\n",
    "Explanation:\n",
    "arr = [1, 2,3, 4,5, 6,7, 8,9]\n",
    "arr = [2,4, 6,8]\n",
    "arr = [2, 6]\n",
    "arr = [6]\n",
    "\n",
    "```\n",
    "\n",
    "**Example 2:**\n",
    "Input: n = 1\n",
    "Output: 1\n",
    "</aside>"
   ]
  },
  {
   "cell_type": "code",
   "execution_count": 1,
   "id": "75ff86c8-dcc8-4427-91db-4b1a4a7239bd",
   "metadata": {},
   "outputs": [
    {
     "data": {
      "text/plain": [
       "6"
      ]
     },
     "execution_count": 1,
     "metadata": {},
     "output_type": "execute_result"
    }
   ],
   "source": [
    "def last_remaining(n):\n",
    "    # Base case\n",
    "    if n == 1:\n",
    "        return 1\n",
    "    \n",
    "    else:\n",
    "        return 2 * (n // 2 - last_remaining(n // 2)+1)\n",
    "\n",
    "last_remaining(9)"
   ]
  },
  {
   "cell_type": "markdown",
   "id": "22fad967-1947-411c-bc54-b027ed74526f",
   "metadata": {},
   "source": [
    "Given a set represented as a string, write a recursive code to print all subsets of it. The subsets can be printed in any order.\n",
    "\n",
    "**Example 1:**\n",
    "\n",
    "Input :  set = “abc”\n",
    "\n",
    "Output : { “”, “a”, “b”, “c”, “ab”, “ac”, “bc”, “abc”}\n",
    "\n",
    "**Example 2:**\n",
    "\n",
    "Input : set = “abcd”\n",
    "\n",
    "Output : { “”, “a” ,”ab” ,”abc” ,”abcd”, “abd” ,”ac” ,”acd”, “ad” ,”b”, “bc” ,”bcd” ,”bd” ,”c” ,”cd” ,”d” }"
   ]
  },
  {
   "cell_type": "code",
   "execution_count": 6,
   "id": "fc53cb53-a51e-43ca-a977-87bc5d220c4d",
   "metadata": {},
   "outputs": [
    {
     "name": "stdout",
     "output_type": "stream",
     "text": [
      "['', 'a', 'ab', 'abc', 'ac', 'b', 'bc', 'c']\n"
     ]
    }
   ],
   "source": [
    "def generate_subsets(s):\n",
    "    subsets = []\n",
    "\n",
    "    # Recursive helper function\n",
    "    def subset_str(curr_subset, index):\n",
    "        subsets.append(curr_subset)\n",
    "\n",
    "        # Explore all possible choices\n",
    "        for i in range(index, len(s)):\n",
    "            # Include the current element in the subset\n",
    "            subset_str(curr_subset + s[i], i + 1)\n",
    "\n",
    "    # Start the backtracking process\n",
    "    subset_str(\"\", 0)\n",
    "\n",
    "    return subsets\n",
    "\n",
    "# Example usage:\n",
    "result = generate_subsets(\"abc\")\n",
    "print(result)\n"
   ]
  },
  {
   "cell_type": "markdown",
   "id": "bf776422-d556-45d8-82a5-74073195a306",
   "metadata": {},
   "source": [
    "<aside>\n",
    "💡 **Question 4**\n",
    "\n",
    "Given a string calculate length of the string using recursion.\n",
    "\n",
    "**Examples:**\n",
    "Input : str = \"abcd\"\n",
    "Output :4\n",
    "\n",
    "Input : str = \"GEEKSFORGEEKS\"\n",
    "Output :13\n",
    "\n",
    "</aside>"
   ]
  },
  {
   "cell_type": "code",
   "execution_count": 7,
   "id": "251a3d74-ab1a-42c0-90f3-f634f6dda7b8",
   "metadata": {},
   "outputs": [
    {
     "data": {
      "text/plain": [
       "4"
      ]
     },
     "execution_count": 7,
     "metadata": {},
     "output_type": "execute_result"
    }
   ],
   "source": [
    "def Str_len(str):\n",
    "    return len(str)\n",
    "str = \"abcd\"\n",
    "Str_len(str)"
   ]
  },
  {
   "cell_type": "code",
   "execution_count": 8,
   "id": "6065480e-fab4-4b7e-9855-eafed92aad30",
   "metadata": {},
   "outputs": [
    {
     "data": {
      "text/plain": [
       "13"
      ]
     },
     "execution_count": 8,
     "metadata": {},
     "output_type": "execute_result"
    }
   ],
   "source": [
    "str = \"GEEKSFORGEEKS\"\n",
    "Str_len(str)"
   ]
  },
  {
   "cell_type": "markdown",
   "id": "dcf55475-9ac1-4d7a-aedb-2fba1288dd31",
   "metadata": {},
   "source": [
    "<aside>\n",
    "💡 **Question 5**\n",
    "\n",
    "We are given a string S, we need to find count of all contiguous substrings starting and ending with same character.\n",
    "\n",
    "**Examples :**\n",
    "Input  : S = \"abcab\"\n",
    "Output : 7\n",
    "There are 15 substrings of \"abcab\"\n",
    "a, ab, abc, abca, abcab, b, bc, bca\n",
    "bcab, c, ca, cab, a, ab, b\n",
    "Out of the above substrings, there\n",
    "are 7 substrings : a, abca, b, bcab,\n",
    "c, a and b.\n",
    "\n",
    "Input  : S = \"aba\"\n",
    "Output : 4\n",
    "The substrings are a, b, a and aba\n",
    "\n",
    "</aside>"
   ]
  },
  {
   "cell_type": "code",
   "execution_count": 18,
   "id": "c738ca62-f12f-4e1f-911c-5797438b52cf",
   "metadata": {},
   "outputs": [
    {
     "data": {
      "text/plain": [
       "7"
      ]
     },
     "execution_count": 18,
     "metadata": {},
     "output_type": "execute_result"
    }
   ],
   "source": [
    "def count_substrings(s):\n",
    "    result = 0\n",
    "    n = len(s)\n",
    "\n",
    "    for i in range(n):\n",
    "        for j in range(i, n):\n",
    "            if s[i] == s[j]:\n",
    "                result += 1\n",
    "\n",
    "    return result\n",
    "count_substrings(\"abcab\")"
   ]
  },
  {
   "cell_type": "code",
   "execution_count": 19,
   "id": "b5794c5f-9ef3-45dd-8f91-8fe9aab03b81",
   "metadata": {},
   "outputs": [
    {
     "data": {
      "text/plain": [
       "4"
      ]
     },
     "execution_count": 19,
     "metadata": {},
     "output_type": "execute_result"
    }
   ],
   "source": [
    "count_substrings(\"aba\")"
   ]
  },
  {
   "cell_type": "markdown",
   "id": "f5333d25-3f34-4fd7-8c53-7bfabbea73a5",
   "metadata": {},
   "source": [
    "Question 6:The [tower of Hanoi](https://en.wikipedia.org/wiki/Tower_of_Hanoi) is a famous puzzle where we have three rods and **N** disks. The objective of the puzzle is to move the entire stack to another rod. You are given the number of discs **N**. Initially, these discs are in the rod 1. You need to print all the steps of discs movement so that all the discs reach the 3rd rod. Also, you need to find the total moves.**Note:** The discs are arranged such that the **top disc is numbered 1** and the **bottom-most disc is numbered N**. Also, all the discs have **different sizes** and a bigger disc **cannot** be put on the top of a smaller disc. Refer the provided link to get a better clarity about the puzzle.\n",
    "\n",
    "**Example 1:**\n",
    "Input:\n",
    "N = 2\n",
    "Output:\n",
    "move disk 1 from rod 1 to rod 2\n",
    "move disk 2 from rod 1 to rod 3\n",
    "move disk 1 from rod 2 to rod 3\n",
    "3\n",
    "Explanation:For N=2 , steps will be\n",
    "as follows in the example and total\n",
    "3 steps will be taken.\n",
    "\n",
    "\n",
    "Example 2:\n",
    "Input:\n",
    "N = 3\n",
    "Output:\n",
    "move disk 1 from rod 1 to rod 3\n",
    "move disk 2 from rod 1 to rod 2\n",
    "move disk 1 from rod 3 to rod 2\n",
    "move disk 3 from rod 1 to rod 3\n",
    "move disk 1 from rod 2 to rod 1\n",
    "move disk 2 from rod 2 to rod 3\n",
    "move disk 1 from rod 1 to rod 3\n",
    "7\n",
    "Explanation:For N=3 , steps will be\n",
    "as follows in the example and total\n",
    "7 steps will be taken."
   ]
  },
  {
   "cell_type": "code",
   "execution_count": 77,
   "id": "d0f2cdbf-871c-47cd-ad0c-28e0e814a9c9",
   "metadata": {},
   "outputs": [
    {
     "name": "stdout",
     "output_type": "stream",
     "text": [
      "move disk 1 from rod S to rod D\n",
      "move disk 2 from rod S to rod A\n",
      "move disk 1 from rod D to rod A\n",
      "move disk 3 from rod S to rod D\n",
      "move disk 1 from rod A to rod S\n",
      "move disk 2 from rod A to rod D\n",
      "move disk 1 from rod S to rod D\n",
      "Total moves required: 7\n"
     ]
    }
   ],
   "source": [
    "def tower_of_hanoi(n, source, destination, auxiliary):\n",
    "    if n == 1:\n",
    "        \n",
    "        print(f\"move disk 1 from rod {source} to rod {destination}\")\n",
    "        return 1\n",
    "    \n",
    "    moves = tower_of_hanoi(n - 1, source,auxiliary,destination)\n",
    "    print(f\"move disk {n} from rod {source} to rod {destination}\")\n",
    "    moves += 1\n",
    "    moves += tower_of_hanoi(n - 1, auxiliary,destination,source)\n",
    "    \n",
    "    \n",
    "    return moves\n",
    "\n",
    "\n",
    "def print_tower_of_hanoi(n):\n",
    "    total_moves = tower_of_hanoi(n, 'S', 'D', 'A')\n",
    "    print(f\"Total moves required: {total_moves}\")\n",
    "\n",
    "\n",
    "# Example usage:\n",
    "N = 3\n",
    "print_tower_of_hanoi(N)\n"
   ]
  },
  {
   "cell_type": "code",
   "execution_count": 79,
   "id": "3d2d759d-7436-434e-bde2-d09c309b7c68",
   "metadata": {},
   "outputs": [
    {
     "name": "stdout",
     "output_type": "stream",
     "text": [
      "move disk 1 from rod S to rod A\n",
      "move disk 2 from rod S to rod D\n",
      "move disk 1 from rod A to rod D\n",
      "Total moves required: 3\n"
     ]
    }
   ],
   "source": [
    "N = 2\n",
    "print_tower_of_hanoi(N)\n"
   ]
  },
  {
   "cell_type": "markdown",
   "id": "4e026862-52b3-49d7-8a9e-41c0e83a05c9",
   "metadata": {},
   "source": [
    "<aside>\n",
    "💡 **Question 7**\n",
    "\n",
    "Given a string **str**, the task is to print all the permutations of **str**. A **permutation** is an arrangement of all or part of a set of objects, with regard to the order of the arrangement. For instance, the words ‘bat’ and ‘tab’ represents two distinct permutation (or arrangements) of a similar three letter word.\n",
    "\n",
    "**Examples:**\n",
    "\n",
    "> Input: str = “cd”\n",
    "> \n",
    "> \n",
    "> **Output:** cd dc\n",
    "> \n",
    "> **Input:** str = “abb”\n",
    "> \n",
    "> **Output:** abb abb bab bba bab bba\n",
    "> \n",
    "</aside>\n"
   ]
  },
  {
   "cell_type": "code",
   "execution_count": 93,
   "id": "7af851d3-b593-4a36-b464-d29c2be77564",
   "metadata": {},
   "outputs": [
    {
     "name": "stdout",
     "output_type": "stream",
     "text": [
      "['abc', 'acb', 'bac', 'bca', 'cab', 'cba']\n"
     ]
    }
   ],
   "source": [
    "def permute_string(string):\n",
    "    # Base case: If the string is empty or contains only one character, return the string itself\n",
    "    if len(string) <= 1:\n",
    "        return [string]\n",
    "\n",
    "    # List to store permutations\n",
    "    permutations = []\n",
    "\n",
    "    # Iterate over each character in the string\n",
    "    for i in range(len(string)):\n",
    "        # Choose the current character as the first character\n",
    "        first_char = string[i]\n",
    "\n",
    "        # Generate permutations of the remaining characters\n",
    "        \n",
    "        remaining_chars = string[:i] + string[i+1:]\n",
    "        \n",
    "        sub_permutations = permute_string(remaining_chars)\n",
    "\n",
    "        # Append the current character to each permutation of the remaining characters\n",
    "        for permutation in sub_permutations:\n",
    "            permutations.append(first_char + permutation)\n",
    "\n",
    "    return permutations\n",
    "\n",
    "# Test the function\n",
    "string = \"abc\"\n",
    "permutations = permute_string(string)\n",
    "print(permutations)"
   ]
  },
  {
   "cell_type": "markdown",
   "id": "93764562-9e4e-4521-8b6f-e7d733de2067",
   "metadata": {},
   "source": [
    "<aside>\n",
    "💡 **Question 8**\n",
    "\n",
    "Given a string, count total number of consonants in it. A consonant is an English alphabet character that is not vowel (a, e, i, o and u). Examples of constants are b, c, d, f, and g.\n",
    "\n",
    "**Examples :**\n",
    "Input : abc de\n",
    "Output : 3\n",
    "\n",
    "    \n",
    "    There are three consonants b, c and d.\n",
    "\n",
    "Input : geeksforgeeks portal\n",
    "Output : 12\n",
    "</aside>"
   ]
  },
  {
   "cell_type": "code",
   "execution_count": 84,
   "id": "6ab004e6-d802-41db-9291-c7589a5434b4",
   "metadata": {},
   "outputs": [
    {
     "data": {
      "text/plain": [
       "12"
      ]
     },
     "execution_count": 84,
     "metadata": {},
     "output_type": "execute_result"
    }
   ],
   "source": [
    "def count_consonants(string):\n",
    "    consonants = 0\n",
    "    vowels = \"aeiou\"\n",
    "\n",
    "    for char in string:\n",
    "        # Check if the character is an alphabet\n",
    "        if char.isalpha():\n",
    "            if char.lower() not in vowels:\n",
    "                consonants += 1\n",
    "\n",
    "    return consonants\n",
    "\n",
    "string = \"geeksforgeeks portal\"\n",
    "count_consonants(string)\n",
    "\n"
   ]
  },
  {
   "cell_type": "code",
   "execution_count": null,
   "id": "1adda579-d36c-42e4-983e-4cf94c11a1a6",
   "metadata": {},
   "outputs": [],
   "source": []
  }
 ],
 "metadata": {
  "kernelspec": {
   "display_name": "Python 3 (ipykernel)",
   "language": "python",
   "name": "python3"
  },
  "language_info": {
   "codemirror_mode": {
    "name": "ipython",
    "version": 3
   },
   "file_extension": ".py",
   "mimetype": "text/x-python",
   "name": "python",
   "nbconvert_exporter": "python",
   "pygments_lexer": "ipython3",
   "version": "3.10.6"
  }
 },
 "nbformat": 4,
 "nbformat_minor": 5
}
