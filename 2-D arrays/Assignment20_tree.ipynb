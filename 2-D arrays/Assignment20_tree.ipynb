{
 "cells": [
  {
   "cell_type": "markdown",
   "id": "ff076c88-5444-4e62-8d39-c5263a751dbd",
   "metadata": {},
   "source": [
    "<aside>\n",
    "💡 Question-1\n",
    "\n",
    "Given a binary tree, your task is to find subtree with maximum sum in tree.\n",
    "\n",
    "Examples:\n",
    "\n",
    "Input1 :       \n",
    "\n",
    "       1\n",
    "\n",
    "     /   \\\n",
    "\n",
    "   2      3\n",
    "\n",
    "  / \\    / \\\n",
    "\n",
    "4   5  6   7\n",
    "\n",
    "Output1 : 28\n",
    "\n",
    "As all the tree elements are positive, the largest subtree sum is equal to sum of all tree elements.\n",
    "\n",
    "Input2 :\n",
    "\n",
    "       1\n",
    "\n",
    "     /    \\\n",
    "\n",
    "  -2      3\n",
    "\n",
    "  / \\    /  \\\n",
    "\n",
    "4   5  -6   2\n",
    "\n",
    "Output2 : 7\n",
    "\n",
    "Subtree with largest sum is :\n",
    "\n",
    " -2\n",
    "\n",
    " / \\\n",
    "\n",
    "4   5\n",
    "\n",
    "Also, entire tree sum is also 7.\n",
    "\n",
    "</aside>"
   ]
  },
  {
   "cell_type": "code",
   "execution_count": 16,
   "id": "ef133195-435a-463e-93df-49042666de27",
   "metadata": {},
   "outputs": [],
   "source": [
    "class Node:\n",
    "    def __init__(self, root):\n",
    "        self.root = root\n",
    "        self.left = None\n",
    "        self.right = None\n",
    "\n",
    "def findMaxSubtreeSum(node):\n",
    "    if node is None:\n",
    "        return 0\n",
    "\n",
    "    leftSubtreeSum = findMaxSubtreeSum(node.left)\n",
    "    rightSubtreeSum = findMaxSubtreeSum(node.right)\n",
    "\n",
    "    subtreeSum = node.root + leftSubtreeSum + rightSubtreeSum\n",
    "\n",
    "    if subtreeSum > findMaxSubtreeSum.maxSum:\n",
    "        findMaxSubtreeSum.maxSum = subtreeSum\n",
    "\n",
    "    return subtreeSum\n",
    "\n",
    "def findMaxSubtree(node):\n",
    "    findMaxSubtreeSum.maxSum = float('-inf')\n",
    "    findMaxSubtreeSum(node)\n",
    "    return findMaxSubtreeSum.maxSum"
   ]
  },
  {
   "cell_type": "code",
   "execution_count": 17,
   "id": "fc299daf-c077-469c-a400-629bb3ffed68",
   "metadata": {},
   "outputs": [
    {
     "data": {
      "text/plain": [
       "7"
      ]
     },
     "execution_count": 17,
     "metadata": {},
     "output_type": "execute_result"
    }
   ],
   "source": [
    "root = Node(1)\n",
    "root.left = Node(-2)\n",
    "root.right = Node(3)\n",
    "root.left.left = Node(4)\n",
    "root.left.right = Node(5)\n",
    "root.right.left = Node(-6)\n",
    "root.right.right = Node(2)\n",
    "# maxSum = findMaxSubtree(root)\n",
    "# print(\"Maximum subtree sum:\", maxSum)\n",
    "findMaxSubtree(root)\n",
    "# findMaxSubtreeSum(root)"
   ]
  },
  {
   "cell_type": "code",
   "execution_count": 18,
   "id": "c00120a2-ae0e-421b-ad63-292db69bbc64",
   "metadata": {},
   "outputs": [
    {
     "name": "stdout",
     "output_type": "stream",
     "text": [
      "Maximum subtree sum: 28\n"
     ]
    }
   ],
   "source": [
    "root = Node(1)\n",
    "root.left = Node(2)\n",
    "root.right = Node(3)\n",
    "root.left.left = Node(4)\n",
    "root.left.right = Node(5)\n",
    "root.right.left = Node(6)\n",
    "root.right.right = Node(7)\n",
    "maxSum = findMaxSubtree(root)\n",
    "print(\"Maximum subtree sum:\", maxSum)\n"
   ]
  },
  {
   "cell_type": "markdown",
   "id": "1eebf5fa-90e3-4563-b101-044e4f066d2a",
   "metadata": {},
   "source": [
    "<aside>\n",
    "💡 Question-2\n",
    "\n",
    "Construct the BST (Binary Search Tree) from its given level order traversal.\n",
    "\n",
    "Example:\n",
    "\n",
    "Input: arr[] = {7, 4, 12, 3, 6, 8, 1, 5, 10}\n",
    "\n",
    "Output: BST:\n",
    "\n",
    "            7\n",
    "\n",
    "         /    \\\n",
    "\n",
    "       4     12\n",
    "\n",
    "     /  \\     /\n",
    "\n",
    "    3   6  8\n",
    "\n",
    "   /    /     \\\n",
    "\n",
    " 1    5      10\n",
    "\n",
    "</aside>"
   ]
  },
  {
   "cell_type": "code",
   "execution_count": 80,
   "id": "9927851d-2efe-41f7-87ec-288ccde48da5",
   "metadata": {},
   "outputs": [],
   "source": [
    "class Node:\n",
    "    def __init__(self, value):\n",
    "        self.value = value\n",
    "        self.left = None\n",
    "        self.right = None\n",
    "\n",
    "def constructBST(arr):\n",
    "    if not arr:\n",
    "        return None\n",
    "\n",
    "    # Create the root node using the first element of the level order traversal array\n",
    "    root = Node(arr[0])\n",
    "    queue = [root]  # Initialize a queue with the root node\n",
    "\n",
    "    # Start from the second element in the level order traversal array\n",
    "    for i in range(1, len(arr)):\n",
    "        parent = queue[0]  # Get the front of the queue as the parent node\n",
    "        # Create a new node with the current element and assign it as the left child of the parent\n",
    "        if parent.left is None:\n",
    "            parent.left = Node(arr[i])\n",
    "            queue.append(parent.left)  # Enqueue the new left child node\n",
    "        else:\n",
    "            # If the left child already exists, create a new node as the right child of the parent\n",
    "            parent.right = Node(arr[i])\n",
    "            queue.append(parent.right)  # Enqueue the new right child node\n",
    "            queue.pop(0)  # Remove the parent node from the queue since both children are now assigned\n",
    "    return root  # Return the root node of the constructed BST\n",
    "\n",
    "def inorderTraversal(node):\n",
    "    if node is None:\n",
    "        return []\n",
    "\n",
    "    result = []\n",
    "    result.extend(inorderTraversal(node.left))\n",
    "    result.append(node.value)\n",
    "    result.extend(inorderTraversal(node.right))\n",
    "\n",
    "    return result\n"
   ]
  },
  {
   "cell_type": "code",
   "execution_count": 81,
   "id": "1b32b3c8-932c-4204-a784-a60baefc2bd2",
   "metadata": {},
   "outputs": [
    {
     "name": "stdout",
     "output_type": "stream",
     "text": [
      "Inorder traversal of constructed BST: [5, 3, 10, 4, 6, 7, 8, 12, 1]\n"
     ]
    }
   ],
   "source": [
    "arr = [7, 4, 12, 3, 6, 8, 1, 5, 10]\n",
    "root=constructBST(arr)\n",
    "\n",
    "inorder = inorderTraversal(root)\n",
    "print(\"Inorder traversal of constructed BST:\", inorder)\n"
   ]
  },
  {
   "cell_type": "markdown",
   "id": "5dd98455-f1bd-4db6-9f35-47505248690c",
   "metadata": {},
   "source": [
    "<aside>\n",
    "💡 Question-3\n",
    "\n",
    "Given an array of size n. The problem is to check whether the given array can represent the level order traversal of a Binary Search Tree or not.\n",
    "\n",
    "Examples:\n",
    "\n",
    "Input1 : arr[] = {7, 4, 12, 3, 6, 8, 1, 5, 10}\n",
    "\n",
    "Output1 : Yes\n",
    "\n",
    "For the given arr[], the Binary Search Tree is:\n",
    "\n",
    "            7\n",
    "\n",
    "         /    \\\n",
    "\n",
    "       4     12\n",
    "\n",
    "     /  \\     /\n",
    "\n",
    "    3   6  8\n",
    "\n",
    "   /    /     \\\n",
    "\n",
    " 1    5      10\n",
    "\n",
    "Input2 : arr[] = {11, 6, 13, 5, 12, 10}\n",
    "\n",
    "Output2 : No\n",
    "\n",
    "The given arr[] does not represent the level order traversal of a BST.\n",
    "\n",
    "</aside>"
   ]
  },
  {
   "cell_type": "code",
   "execution_count": 125,
   "id": "97ed5a48-b47b-45d8-af4a-f3059f390889",
   "metadata": {},
   "outputs": [],
   "source": [
    "def canRepresentBST(arr):\n",
    "    n = len(arr)\n",
    "\n",
    "    if n == 0:\n",
    "        return True\n",
    "\n",
    "    stack = []\n",
    "    root = float('-inf')\n",
    "    i = 0\n",
    "\n",
    "    while i < n:\n",
    "        if arr[i] < root:\n",
    "            return False\n",
    "\n",
    "        while len(stack) > 0 and arr[i] > stack[-1]:\n",
    "            root = stack.pop()\n",
    "\n",
    "        stack.append(arr[i])\n",
    "        i += 1\n",
    "\n",
    "    return True"
   ]
  },
  {
   "cell_type": "code",
   "execution_count": 128,
   "id": "dd0de98f-1f9e-4b5a-a6a3-ed509b4b5b86",
   "metadata": {},
   "outputs": [
    {
     "name": "stdout",
     "output_type": "stream",
     "text": [
      "Can represent level order traversal of BST: True\n"
     ]
    }
   ],
   "source": [
    "arr1 = [7, 4, 12, 3, 6, 8, 1, 5, 10]\n",
    "result1 = constructBST(arr1)\n",
    "print(\"Can represent level order traversal of BST:\", result1)"
   ]
  },
  {
   "cell_type": "code",
   "execution_count": 129,
   "id": "553b8dda-299b-46a2-bbcc-c7a65137ef1b",
   "metadata": {},
   "outputs": [
    {
     "name": "stdout",
     "output_type": "stream",
     "text": [
      "False\n"
     ]
    }
   ],
   "source": [
    "def canRepresentBST(arr):\n",
    "    n = len(arr)\n",
    "\n",
    "    if n == 0:\n",
    "        return True\n",
    "\n",
    "    stack = []\n",
    "    root = float('-inf')\n",
    "    i = 0\n",
    "\n",
    "    while i < n:\n",
    "        if arr[i] < root:\n",
    "            return False\n",
    "\n",
    "        while len(stack) > 0 and arr[i] > stack[-1]:\n",
    "            root = stack.pop()\n",
    "\n",
    "        stack.append(arr[i])\n",
    "        i += 1\n",
    "\n",
    "    return True\n",
    "\n",
    "\n",
    "arr2 = [11, 6, 13, 5, 12, 10]\n",
    "print(canRepresentBST(arr2))  # Output: False\n"
   ]
  },
  {
   "cell_type": "code",
   "execution_count": null,
   "id": "954c5e73-7034-4cc3-9dcd-e55218480656",
   "metadata": {},
   "outputs": [],
   "source": []
  }
 ],
 "metadata": {
  "kernelspec": {
   "display_name": "Python 3 (ipykernel)",
   "language": "python",
   "name": "python3"
  },
  "language_info": {
   "codemirror_mode": {
    "name": "ipython",
    "version": 3
   },
   "file_extension": ".py",
   "mimetype": "text/x-python",
   "name": "python",
   "nbconvert_exporter": "python",
   "pygments_lexer": "ipython3",
   "version": "3.10.6"
  }
 },
 "nbformat": 4,
 "nbformat_minor": 5
}
