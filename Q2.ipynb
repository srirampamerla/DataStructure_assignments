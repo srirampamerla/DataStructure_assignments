{
 "cells": [
  {
   "cell_type": "code",
   "execution_count": 4,
   "id": "01b6316c-b3a7-4917-aa76-56e0b25525d7",
   "metadata": {},
   "outputs": [],
   "source": [
    "def first_unique_char(s):\n",
    "    char_count = {}\n",
    "# Count the occurrences of each character\n",
    "    for char in s:\n",
    "        if char in char_count:\n",
    "            char_count[char] += 1\n",
    "        else:\n",
    "            char_count[char] = 1\n",
    "# Find the index of the first non-repeating character\n",
    "    for i, char in enumerate(s):\n",
    "        if char_count[char] == 1:\n",
    "            print(f\"The first unique char with index is {char}--{i}\")\n",
    "            return i\n",
    "    return -1\n"
   ]
  },
  {
   "cell_type": "code",
   "execution_count": 5,
   "id": "6b32d68a-e916-4742-8ee1-3db8296ab2c7",
   "metadata": {},
   "outputs": [
    {
     "name": "stdout",
     "output_type": "stream",
     "text": [
      "The first unique char with index is l--0\n"
     ]
    },
    {
     "data": {
      "text/plain": [
       "0"
      ]
     },
     "execution_count": 5,
     "metadata": {},
     "output_type": "execute_result"
    }
   ],
   "source": [
    "s = \"leetcode\"\n",
    "first_unique_char(s)"
   ]
  },
  {
   "cell_type": "code",
   "execution_count": 6,
   "id": "33b3c85e-6755-4498-91e0-f9122b3c23d4",
   "metadata": {},
   "outputs": [
    {
     "name": "stdout",
     "output_type": "stream",
     "text": [
      "The first unique char with index is v--2\n"
     ]
    },
    {
     "data": {
      "text/plain": [
       "2"
      ]
     },
     "execution_count": 6,
     "metadata": {},
     "output_type": "execute_result"
    }
   ],
   "source": [
    "s=\"loveleetcode\"\n",
    "first_unique_char(s)"
   ]
  },
  {
   "cell_type": "code",
   "execution_count": 7,
   "id": "cd022c81-6db8-4afe-9977-037b9956b69b",
   "metadata": {},
   "outputs": [
    {
     "data": {
      "text/plain": [
       "-1"
      ]
     },
     "execution_count": 7,
     "metadata": {},
     "output_type": "execute_result"
    }
   ],
   "source": [
    "s = \"aabb\"\n",
    "first_unique_char(s)"
   ]
  },
  {
   "cell_type": "code",
   "execution_count": null,
   "id": "f581f100-6d8c-40d7-84b1-da476a8a73a6",
   "metadata": {},
   "outputs": [],
   "source": []
  }
 ],
 "metadata": {
  "kernelspec": {
   "display_name": "Python 3 (ipykernel)",
   "language": "python",
   "name": "python3"
  },
  "language_info": {
   "codemirror_mode": {
    "name": "ipython",
    "version": 3
   },
   "file_extension": ".py",
   "mimetype": "text/x-python",
   "name": "python",
   "nbconvert_exporter": "python",
   "pygments_lexer": "ipython3",
   "version": "3.10.6"
  }
 },
 "nbformat": 4,
 "nbformat_minor": 5
}
