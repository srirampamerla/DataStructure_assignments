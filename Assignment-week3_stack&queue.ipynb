{
 "cells": [
  {
   "cell_type": "markdown",
   "id": "b9041719-943c-437e-96fa-d03e8df63b54",
   "metadata": {},
   "source": [
    "Implement a stack using a list in Python. Include the necessary methods such as push, pop, and isEmpty."
   ]
  },
  {
   "cell_type": "code",
   "execution_count": 25,
   "id": "5d745fec-3bc1-46f1-917e-d9054b249bea",
   "metadata": {},
   "outputs": [],
   "source": [
    "class Stack:\n",
    "    def __init__(self):\n",
    "        self.stack = []\n",
    "\n",
    "    def push(self, item):\n",
    "        self.stack.append(item)\n",
    "\n",
    "    def pop(self):\n",
    "        if self.is_empty():\n",
    "            return None\n",
    "        return self.stack.pop()\n",
    "\n",
    "    def is_empty(self):\n",
    "        return len(self.stack) == 0"
   ]
  },
  {
   "cell_type": "code",
   "execution_count": 26,
   "id": "a20a2024-c953-4047-b6d1-b9c4065a21c1",
   "metadata": {},
   "outputs": [
    {
     "name": "stdout",
     "output_type": "stream",
     "text": [
      "values in the stack [1, 2, 3, 30, 5]\n",
      "5\n",
      "30\n",
      "values in the stack [1, 2, 3]\n",
      "False\n",
      "3\n",
      "2\n",
      "1\n",
      "True\n"
     ]
    }
   ],
   "source": [
    "stack = Stack()\n",
    "stack.push(1)\n",
    "stack.push(2)\n",
    "stack.push(3)\n",
    "stack.push(30)\n",
    "stack.push(5)\n",
    "values = stack.stack\n",
    "print(\"values in the stack\",values)\n",
    "print(stack.pop())  #top element  in stack will be moved out\n",
    "print(stack.pop())\n",
    "print(\"values in the stack\",values)\n",
    "print(stack.is_empty()) #If empty it will print true\n",
    "print(stack.pop())\n",
    "print(stack.pop())\n",
    "print(stack.pop())\n",
    "print(stack.is_empty())  \n"
   ]
  },
  {
   "cell_type": "markdown",
   "id": "a2f43dfb-d7b1-4c26-9a75-30b50b7f3d9c",
   "metadata": {},
   "source": [
    "Implement a queue using a list in Python. Include the necessary methods such as enqueue, dequeue, and isEmpty."
   ]
  },
  {
   "cell_type": "code",
   "execution_count": 27,
   "id": "be709e01-7588-4fa6-a88e-e2c04f61854f",
   "metadata": {},
   "outputs": [],
   "source": [
    "class Queue:\n",
    "    def __init__(self):\n",
    "        self.queue = []\n",
    "\n",
    "    def enqueue(self, item):\n",
    "        self.queue.append(item)\n",
    "\n",
    "    def dequeue(self):\n",
    "        if self.is_empty():\n",
    "            return None\n",
    "        return self.queue.pop(0)\n",
    "\n",
    "    def is_empty(self):\n",
    "        return len(self.queue) == 0\n"
   ]
  },
  {
   "cell_type": "code",
   "execution_count": 28,
   "id": "32572a62-0d61-471f-a1ae-9638aad1d47e",
   "metadata": {},
   "outputs": [
    {
     "name": "stdout",
     "output_type": "stream",
     "text": [
      "values in the stack [1, 2, 3, 30, 5]\n",
      "1\n",
      "2\n",
      "values in the stack [3, 30, 5]\n",
      "False\n",
      "3\n",
      "30\n",
      "5\n",
      "True\n"
     ]
    }
   ],
   "source": [
    "queue = Queue()\n",
    "queue.enqueue(1)\n",
    "queue.enqueue(2)\n",
    "queue.enqueue(3)\n",
    "queue.enqueue(30)\n",
    "queue.enqueue(5)\n",
    "values = queue.queue\n",
    "print(\"values in the stack\",values)\n",
    "print(queue.dequeue())  #top element  in stack will be moved out\n",
    "print(queue.dequeue())\n",
    "print(\"values in the stack\",values)\n",
    "print(queue.is_empty()) #If empty it will print true\n",
    "print(queue.dequeue())\n",
    "print(queue.dequeue())\n",
    "print(queue.dequeue())\n",
    "print(queue.is_empty())  \n"
   ]
  },
  {
   "cell_type": "code",
   "execution_count": null,
   "id": "d6f9ac04-5f8a-459a-9297-38a5dada75da",
   "metadata": {},
   "outputs": [],
   "source": []
  }
 ],
 "metadata": {
  "kernelspec": {
   "display_name": "Python 3 (ipykernel)",
   "language": "python",
   "name": "python3"
  },
  "language_info": {
   "codemirror_mode": {
    "name": "ipython",
    "version": 3
   },
   "file_extension": ".py",
   "mimetype": "text/x-python",
   "name": "python",
   "nbconvert_exporter": "python",
   "pygments_lexer": "ipython3",
   "version": "3.10.6"
  }
 },
 "nbformat": 4,
 "nbformat_minor": 5
}
